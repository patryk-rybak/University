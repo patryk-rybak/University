{
 "cells": [
  {
   "cell_type": "code",
   "execution_count": 1,
   "metadata": {},
   "outputs": [
    {
     "name": "stderr",
     "output_type": "stream",
     "text": [
      "/home/patryk/myenv/lib/python3.12/site-packages/tqdm/auto.py:21: TqdmWarning: IProgress not found. Please update jupyter and ipywidgets. See https://ipywidgets.readthedocs.io/en/stable/user_install.html\n",
      "  from .autonotebook import tqdm as notebook_tqdm\n"
     ]
    }
   ],
   "source": [
    "import random\n",
    "import torch\n",
    "import gc\n",
    "import matplotlib.pyplot as plt\n",
    "\n",
    "from transformers import AutoTokenizer, AutoModelForCausalLM, set_seed\n",
    "from torch.nn import functional as F\n",
    "from transformers import logging\n",
    "logging.set_verbosity_error()\n",
    "\n",
    "# model_name = 'flax-community/papuGaPT2'\n",
    "model_name = 'eryk-mazus/polka-1.1b' # Context size: 2,048 tokens.\n",
    "device = 'cpu'\n",
    "set_seed(42)"
   ]
  },
  {
   "cell_type": "code",
   "execution_count": 2,
   "metadata": {},
   "outputs": [
    {
     "data": {
      "text/plain": [
       "145"
      ]
     },
     "execution_count": 2,
     "metadata": {},
     "output_type": "execute_result"
    }
   ],
   "source": [
    "tokenizer = AutoTokenizer.from_pretrained(model_name)\n",
    "model = AutoModelForCausalLM.from_pretrained(model_name)\n",
    "gc.collect()"
   ]
  },
  {
   "cell_type": "code",
   "execution_count": 3,
   "metadata": {},
   "outputs": [
    {
     "data": {
      "text/plain": [
       "'2 - 1 = 1\\n5 - 4 = 1\\n4 - 3 = 1\\n2 - 9 = -7\\n2 - 7 = -5\\n1 - 1 = 0\\n2 - 4 = -2\\n4 - 9 = -5\\n1 - 9 = -8\\n4 - 9 = -5'"
      ]
     },
     "execution_count": 3,
     "metadata": {},
     "output_type": "execute_result"
    }
   ],
   "source": [
    "def generate_examples(digits, n_exampels, operator_string):\n",
    "    assert operator_string in {\"*\", \"+\", \"-\"}\n",
    "    res = list()\n",
    "    counter = n_exampels\n",
    "    min_number = 10**(digits-1)\n",
    "    max_number = 10**digits - 1\n",
    "\n",
    "    while counter > 0:\n",
    "        num1 = random.randint(min_number, max_number)\n",
    "        num2 = random.randint(min_number, max_number)\n",
    "        res.append(f\"{num1} {operator_string} {num2} = {eval(f\"{num1} {operator_string} {num2}\")}\")\n",
    "        counter -= 1\n",
    "    return '\\n'.join(res)\n",
    "\n",
    "generate_examples(1, 10, \"-\")"
   ]
  },
  {
   "cell_type": "code",
   "execution_count": 30,
   "metadata": {},
   "outputs": [],
   "source": [
    "def perform_test(digits, few_shot__examples, operator_string):\n",
    "    assert operator_string in {\"*\", \"+\", \"-\"}\n",
    "    correct = 0\n",
    "    incorrect = 0\n",
    "    start_prompt = f\"Przykładowe dodawania liczb\\n{generate_examples(digits, few_shot__examples, operator_string)}\\n\"\n",
    "\n",
    "    for num1 in range(10**(digits-1) + 1):\n",
    "        for num2 in range(10**digits):\n",
    "            prompt = start_prompt + f\"{num1} {operator_string} {num2} =\" # nie wiem czy dawac spacje na koniec\n",
    "            inputs = tokenizer(prompt, return_tensors=\"pt\")\n",
    "            outputs = model.generate(**inputs, max_length=150, max_new_tokens=(digits*2)+1)\n",
    "            result = tokenizer.decode(outputs[0], skip_special_tokens=True)\n",
    "\n",
    "            if bool(eval(result.strip().split('\\n')[-1].replace(\"=\", '=='))): correct += 1\n",
    "            else: incorrect += 1\n",
    "\n",
    "    return correct, incorrect"
   ]
  },
  {
   "cell_type": "code",
   "execution_count": 31,
   "metadata": {},
   "outputs": [],
   "source": [
    "def plot_results(correct, incorrect):\n",
    "    # Dane do wykresu\n",
    "    categories = ['Correct', 'Incorrect']\n",
    "    values = [correct, incorrect]\n",
    "\n",
    "    # Tworzenie wykresu słupkowego\n",
    "    plt.figure(figsize=(8, 6))\n",
    "    plt.bar(categories, values, color=['green', 'red'])\n",
    "    plt.xlabel('Categories')\n",
    "    plt.ylabel('Number of Answers')\n",
    "    plt.title('Comparison of Correct and Incorrect Answers')\n",
    "    plt.ylim(0, max(values) + 10)  # Ustawienie limitu osi Y\n",
    "\n",
    "    # Dodanie wartości na słupkach\n",
    "    for i, value in enumerate(values):\n",
    "        plt.text(i, value + 1, str(value), ha='center')\n",
    "\n",
    "    # Wyświetlenie wykresu\n",
    "    plt.show()"
   ]
  },
  {
   "cell_type": "code",
   "execution_count": null,
   "metadata": {},
   "outputs": [],
   "source": [
    "res = {\"addition\": {}, \"subtraction\": {}, \"multiplication\": {}}"
   ]
  },
  {
   "cell_type": "code",
   "execution_count": 32,
   "metadata": {},
   "outputs": [
    {
     "data": {
      "image/png": "[encoded data removed]",
      "text/plain": [
       "<Figure size 800x600 with 1 Axes>"
      ]
     },
     "metadata": {},
     "output_type": "display_data"
    }
   ],
   "source": [
    "for i in range(1, 3):\n",
    "    res[\"addidtion\"][i] = perform_test(digits=1, few_shot__examples=10, operator_string=\"+\")\n",
    "    res[\"subtraction\"][i] = perform_test(digits=1, few_shot__examples=10, operator_string=\"+\")\n",
    "    res[\"multiplication\"][i] = perform_test(digits=1, few_shot__examples=10, operator_string=\"+\")"
   ]
  },
  {
   "cell_type": "code",
   "execution_count": null,
   "metadata": {},
   "outputs": [],
   "source": []
  }
 ],
 "metadata": {
  "kernelspec": {
   "display_name": "myenv",
   "language": "python",
   "name": "python3"
  },
  "language_info": {
   "codemirror_mode": {
    "name": "ipython",
    "version": 3
   },
   "file_extension": ".py",
   "mimetype": "text/x-python",
   "name": "python",
   "nbconvert_exporter": "python",
   "pygments_lexer": "ipython3",
   "version": "3.12.5"
  }
 },
 "nbformat": 4,
 "nbformat_minor": 2
}
