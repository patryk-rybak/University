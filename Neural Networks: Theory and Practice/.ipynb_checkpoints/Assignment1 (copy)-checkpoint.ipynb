{
 "cells": [
  {
   "cell_type": "markdown",
   "metadata": {
    "cell_id": "00001-caefeb56-f9c5-4f9e-a096-b89246dc63d7",
    "deepnote_app_coordinates": {
     "h": 5,
     "w": 12,
     "x": 0,
     "y": 6
    },
    "deepnote_cell_type": "markdown",
    "id": "CGXgWugfJ0Vl"
   },
   "source": [
    "## Assignment 1\n",
    "\n",
    "**Submission deadlines:** \n",
    "- get at least **2** points by Tuesday, 27.02.2024\n",
    "- remaining points: last lab session before or on Tuesday, 05.03.2023\n",
    "\n",
    "**Points:** Aim to get 8 out of 14 possible points\n",
    "\n",
    "## Submission instructions\n",
    "The class is held on-site in lab rooms. Please prepare you notebook on your computer or anywhere in the cloud (try using DeepNote or Google Colab).\n",
    "\n",
    "Make sure you know all the questions and asnwers, and that the notebook contains results; before presentation do `Runtime -> Restart and run all`\n",
    "![Picture title](image-20220302-183151.png)\n",
    "\n",
    "We provide starter code, however you are not required to use it as long as you properly solve the tasks.\n"
   ]
  },
  {
   "cell_type": "markdown",
   "metadata": {
    "cell_id": "00002-c92cc86e-f65f-4e16-9124-9ca4d4265c88",
    "deepnote_app_coordinates": {
     "h": 5,
     "w": 12,
     "x": 0,
     "y": 12
    },
    "deepnote_cell_type": "markdown",
    "id": "5S8iRaCPyO2a"
   },
   "source": [
    "# Task description\n",
    "\n",
    "## TLDR\n",
    "Implement and train a neural network using pure `torch`."
   ]
  },
  {
   "cell_type": "markdown",
   "metadata": {
    "cell_id": "00003-1893a0a0-4515-4960-bce8-37f660543eea",
    "deepnote_app_coordinates": {
     "h": 5,
     "w": 12,
     "x": 0,
     "y": 18
    },
    "deepnote_cell_type": "markdown",
    "id": "JHcz7I2V-bVM"
   },
   "source": [
    "\n",
    "## Problem 1 [2p]\n",
    "Implement a two-layer network, manually set weights and biases to solve the XOR task.\n",
    "\n",
    "A two-layer neural network implementes a function $f: \\mathbb{R}^D \\rightarrow \\mathbb{R}^O$ where $D$ is the input dimensionality and $O$ is the output dinemsionality. The output goes through an intermediate representation (the hidden layer) with dimensionality $H$. \n",
    "\n",
    "The computations are as follows:\n",
    "$$\n",
    "\\begin{aligned}\n",
    "A_1 &= x W_1^T + b_1  & \\qquad\\text{Total input to neurons in the hidden layer (network's first layer)} \\\\\n",
    "O_1 &= \\sigma_1(A_1)  & \\qquad\\text{Output of the hidden layer} \\\\\n",
    "A_2 &= O_1 W_2^T + b_2 & \\qquad\\text{Total input to neurons in the output layer (network's second layer)}\\\\\n",
    "O_2 &= \\sigma_2(A_2)  & \\qquad\\text{Output of the network}\n",
    "\\end{aligned}\n",
    "$$\n",
    "\n",
    "Where $W$ are weight matrices, $b$ are bias vectors, $\\sigma$ are non-linear activation functions (e.g. the logistic sigmoid applied element-wise, or softmax).\n",
    "\n",
    "For the 2D xor problem the network will:\n",
    "- have 2 inputs, 2 hidden neurons, one output\n",
    "- use the logistic sigmoid everywhere (that way we, when hand-designig the weights, we can assume that neurons' outputs are binary).\n",
    "\n",
    "Therrefore the shapes of the data flowing through the network will be:\n",
    "- input: $x\\in\\mathbb{}R^{2}$\n",
    "- hidden layer parameters: $W_1\\in\\mathbb{}R^{2\\times 2}$ and $b_1\\in\\mathbb{}R^{2}$\n",
    "- representations in the hidden layer: $A_1\\in\\mathbb{}R^{2}$ and $O_1\\in\\mathbb{}R^{2}$\n",
    "- output layer parameters: $W_2\\in\\mathbb{}R^{1\\times 2}$ and $b_2\\in\\mathbb{}R^{1}$\n",
    "- representations in the output layer: $A_2\\in\\mathbb{}R^{1}$ and $O_2\\in\\mathbb{}R^{1}$\n",
    "\n",
    "The network can be seen as a logistic regression model, prefixed by a nonlinear transformation of the data.\n",
    "\n",
    "The first tasks consists of:\n",
    "- implementing the network\n",
    "- selecting parametwrs ($W_1, b_1, W_2, b_2$) such that $f(x)\\approx XOR(x_1, x_2)$ where the approximation is die to the sigmoids - the output may be close to 0 or 1, but doesn't need to saturate at 0 or 1.\n",
    "\n",
    "NB: the convention on weight matrix shapes follows linear [layers in PyTorch](https://pytorch.org/docs/stable/generated/torch.nn.Linear.html).\n"
   ]
  },
  {
   "cell_type": "markdown",
   "metadata": {
    "cell_id": "00004-0d502510-cfd1-44da-b88c-da6aaf275617",
    "deepnote_app_coordinates": {
     "h": 5,
     "w": 12,
     "x": 0,
     "y": 24
    },
    "deepnote_cell_type": "markdown",
    "id": "0QSpZxuH-bLe"
   },
   "source": [
    "## Problem 2 [2p]\n",
    "1. Add a backward pass.\n",
    "2. Use a sensible random initialization for weights and biases.\n",
    "3. Numerically check the correctness of your gradient computation.\n",
    "\n",
    "There is nice article about taking derivative over vectors and vector chain rule: https://explained.ai/matrix-calculus/ if someone don't have experience with such calculus.\n"
   ]
  },
  {
   "cell_type": "markdown",
   "metadata": {
    "cell_id": "00005-96083315-f850-4103-946e-cc9b11377543",
    "deepnote_app_coordinates": {
     "h": 5,
     "w": 12,
     "x": 0,
     "y": 30
    },
    "deepnote_cell_type": "markdown",
    "id": "s1Tn8j0m-bAy"
   },
   "source": [
    "## Problem 3 [2p]\n",
    "1. Implement gradient descent\n",
    "2. Train your network to solve 3D XOR\n",
    "3. Try several hidden layer sizes, for each size record the fracton of successful trainings. Then answer:\n",
    "    - What is the minimal hidden size required to solve 3D XOR (even with low reliability, when the training has to be repeated multiple times)\n",
    "    - What is the minimal hidden size required to reliably solve 3D XOR\n",
    "    - Which networks are easier to train - small or large ones? Why?\n"
   ]
  },
  {
   "cell_type": "markdown",
   "metadata": {
    "cell_id": "00006-94cc4eb9-0202-4308-9a9e-007db44a6a98",
    "deepnote_app_coordinates": {
     "h": 5,
     "w": 12,
     "x": 0,
     "y": 36
    },
    "deepnote_cell_type": "markdown",
    "id": "RP9Pvpmf-a2A"
   },
   "source": [
    "## Problem 4 [1p]\n",
    "Replace the first nonlinearity with the [ReLU](https://en.wikipedia.org/wiki/Rectifier_(neural_networks)) activation function. Find a network architecture which reliably learns the 3D XOR problem.\n"
   ]
  },
  {
   "cell_type": "markdown",
   "metadata": {
    "cell_id": "00007-9e6e984c-5131-4333-837b-7e57c4bfb650",
    "deepnote_app_coordinates": {
     "h": 5,
     "w": 12,
     "x": 0,
     "y": 42
    },
    "deepnote_cell_type": "markdown",
    "id": "cGgtpe-w-asB"
   },
   "source": [
    "## Problem 5 [1p]\n",
    "Add a second hidden layer to your network, implement the forward and backward pass, then demonstrate training.\n"
   ]
  },
  {
   "cell_type": "markdown",
   "metadata": {
    "cell_id": "00008-86ea4bdd-83dc-4197-baad-d216fbacc786",
    "deepnote_app_coordinates": {
     "h": 5,
     "w": 12,
     "x": 0,
     "y": 48
    },
    "deepnote_cell_type": "markdown",
    "id": "Pe-pcFeO-aiE"
   },
   "source": [
    "## Problem 6 [2p]\n",
    "Implement a way to have a _variable number_ of hidden layers. Check how deep sigmoid or ReLU networks you  can train. For simplicity you can assume that all hidden layers have the same number of neurons, and use the same activation function.\n"
   ]
  },
  {
   "cell_type": "markdown",
   "metadata": {},
   "source": [
    "## Problem 7 [2p]\n",
    "Consider the following function $\\boldsymbol f: \\mathbb R^n \\to \\mathbb R^k$:\n",
    "$$ \\hat{\\boldsymbol y} := \\boldsymbol f(\\boldsymbol x\\,;\\,\\,W, \\boldsymbol b) = \\mathrm{softmax}(\\boldsymbol z) \\qquad (\\boldsymbol x \\in \\mathbb R^{n}, \\, W \\in\\mathbb R^{k\\times n}, \\, \\boldsymbol b \\in \\mathbb R^k), $$\n",
    "where $$ \\boldsymbol z = W  \\boldsymbol x + \\boldsymbol b $$\n",
    "and $W, \\boldsymbol b$ are the parameters.\n",
    "\n",
    "Analytically derive the form of the following gradients:\n",
    "\n",
    "$$ \\frac{\\partial \\hat{\\boldsymbol y}}{\\boldsymbol z} = \\ldots $$\n",
    "\n",
    "$$ \\frac{\\partial \\hat{\\boldsymbol y}}{W_{ij}} = \\ldots $$\n",
    "\n",
    "$$ \\frac{\\partial \\hat{\\boldsymbol y}}{\\boldsymbol b} = \\ldots $$"
   ]
  },
  {
   "cell_type": "markdown",
   "metadata": {
    "cell_id": "00010-954fd65b-4d81-4bbc-bf6b-4d10d50be9b8",
    "deepnote_app_coordinates": {
     "h": 5,
     "w": 12,
     "x": 0,
     "y": 60
    },
    "deepnote_cell_type": "markdown",
    "id": "rXJaoHSH0DZO"
   },
   "source": [
    "# Solutions and starter code"
   ]
  },
  {
   "cell_type": "code",
   "execution_count": 1,
   "metadata": {
    "ExecuteTime": {
     "end_time": "2024-02-17T11:44:28.263962Z",
     "start_time": "2024-02-17T11:44:27.307173Z"
    },
    "cell_id": "00011-97f2c7fe-a3d5-4a6b-bc12-8a96bfeed475",
    "deepnote_app_coordinates": {
     "h": 5,
     "w": 12,
     "x": 0,
     "y": 66
    },
    "deepnote_cell_type": "code",
    "id": "YiTEWD2oqW0Y"
   },
   "outputs": [],
   "source": [
    "import matplotlib.pyplot as plt\n",
    "import torch"
   ]
  },
  {
   "cell_type": "markdown",
   "metadata": {
    "cell_id": "00012-8bc44e88-e665-483d-89fc-c866879ad335",
    "deepnote_app_coordinates": {
     "h": 5,
     "w": 12,
     "x": 0,
     "y": 72
    },
    "deepnote_cell_type": "markdown",
    "id": "eqtfJKR40J3x"
   },
   "source": [
    "XOR dataset creation"
   ]
  },
  {
   "cell_type": "code",
   "execution_count": 2,
   "metadata": {
    "ExecuteTime": {
     "end_time": "2024-02-17T11:46:08.448211Z",
     "start_time": "2024-02-17T11:46:08.287486Z"
    }
   },
   "outputs": [
    {
     "data": {
      "text/plain": [
       "(-0.05, 1.05, -0.05, 1.05)"
      ]
     },
     "execution_count": 2,
     "metadata": {},
     "output_type": "execute_result"
    },
    {
     "data": {
      "image/png": "[encoded data removed]",
      "text/plain": [
       "<Figure size 640x480 with 1 Axes>"
      ]
     },
     "metadata": {},
     "output_type": "display_data"
    }
   ],
   "source": [
    "# Let's define a XOR dataset\n",
    "\n",
    "# X will be matrix of N 2-dimensional inputs\n",
    "X = torch.tensor([[0, 0], [0, 1], [1, 0], [1, 1],], dtype=torch.float64)\n",
    "# Y is a matrix of N numners - answers\n",
    "Y = torch.tensor([[0], [1], [1], [0],], dtype=torch.float64)\n",
    "\n",
    "plt.scatter(\n",
    "    X[:, 0], X[:, 1], c=Y[:, 0],\n",
    ")\n",
    "plt.xlabel(\"X[0]\")\n",
    "plt.ylabel(\"X[1]\")\n",
    "plt.axis(\"square\")"
   ]
  },
  {
   "cell_type": "markdown",
   "metadata": {
    "cell_id": "00014-fe501b87-4247-497d-a7c7-f528483d31cc",
    "deepnote_app_coordinates": {
     "h": 5,
     "w": 12,
     "x": 0,
     "y": 84
    },
    "deepnote_cell_type": "markdown",
    "id": "Rb3azMn929_I"
   },
   "source": [
    "## Problem 1"
   ]
  },
  {
   "cell_type": "markdown",
   "metadata": {
    "cell_id": "00015-97a3483d-0ae6-4bee-afd5-6226abc622a5",
    "deepnote_app_coordinates": {
     "h": 5,
     "w": 12,
     "x": 0,
     "y": 90
    },
    "deepnote_cell_type": "markdown",
    "id": "RZCM_hdELE04"
   },
   "source": [
    "The code below contains a mock-up of a two-layer neural network. Fill in the code and manually set weights to solve the XOR problem.\n",
    "\n",
    "Please note: the shapes are set to be compatible with PyTorch's conventions:\n",
    "* a batch containing $N$ $D$-dimensional examples has shape $N\\times D$ (each example is a row!)\n",
    "* a weight matrix in a linear layer with $I$ inputs and $O$ outputs has shape $O \\times I$\n",
    "* a bias vector is a 1D vector. Please note that [broadcasting rules](https://docs.scipy.org/doc/numpy/user/basics.broadcasting.html) allow us to think about it as a $1 \\times D$ matrix."
   ]
  },
  {
   "cell_type": "code",
   "execution_count": 3,
   "metadata": {},
   "outputs": [],
   "source": [
    "def sigmoid(x):\n",
    "    return 1 / (1 + torch.exp(-x))\n",
    "\n",
    "def relu(x):\n",
    "    x = x.clone()\n",
    "    return torch.max(torch.tensor(0), x)"
   ]
  },
  {
   "cell_type": "code",
   "execution_count": 4,
   "metadata": {
    "cell_id": "00016-87dd53c6-4f21-4286-8a85-61c2a92fa819",
    "deepnote_app_coordinates": {
     "h": 5,
     "w": 12,
     "x": 0,
     "y": 96
    },
    "deepnote_cell_type": "code",
    "id": "lrrRuk6zLiF0"
   },
   "outputs": [],
   "source": [
    "class SmallNet:\n",
    "    def __init__(self, in_features: int, num_hidden: int, dtype=torch.float64):\n",
    "        self.W1 = torch.zeros((num_hidden, in_features), dtype=dtype)\n",
    "        self.b1 = torch.zeros((num_hidden,), dtype=dtype)\n",
    "        self.W2 = torch.zeros((1, num_hidden), dtype=dtype)\n",
    "        self.b2 = torch.zeros((1,), dtype=dtype)\n",
    "        self.init_params()\n",
    "\n",
    "    def init_params(self):\n",
    "        # TODO for Problem 2:\n",
    "        # set all parameters to small random values, e.g. from N(0, 0.5)\n",
    "        a = torch.sqrt(torch.tensor(0.5))\n",
    "        self.W1 = torch.randn_like(self.W1) * a\n",
    "        self.b1 = torch.randn_like(self.b1) * a\n",
    "        self.W2 = torch.randn_like(self.W2) * a\n",
    "        self.b2 = torch.randn_like(self.b2) * a\n",
    "\n",
    "    def forward(self, X, Y=None, do_backward=False, activation_f=sigmoid):\n",
    "        # TODO Problem 1: Fill in details of forward propagation\n",
    "\n",
    "        # Input to neurons in 1st layer\n",
    "        A1 = torch.matmul(self.W1, X.t()) + self.b1.view(-1, 1)\n",
    "        # Outputs after the sigmoid non-linearity\n",
    "        O1 = activation_f(A1)\n",
    "        # Inputs to neuron in the second layer\n",
    "        A2 = torch.matmul(self.W2, O1) + self.b2\n",
    "        # Outputs after the sigmoid non-linearity\n",
    "        O2 = sigmoid(A2)\n",
    "\n",
    "        # When Y is none, simply return the predictions. Else compute the loss\n",
    "        if Y is not None:\n",
    "            # loss = -Y * torch.log(O2) - (1.0 - Y) * torch.log(1.0 - O2)\n",
    "            loss = -(Y * torch.log(O2.view(-1,1)) + (1.0 - Y) * torch.log(1.0 - O2.view(-1,1)))\n",
    "            # normalize loss by batch size\n",
    "            loss = loss.sum() / X.shape[0]\n",
    "        else:\n",
    "            loss = torch.nan\n",
    "\n",
    "        if do_backward:\n",
    "            # TODO in Problem 2:\n",
    "            # fill in the gradient computation\n",
    "            # Please note, that there is a correspondance between\n",
    "            # the forward and backward pass: with backward computations happening\n",
    "            # in reverse order.\n",
    "            # We save the gradients with respect to the parameters as fields of self.\n",
    "            # It is not very elegant, but simplifies training code later on.\n",
    "\n",
    "            # A2_grad is the gradient of loss with respect to A2\n",
    "            # Hint: there is a concise formula for the gradient\n",
    "            # of logistic sigmoid and cross-entropy loss\n",
    "            \n",
    "            A2_grad = O2 - Y.t()\n",
    "            self.b2_grad = A2_grad.sum(1) / X.shape[0]\n",
    "            self.W2_grad = torch.mm(A2_grad, O1.t()) / X.shape[0]\n",
    "            O1_grad = torch.mm(A2_grad.t(), self.W2).t()\n",
    "            if activation_f == sigmoid: A1_grad = O1_grad * sigmoid(A1) * (1 - sigmoid(A1))\n",
    "            if activation_f == relu: A1_grad = O1_grad * torch.where(A1 > 0, torch.tensor(1), torch.tensor(0))\n",
    "            self.b1_grad = A1_grad.sum(1) / X.shape[0]\n",
    "            self.W1_grad = torch.mm(A1_grad, X) / X.shape[0]\n",
    "\n",
    "        return O2, loss"
   ]
  },
  {
   "cell_type": "code",
   "execution_count": 5,
   "metadata": {
    "cell_id": "00017-32ce9293-0a37-4397-aeac-25eef428e8d4",
    "colab": {
     "base_uri": "https://localhost:8080/"
    },
    "deepnote_app_coordinates": {
     "h": 5,
     "w": 12,
     "x": 0,
     "y": 102
    },
    "deepnote_cell_type": "code",
    "id": "jJswvBk0oiIY",
    "outputId": "e6559317-7afa-4509-fbac-4880e73b91cc"
   },
   "outputs": [
    {
     "name": "stdout",
     "output_type": "stream",
     "text": [
      "XORtensor([0., 0.], dtype=torch.float64) = 2.0611536181902037e-09\n",
      "XORtensor([0., 1.], dtype=torch.float64) = 1.0\n",
      "XORtensor([1., 0.], dtype=torch.float64) = 1.0\n",
      "XORtensor([1., 1.], dtype=torch.float64) = 2.0611536181902037e-09\n"
     ]
    }
   ],
   "source": [
    "# # TODO Problem 1:\n",
    "# # Set by hand the weight values to solve the XOR problem\n",
    "\n",
    "net = SmallNet(2, 2, dtype=torch.float64)\n",
    "net.W1 = torch.tensor([\n",
    "    [200.0, 200.0],\n",
    "    [-100.0, -100.0]\n",
    "], dtype=torch.float64)\n",
    "net.b1 = torch.tensor([-100.0, 150.0], dtype=torch.float64) # 150 zamiast 200, zeby dla 1 i 1 bylo cos ponizej 0 \n",
    "net.W2 = torch.tensor([[80.0, 80.0]], dtype=torch.float64) # 80 i 80 zamiast 100 i 100, zeby dla 0 i 1 bylo cos ponizej 0\n",
    "net.b2 = torch.tensor([-100.0], dtype=torch.float64)\n",
    "\n",
    "# Hint: since we use the logistic sigmoid activation, the weights may need to\n",
    "# be fairly large\n",
    "\n",
    "predictions, loss = net.forward(X, Y)\n",
    "for x, p in zip(X, predictions.t()):\n",
    "    print(f\"XOR{x} = {p[0]}\")"
   ]
  },
  {
   "cell_type": "markdown",
   "metadata": {
    "cell_id": "00018-9f8740d2-90e7-4d20-a535-002df8547aba",
    "deepnote_app_coordinates": {
     "h": 5,
     "w": 12,
     "x": 0,
     "y": 108
    },
    "deepnote_cell_type": "markdown",
    "id": "wmxCi5Vl6_xB"
   },
   "source": [
    "## Problem 2"
   ]
  },
  {
   "cell_type": "code",
   "execution_count": 6,
   "metadata": {
    "cell_id": "00019-8f804996-a00a-4bb5-a524-ad056659e023",
    "deepnote_app_coordinates": {
     "h": 5,
     "w": 12,
     "x": 0,
     "y": 114
    },
    "deepnote_cell_type": "code",
    "id": "eSM5hgJ1mrhY"
   },
   "outputs": [],
   "source": [
    "def check_grad(net, param_name, X, Y, eps=1e-5):\n",
    "    \"\"\"A gradient checking routine\"\"\"\n",
    "\n",
    "    param = getattr(net, param_name)\n",
    "    param_flat_accessor = param.reshape(-1)\n",
    "\n",
    "    grad = torch.empty_like(param)\n",
    "    grad_flat_accessor = grad.reshape(-1)\n",
    "\n",
    "    net.forward(X, Y, do_backward=True)\n",
    "    orig_grad = getattr(net, param_name + \"_grad\")\n",
    "\n",
    "    assert param.shape == orig_grad.shape\n",
    "\n",
    "    for i in range(param_flat_accessor.shape[0]):\n",
    "        # zmiana to dodanie item()\n",
    "        orig_val = param_flat_accessor[i].item()\n",
    "        param_flat_accessor[i] = orig_val + eps\n",
    "        _, loss_positive = net.forward(X, Y)\n",
    "        param_flat_accessor[i] = orig_val - eps\n",
    "        _, loss_negative = net.forward(X, Y)\n",
    "        param_flat_accessor[i] = orig_val\n",
    "        grad_flat_accessor[i] = (loss_positive - loss_negative) / (2 * eps)\n",
    "    assert torch.allclose(grad, orig_grad)\n",
    "    return grad, orig_grad"
   ]
  },
  {
   "cell_type": "code",
   "execution_count": 7,
   "metadata": {
    "cell_id": "00020-1c4174cf-f129-4cad-adad-4734810a8ce1",
    "deepnote_app_coordinates": {
     "h": 5,
     "w": 12,
     "x": 0,
     "y": 120
    },
    "deepnote_cell_type": "code",
    "id": "TTZu0jFEvgXF"
   },
   "outputs": [],
   "source": [
    "# Hint: use float64 for checking the correctness of the gradient\n",
    "net = SmallNet(2, 2, dtype=torch.float64)\n",
    "\n",
    "for param_name in [\"W1\", \"b1\", \"W2\", \"b2\"]:\n",
    "    check_grad(net, param_name, X, Y)"
   ]
  },
  {
   "cell_type": "markdown",
   "metadata": {
    "cell_id": "00021-145837f8-c83f-4aab-8e62-0114e59f30fe",
    "deepnote_app_coordinates": {
     "h": 5,
     "w": 12,
     "x": 0,
     "y": 126
    },
    "deepnote_cell_type": "markdown",
    "id": "8mUOs3cVvjM2"
   },
   "source": [
    "## Problem 3"
   ]
  },
  {
   "cell_type": "code",
   "execution_count": 8,
   "metadata": {
    "cell_id": "00022-91b3eba0-6025-4839-847c-f5cb275fad07",
    "colab": {
     "base_uri": "https://localhost:8080/"
    },
    "deepnote_app_coordinates": {
     "h": 5,
     "w": 12,
     "x": 0,
     "y": 132
    },
    "deepnote_cell_type": "code",
    "id": "nn2AAoZo0vjU",
    "outputId": "7b6b5a9a-dea5-4357-e8c1-36a34c7c272a"
   },
   "outputs": [],
   "source": [
    "def gradient_descent(net, X, Y, alpha=0.1, verb=True, activation_f=sigmoid):\n",
    "    for i in range(100000):\n",
    "        predictions, loss = net.forward(X, Y, do_backward=True, activation_f=activation_f)\n",
    "        if (i % 5000) == 0 and verb:\n",
    "            print(f\"after {i} steps \\tloss={loss}\")\n",
    "        for param_name in [\"W1\", \"b1\", \"W2\", \"b2\"]:\n",
    "            param = getattr(net, param_name)\n",
    "            # Hint: use the construct `param[:]` to change the contents of the array!\n",
    "            # Doing instead `param = new_val` simply changes to what the variable\n",
    "            # param points to, without affecting the network!\n",
    "            # alternatively, you could do setattr(net, param_name, new_value)\n",
    "            param[:] = param - alpha * getattr(net, param_name + \"_grad\")\n",
    "            params = {}\n",
    "            for param_name in [\"W1\", \"b1\", \"W2\", \"b2\"]:\n",
    "                param = getattr(net, param_name)\n",
    "                params[param_name] = param\n",
    "    return predictions, loss, params"
   ]
  },
  {
   "cell_type": "code",
   "execution_count": 9,
   "metadata": {},
   "outputs": [
    {
     "name": "stdout",
     "output_type": "stream",
     "text": [
      "after 0 steps \tloss=0.9972983956289109\n",
      "after 5000 steps \tloss=0.023346669369808382\n",
      "after 10000 steps \tloss=0.008462899870110698\n",
      "after 15000 steps \tloss=0.004977987219655445\n",
      "after 20000 steps \tloss=0.003471084460612334\n",
      "after 25000 steps \tloss=0.002641306970738741\n",
      "after 30000 steps \tloss=0.0021198534732842023\n",
      "after 35000 steps \tloss=0.0017635171277648966\n",
      "after 40000 steps \tloss=0.0015054667293511763\n",
      "after 45000 steps \tloss=0.001310457989378309\n",
      "after 50000 steps \tloss=0.0011582006926570832\n",
      "after 55000 steps \tloss=0.0010362143536924262\n",
      "after 60000 steps \tloss=0.0009364139065039606\n",
      "after 65000 steps \tloss=0.0008533385532001503\n",
      "after 70000 steps \tloss=0.0007831711214004197\n",
      "after 75000 steps \tloss=0.0007231654767915868\n",
      "after 80000 steps \tloss=0.0006712970840610994\n",
      "after 85000 steps \tloss=0.00062604162728831\n",
      "after 90000 steps \tloss=0.0005862301917170243\n",
      "after 95000 steps \tloss=0.0005509518591131217\n"
     ]
    }
   ],
   "source": [
    "net = SmallNet(2, 10, dtype=torch.float64)\n",
    "_ = gradient_descent(net, X, Y)"
   ]
  },
  {
   "cell_type": "code",
   "execution_count": 90,
   "metadata": {},
   "outputs": [
    {
     "name": "stdout",
     "output_type": "stream",
     "text": [
      "XORnet(tensor([0., 0.], dtype=torch.float64)) = 0.00021996611916289327\n",
      "XORnet(tensor([0., 1.], dtype=torch.float64)) = 0.9996165946648877\n",
      "XORnet(tensor([1., 0.], dtype=torch.float64)) = 0.9989816449633641\n",
      "XORnet(tensor([1., 1.], dtype=torch.float64)) = 0.0009817055122461873\n",
      "tensor(0.0007, dtype=torch.float64)\n"
     ]
    }
   ],
   "source": [
    "predictions, loss = net.forward(X, Y, do_backward=True)\n",
    "for x, p in zip(X, predictions.t()):\n",
    "    print(f\"XORnet({x}) = {p[0]}\")\n",
    "print(loss)"
   ]
  },
  {
   "cell_type": "code",
   "execution_count": 10,
   "metadata": {},
   "outputs": [],
   "source": [
    "X3 = torch.tensor([\n",
    "    [1, 1, 1],\n",
    "    [1, 1, 0],\n",
    "    [1, 0, 1],\n",
    "    [1, 0, 0],\n",
    "    [0, 1, 1],\n",
    "    [0, 1, 0],\n",
    "    [0, 0, 1],\n",
    "    [0, 0, 0]\n",
    "], dtype=torch.float64)\n",
    "\n",
    "Y3 = torch.tensor([\n",
    "    [1],\n",
    "    [0],\n",
    "    [0],\n",
    "    [1],\n",
    "    [0],\n",
    "    [1],\n",
    "    [1],\n",
    "    [0]\n",
    "], dtype=torch.float64)"
   ]
  },
  {
   "cell_type": "code",
   "execution_count": 34,
   "metadata": {
    "cell_id": "00024-e09655a3-84e1-4a43-9b61-00edb56c6054",
    "deepnote_app_coordinates": {
     "h": 5,
     "w": 12,
     "x": 0,
     "y": 144
    },
    "deepnote_cell_type": "code",
    "id": "U0ZMyHqz8xrC"
   },
   "outputs": [
    {
     "name": "stdout",
     "output_type": "stream",
     "text": [
      "\n",
      "hidden_dim: 2\n",
      "\n",
      "XORnet(tensor([1., 1., 1.], dtype=torch.float64)) = 0.9984676645395061              1.0\n",
      "XORnet(tensor([1., 1., 0.], dtype=torch.float64)) = 0.25066734941406216             0.0\n",
      "XORnet(tensor([1., 0., 1.], dtype=torch.float64)) = 0.25066734786483924             0.0\n",
      "XORnet(tensor([1., 0., 0.], dtype=torch.float64)) = 0.25010355738959256             1.0\n",
      "XORnet(tensor([0., 1., 1.], dtype=torch.float64)) = 0.0024591837029728347           0.0\n",
      "XORnet(tensor([0., 1., 0.], dtype=torch.float64)) = 0.998380495600028               1.0\n",
      "XORnet(tensor([0., 0., 1.], dtype=torch.float64)) = 0.9983805058758991              1.0\n",
      "XORnet(tensor([0., 0., 0.], dtype=torch.float64)) = 0.2508701784113754              0.0\n",
      "loss: 0.2823881352542268\n",
      "\n",
      "hidden_dim: 3\n",
      "\n",
      "XORnet(tensor([1., 1., 1.], dtype=torch.float64)) = 0.9959910269394442              1.0\n",
      "XORnet(tensor([1., 1., 0.], dtype=torch.float64)) = 0.005370224905691728            0.0\n",
      "XORnet(tensor([1., 0., 1.], dtype=torch.float64)) = 0.005353530462306878            0.0\n",
      "XORnet(tensor([1., 0., 0.], dtype=torch.float64)) = 0.9997011065952855              1.0\n",
      "XORnet(tensor([0., 1., 1.], dtype=torch.float64)) = 0.00022802994540786753          0.0\n",
      "XORnet(tensor([0., 1., 0.], dtype=torch.float64)) = 0.9958342391216302              1.0\n",
      "XORnet(tensor([0., 0., 1.], dtype=torch.float64)) = 0.995825272959827               1.0\n",
      "XORnet(tensor([0., 0., 0.], dtype=torch.float64)) = 0.005632351595992238            0.0\n",
      "loss: 0.0036628541743193702\n",
      "\n",
      "hidden_dim: 5\n",
      "\n",
      "XORnet(tensor([1., 1., 1.], dtype=torch.float64)) = 0.9995754333977432              1.0\n",
      "XORnet(tensor([1., 1., 0.], dtype=torch.float64)) = 0.0007410605737883931           0.0\n",
      "XORnet(tensor([1., 0., 1.], dtype=torch.float64)) = 0.0007586739128981009           0.0\n",
      "XORnet(tensor([1., 0., 0.], dtype=torch.float64)) = 0.9996901630013741              1.0\n",
      "XORnet(tensor([0., 1., 1.], dtype=torch.float64)) = 0.00021587807745871384          0.0\n",
      "XORnet(tensor([0., 1., 0.], dtype=torch.float64)) = 0.9991888939955548              1.0\n",
      "XORnet(tensor([0., 0., 1.], dtype=torch.float64)) = 0.999202758247151               1.0\n",
      "XORnet(tensor([0., 0., 0.], dtype=torch.float64)) = 0.0005856795076907229           0.0\n",
      "loss: 0.0005806982782604369\n",
      "\n",
      "hidden_dim: 10\n",
      "\n",
      "XORnet(tensor([1., 1., 1.], dtype=torch.float64)) = 0.9996075981361668              1.0\n",
      "XORnet(tensor([1., 1., 0.], dtype=torch.float64)) = 0.0005765855220548784           0.0\n",
      "XORnet(tensor([1., 0., 1.], dtype=torch.float64)) = 0.00044852518808782886          0.0\n",
      "XORnet(tensor([1., 0., 0.], dtype=torch.float64)) = 0.9996351607468327              1.0\n",
      "XORnet(tensor([0., 1., 1.], dtype=torch.float64)) = 0.00030435917784259593          0.0\n",
      "XORnet(tensor([0., 1., 0.], dtype=torch.float64)) = 0.9995027887024591              1.0\n",
      "XORnet(tensor([0., 0., 1.], dtype=torch.float64)) = 0.9994150225401783              1.0\n",
      "XORnet(tensor([0., 0., 0.], dtype=torch.float64)) = 0.0005564256308536277           0.0\n",
      "loss: 0.0004657789856621937\n",
      "\n",
      "hidden_dim: 20\n",
      "\n",
      "XORnet(tensor([1., 1., 1.], dtype=torch.float64)) = 0.9996325263608279              1.0\n",
      "XORnet(tensor([1., 1., 0.], dtype=torch.float64)) = 0.0005171257819017464           0.0\n",
      "XORnet(tensor([1., 0., 1.], dtype=torch.float64)) = 0.0005243754939579913           0.0\n",
      "XORnet(tensor([1., 0., 0.], dtype=torch.float64)) = 0.9993864131276979              1.0\n",
      "XORnet(tensor([0., 1., 1.], dtype=torch.float64)) = 0.0004779609359102117           0.0\n",
      "XORnet(tensor([0., 1., 0.], dtype=torch.float64)) = 0.9994015781946715              1.0\n",
      "XORnet(tensor([0., 0., 1.], dtype=torch.float64)) = 0.9994037243895756              1.0\n",
      "XORnet(tensor([0., 0., 0.], dtype=torch.float64)) = 0.000587655030548055            0.0\n",
      "loss: 0.0005355057849974899\n"
     ]
    }
   ],
   "source": [
    "# TODO:\n",
    "# Generate data for a 3D XOR task\n",
    "# Then estimate the success rate of training the network with diferent\n",
    "# hidden sizes.\n",
    "\n",
    "for hidden_dim in [2, 3, 5, 10, 20]:\n",
    "    print(f\"\\nhidden_dim: {hidden_dim}\\n\")\n",
    "    net = SmallNet(3, hidden_dim, dtype=torch.float64)\n",
    "    predictions, loss, _ = gradient_descent(net, X3, Y3, verb=False)\n",
    "    for x, p, y in zip(X3, predictions.t(), Y3):\n",
    "        print(f\"XORnet({x}) = {p[0]:<30}  {y[0]}\")\n",
    "    print(f\"loss: {loss}\")"
   ]
  },
  {
   "cell_type": "code",
   "execution_count": 203,
   "metadata": {},
   "outputs": [
    {
     "name": "stdout",
     "output_type": "stream",
     "text": [
      "hidden_dim: 1\n",
      "XORnet(tensor([1., 1., 1.], dtype=torch.float64)) = 0.7480017427114387              1.0\n",
      "XORnet(tensor([1., 1., 0.], dtype=torch.float64)) = 0.7496530773382224              0.0\n",
      "XORnet(tensor([1., 0., 1.], dtype=torch.float64)) = 0.25170922525598327             0.0\n",
      "XORnet(tensor([1., 0., 0.], dtype=torch.float64)) = 0.7483323800926192              1.0\n",
      "XORnet(tensor([0., 1., 1.], dtype=torch.float64)) = 0.2517092252559569              0.0\n",
      "XORnet(tensor([0., 1., 0.], dtype=torch.float64)) = 0.7483323800925964              1.0\n",
      "XORnet(tensor([0., 0., 1.], dtype=torch.float64)) = 0.2501678847936934              1.0\n",
      "XORnet(tensor([0., 0., 0.], dtype=torch.float64)) = 0.25209498246992035             0.0\n",
      "loss: 0.563887913127158\n"
     ]
    }
   ],
   "source": [
    "net = SmallNet(3, 1, dtype=torch.float64)\n",
    "predictions, loss, _ = gradient_descent(net, X3, Y3, verb=False)\n",
    "print(\"hidden_dim: 1\")\n",
    "for x, p, y in zip(X3, predictions.t(), Y3):\n",
    "    print(f\"XORnet({x}) = {p[0]:<30}  {y[0]}\")\n",
    "print(f\"loss: {loss}\")"
   ]
  },
  {
   "cell_type": "markdown",
   "metadata": {
    "cell_id": "00025-9703bd09-6aae-4830-8221-09b53a623e4b",
    "deepnote_app_coordinates": {
     "h": 5,
     "w": 12,
     "x": 0,
     "y": 150
    },
    "deepnote_cell_type": "markdown",
    "id": "UuaLEoV-9DLG"
   },
   "source": [
    "## Problem 4\n"
   ]
  },
  {
   "cell_type": "code",
   "execution_count": 40,
   "metadata": {
    "cell_id": "00026-1a2be430-91e0-4209-ab3f-9ef84c39513b",
    "deepnote_app_coordinates": {
     "h": 5,
     "w": 12,
     "x": 0,
     "y": 156
    },
    "deepnote_cell_type": "code",
    "id": "w3lk9_TM-MvK"
   },
   "outputs": [
    {
     "name": "stdout",
     "output_type": "stream",
     "text": [
      "after 0 steps \tloss=2.51157612662427\n",
      "after 5000 steps \tloss=0.0017688986462826204\n",
      "after 10000 steps \tloss=0.0007187055680339792\n",
      "after 15000 steps \tloss=0.00043412426774645563\n",
      "after 20000 steps \tloss=0.0003058476363965973\n",
      "after 25000 steps \tloss=0.00023391235049685866\n",
      "after 30000 steps \tloss=0.00018827015841722518\n",
      "after 35000 steps \tloss=0.00015689644350372776\n",
      "after 40000 steps \tloss=0.00013408968601134994\n",
      "after 45000 steps \tloss=0.00011681535255607609\n",
      "after 50000 steps \tloss=0.00010330637625945787\n",
      "after 55000 steps \tloss=9.246655853310176e-05\n",
      "after 60000 steps \tloss=8.359196618408125e-05\n",
      "after 65000 steps \tloss=7.619876921120003e-05\n",
      "after 70000 steps \tloss=6.995167389160241e-05\n",
      "after 75000 steps \tloss=6.46066745721208e-05\n",
      "after 80000 steps \tloss=5.9984346404830046e-05\n",
      "after 85000 steps \tloss=5.595041582749973e-05\n",
      "after 90000 steps \tloss=5.2402032488238944e-05\n",
      "after 95000 steps \tloss=4.9256323283192755e-05\n"
     ]
    }
   ],
   "source": [
    "net = SmallNet(2, 10, dtype=torch.float64)\n",
    "_ = gradient_descent(net, X, Y, activation_f=relu)"
   ]
  },
  {
   "cell_type": "code",
   "execution_count": 41,
   "metadata": {},
   "outputs": [
    {
     "name": "stdout",
     "output_type": "stream",
     "text": [
      "\n",
      "hidden_dim: 2\n",
      "\n",
      "XORnet(tensor([1., 1., 1.], dtype=torch.float64)) = 0.5714152267205649              1.0\n",
      "XORnet(tensor([1., 1., 0.], dtype=torch.float64)) = 0.5714152267205649              0.0\n",
      "XORnet(tensor([1., 0., 1.], dtype=torch.float64)) = 0.5714152267205649              0.0\n",
      "XORnet(tensor([1., 0., 0.], dtype=torch.float64)) = 0.5714152267205649              1.0\n",
      "XORnet(tensor([0., 1., 1.], dtype=torch.float64)) = 0.5714152267205649              0.0\n",
      "XORnet(tensor([0., 1., 0.], dtype=torch.float64)) = 0.5714152267205649              1.0\n",
      "XORnet(tensor([0., 0., 1.], dtype=torch.float64)) = 0.5714152267205649              1.0\n",
      "XORnet(tensor([0., 0., 0.], dtype=torch.float64)) = 9.328965162088237e-05           0.0\n",
      "loss: 0.5975562536814671\n",
      "\n",
      "hidden_dim: 3\n",
      "\n",
      "XORnet(tensor([1., 1., 1.], dtype=torch.float64)) = 0.49982301138488683             1.0\n",
      "XORnet(tensor([1., 1., 0.], dtype=torch.float64)) = 0.4983928985873626              0.0\n",
      "XORnet(tensor([1., 0., 1.], dtype=torch.float64)) = 0.5018329432617006              0.0\n",
      "XORnet(tensor([1., 0., 0.], dtype=torch.float64)) = 0.5004028330608732              1.0\n",
      "XORnet(tensor([0., 1., 1.], dtype=torch.float64)) = 0.0036914070668544238           0.0\n",
      "XORnet(tensor([0., 1., 0.], dtype=torch.float64)) = 0.9999043088383296              1.0\n",
      "XORnet(tensor([0., 0., 1.], dtype=torch.float64)) = 0.993029683797351               1.0\n",
      "XORnet(tensor([0., 0., 0.], dtype=torch.float64)) = 0.0036075477024114623           0.0\n",
      "loss: 0.34837546502706224\n",
      "\n",
      "hidden_dim: 5\n",
      "\n",
      "XORnet(tensor([1., 1., 1.], dtype=torch.float64)) = 0.9999009204757601              1.0\n",
      "XORnet(tensor([1., 1., 0.], dtype=torch.float64)) = 0.00038022161370271124          0.0\n",
      "XORnet(tensor([1., 0., 1.], dtype=torch.float64)) = 0.00010335128536895193          0.0\n",
      "XORnet(tensor([1., 0., 0.], dtype=torch.float64)) = 0.9999009161805901              1.0\n",
      "XORnet(tensor([0., 1., 1.], dtype=torch.float64)) = 0.0003802214088271398           0.0\n",
      "XORnet(tensor([0., 1., 0.], dtype=torch.float64)) = 0.9999099584631678              1.0\n",
      "XORnet(tensor([0., 0., 1.], dtype=torch.float64)) = 0.9999009162398158              1.0\n",
      "XORnet(tensor([0., 0., 0.], dtype=torch.float64)) = 0.0003802036553179537           0.0\n",
      "loss: 0.00020394095333905004\n",
      "\n",
      "hidden_dim: 10\n",
      "\n",
      "XORnet(tensor([1., 1., 1.], dtype=torch.float64)) = 0.9997935768559946              1.0\n",
      "XORnet(tensor([1., 1., 0.], dtype=torch.float64)) = 0.00012277919718802835          0.0\n",
      "XORnet(tensor([1., 0., 1.], dtype=torch.float64)) = 0.00014189582952882235          0.0\n",
      "XORnet(tensor([1., 0., 0.], dtype=torch.float64)) = 0.999912776951036               1.0\n",
      "XORnet(tensor([0., 1., 1.], dtype=torch.float64)) = 0.00011497770436639715          0.0\n",
      "XORnet(tensor([0., 1., 0.], dtype=torch.float64)) = 0.9999424695595808              1.0\n",
      "XORnet(tensor([0., 0., 1.], dtype=torch.float64)) = 0.9999269445712764              1.0\n",
      "XORnet(tensor([0., 0., 0.], dtype=torch.float64)) = 2.057422432132249e-05           0.0\n",
      "loss: 0.00010306411021480347\n",
      "\n",
      "hidden_dim: 20\n",
      "\n",
      "XORnet(tensor([1., 1., 1.], dtype=torch.float64)) = 0.9998683131254236              1.0\n",
      "XORnet(tensor([1., 1., 0.], dtype=torch.float64)) = 0.00012039800358471614          0.0\n",
      "XORnet(tensor([1., 0., 1.], dtype=torch.float64)) = 5.792078283566546e-05           0.0\n",
      "XORnet(tensor([1., 0., 0.], dtype=torch.float64)) = 0.9999232938638368              1.0\n",
      "XORnet(tensor([0., 1., 1.], dtype=torch.float64)) = 0.00014420071641259413          0.0\n",
      "XORnet(tensor([0., 1., 0.], dtype=torch.float64)) = 0.9998920873941598              1.0\n",
      "XORnet(tensor([0., 0., 1.], dtype=torch.float64)) = 0.9999301823587683              1.0\n",
      "XORnet(tensor([0., 0., 0.], dtype=torch.float64)) = 6.658084473811475e-05           0.0\n",
      "loss: 9.690812746201502e-05\n"
     ]
    }
   ],
   "source": [
    "for hidden_dim in [2, 3, 5, 10, 20]:\n",
    "    print(f\"\\nhidden_dim: {hidden_dim}\\n\")\n",
    "    net = SmallNet(3, hidden_dim, dtype=torch.float64)\n",
    "    predictions, loss, _ = gradient_descent(net, X3, Y3, verb=False, activation_f=relu)\n",
    "    for x, p, y in zip(X3, predictions.t(), Y3):\n",
    "        print(f\"XORnet({x}) = {p[0]:<30}  {y[0]}\")\n",
    "    print(f\"loss: {loss}\")"
   ]
  },
  {
   "cell_type": "code",
   "execution_count": 204,
   "metadata": {},
   "outputs": [
    {
     "name": "stdout",
     "output_type": "stream",
     "text": [
      "hidden_dim: 1\n",
      "XORnet(tensor([1., 1., 1.], dtype=torch.float64)) = 0.5                             1.0\n",
      "XORnet(tensor([1., 1., 0.], dtype=torch.float64)) = 0.5                             0.0\n",
      "XORnet(tensor([1., 0., 1.], dtype=torch.float64)) = 0.5                             0.0\n",
      "XORnet(tensor([1., 0., 0.], dtype=torch.float64)) = 0.5                             1.0\n",
      "XORnet(tensor([0., 1., 1.], dtype=torch.float64)) = 0.5                             0.0\n",
      "XORnet(tensor([0., 1., 0.], dtype=torch.float64)) = 0.5                             1.0\n",
      "XORnet(tensor([0., 0., 1.], dtype=torch.float64)) = 0.5                             1.0\n",
      "XORnet(tensor([0., 0., 0.], dtype=torch.float64)) = 0.5                             0.0\n",
      "loss: 0.6931471805599453\n"
     ]
    }
   ],
   "source": [
    "net = SmallNet(3, 1, dtype=torch.float64)\n",
    "predictions, loss, _ = gradient_descent(net, X3, Y3, verb=False, activation_f=relu)\n",
    "print(\"hidden_dim: 1\")\n",
    "for x, p, y in zip(X3, predictions.t(), Y3):\n",
    "    print(f\"XORnet({x}) = {p[0]:<30}  {y[0]}\")\n",
    "print(f\"loss: {loss}\")"
   ]
  },
  {
   "cell_type": "markdown",
   "metadata": {
    "cell_id": "00027-de8a387d-3b6a-48d5-b6c8-fddf13637e38",
    "deepnote_app_coordinates": {
     "h": 5,
     "w": 12,
     "x": 0,
     "y": 162
    },
    "deepnote_cell_type": "markdown",
    "id": "_Hr_iAKX-ND1"
   },
   "source": [
    "## Problem 5"
   ]
  },
  {
   "cell_type": "code",
   "execution_count": 159,
   "metadata": {
    "cell_id": "00028-0aa6ea62-907d-44bf-9ba4-71870d3dd547",
    "deepnote_app_coordinates": {
     "h": 5,
     "w": 12,
     "x": 0,
     "y": 168
    },
    "deepnote_cell_type": "code",
    "id": "rnz6CndQ-NRI"
   },
   "outputs": [],
   "source": [
    "class SmallNet2layers:\n",
    "    def __init__(self, in_features: int, num_hidden_first: int, num_hidden_second, dtype=torch.float64):\n",
    "        self.W1 = torch.zeros((num_hidden_first, in_features), dtype=dtype)\n",
    "        self.b1 = torch.zeros((num_hidden_first,), dtype=dtype)\n",
    "        self.W2 = torch.zeros((num_hidden_second, num_hidden_first), dtype=dtype)\n",
    "        self.b2 = torch.zeros((num_hidden_second,), dtype=dtype)\n",
    "        self.W3 = torch.zeros((1, num_hidden_second), dtype=dtype)\n",
    "        self.b3 = torch.zeros((1,), dtype=dtype)\n",
    "        self.init_params()\n",
    "\n",
    "    def init_params(self):\n",
    "        # TODO for Problem 2:\n",
    "        # set all parameters to small random values, e.g. from N(0, 0.5)\n",
    "        a = torch.sqrt(torch.tensor(0.5))\n",
    "        self.W1 = torch.randn_like(self.W1) * a\n",
    "        self.b1 = torch.randn_like(self.b1) * a\n",
    "        self.W2 = torch.randn_like(self.W2) * a\n",
    "        self.b2 = torch.randn_like(self.b2) * a\n",
    "        self.W3 = torch.randn_like(self.W3) * a\n",
    "        self.b3 = torch.randn_like(self.b3) * a\n",
    "\n",
    "    def forward(self, X, Y=None, do_backward=False):\n",
    "        # TODO Problem 1: Fill in details of forward propagation\n",
    "\n",
    "        # Input to neurons in 1st layer\n",
    "        A1 = torch.matmul(self.W1, X.t()) + self.b1.view(-1, 1)\n",
    "        # Outputs after the non-linearity\n",
    "        O1 = sigmoid(A1)\n",
    "        # Inputs to neuron in the second layer\n",
    "        A2 = torch.matmul(self.W2, O1) + self.b2.view(-1, 1)\n",
    "        # Outputs after the non-linearity\n",
    "        O2 = sigmoid(A2)\n",
    "        # Inputs to neuron in the third layer\n",
    "        A3 = torch.matmul(self.W3, O2) + self.b3\n",
    "        # Outputs after the non-linearity\n",
    "        O3 = sigmoid(A3)\n",
    "        \n",
    "        # When Y is none, simply return the predictions. Else compute the loss\n",
    "        if Y is not None:\n",
    "            # loss = -Y * torch.log(O2) - (1.0 - Y) * torch.log(1.0 - O2)\n",
    "            loss = -(Y * torch.log(O3.view(-1,1)) + (1 - Y) * torch.log(1.0 - O3.view(-1,1)))\n",
    "            # normalize loss by batch size\n",
    "            loss = loss.sum() / X.shape[0]\n",
    "        else:\n",
    "            loss = torch.nan\n",
    "\n",
    "        if do_backward:\n",
    "            # TODO in Problem 2:\n",
    "            # fill in the gradient computation\n",
    "            # Please note, that there is a correspondance between\n",
    "            # the forward and backward pass: with backward computations happening\n",
    "            # in reverse order.\n",
    "            # We save the gradients with respect to the parameters as fields of self.\n",
    "            # It is not very elegant, but simplifies training code later on.\n",
    "\n",
    "            # A2_grad is the gradient of loss with respect to A2\n",
    "            # Hint: there is a concise formula for the gradient\n",
    "            # of logistic sigmoid and cross-entropy loss\n",
    "\n",
    "            A3_grad = O3 - Y.t()\n",
    "            self.b3_grad = A3_grad.sum(1) / X.shape[0]\n",
    "            self.W3_grad = torch.mm(A3_grad, O2.t()) / X.shape[0]\n",
    "            # O2_grad = A3_grad * self.W3.t()\n",
    "            O2_grad = torch.mm(A3_grad.t(), self.W3).t()\n",
    "            A2_grad = O2_grad * sigmoid(A2) * (1 - sigmoid(A2))\n",
    "            self.b2_grad = A2_grad.sum(1) / X.shape[0]\n",
    "            self.W2_grad = torch.mm(A2_grad, O1.t()) / X.shape[0]\n",
    "            O1_grad = torch.mm(A2_grad.t(), self.W2).t()\n",
    "            A1_grad = O1_grad * sigmoid(A1) * (1 - sigmoid(A1))\n",
    "            self.b1_grad = A1_grad.sum(1) / X.shape[0]\n",
    "            self.W1_grad = torch.mm(A1_grad, X) / X.shape[0]\n",
    "            \n",
    "\n",
    "        return O2, loss"
   ]
  },
  {
   "cell_type": "code",
   "execution_count": 160,
   "metadata": {},
   "outputs": [
    {
     "name": "stdout",
     "output_type": "stream",
     "text": [
      "XORtensor([0., 0.], dtype=torch.float64) = 0.6576126202253052\n",
      "XORtensor([0., 1.], dtype=torch.float64) = 0.630105544720111\n",
      "XORtensor([1., 0.], dtype=torch.float64) = 0.6241492667754761\n",
      "XORtensor([1., 1.], dtype=torch.float64) = 0.5898905497166964\n"
     ]
    }
   ],
   "source": [
    "net = SmallNet2layers(2, 2, 3, dtype=torch.float64)\n",
    "predictions, loss = net.forward(X, Y)\n",
    "for x, p in zip(X, predictions.t()):\n",
    "    print(f\"XOR{x} = {p[0]}\")"
   ]
  },
  {
   "cell_type": "code",
   "execution_count": 183,
   "metadata": {},
   "outputs": [],
   "source": [
    "def gradient_descent_2layers(net, X, Y, alpha=0.1, verb=True, activation_f=sigmoid):\n",
    "    for i in range(100000):\n",
    "        predictions, loss = net.forward(X, Y, do_backward=True)\n",
    "        if (i % 5000) == 0 and verb:\n",
    "            print(f\"after {i} steps \\tloss={loss}\")\n",
    "        for param_name in [\"W1\", \"b1\", \"W2\", \"b2\", \"W3\", \"b3\"]:\n",
    "            param = getattr(net, param_name)\n",
    "            # Hint: use the construct `param[:]` to change the contents of the array!\n",
    "            # Doing instead `param = new_val` simply changes to what the variable\n",
    "            # param points to, without affecting the network!\n",
    "            # alternatively, you could do setattr(net, param_name, new_value)\n",
    "            param[:] = param - alpha * getattr(net, param_name + \"_grad\")\n",
    "            params = {}\n",
    "            for param_name in [\"W1\", \"b1\", \"W2\", \"b2\", \"W3\", \"b3\"]:\n",
    "                param = getattr(net, param_name)\n",
    "                params[param_name] = param\n",
    "    return predictions, loss, params"
   ]
  },
  {
   "cell_type": "code",
   "execution_count": 186,
   "metadata": {},
   "outputs": [],
   "source": [
    "net = SmallNet2layers(2, 3, 1, dtype=torch.float64)\n",
    "\n",
    "for param_name in [\"W1\", \"b1\", \"W2\", \"b2\", \"W3\", \"b3\"]:\n",
    "    check_grad(net, param_name, X, Y)"
   ]
  },
  {
   "cell_type": "code",
   "execution_count": 187,
   "metadata": {},
   "outputs": [
    {
     "name": "stdout",
     "output_type": "stream",
     "text": [
      "after 0 steps \tloss=0.7904198816497141\n",
      "after 5000 steps \tloss=0.6847329734261511\n",
      "after 10000 steps \tloss=0.03078874329536345\n",
      "after 15000 steps \tloss=0.0074702571907617685\n",
      "after 20000 steps \tloss=0.004236960345834719\n",
      "after 25000 steps \tloss=0.0029575715339959213\n",
      "after 30000 steps \tloss=0.002272135014823259\n",
      "after 35000 steps \tloss=0.0018449363188068185\n",
      "after 40000 steps \tloss=0.0015531433336197686\n",
      "after 45000 steps \tloss=0.0013411661139643184\n",
      "after 50000 steps \tloss=0.001180183848645471\n",
      "after 55000 steps \tloss=0.0010537627580224835\n",
      "after 60000 steps \tloss=0.0009518466178915567\n",
      "after 65000 steps \tloss=0.0008679364278682103\n",
      "after 70000 steps \tloss=0.0007976451774811216\n",
      "after 75000 steps \tloss=0.0007379042966739693\n",
      "after 80000 steps \tloss=0.0006865029151593128\n",
      "after 85000 steps \tloss=0.0006418077243972133\n",
      "after 90000 steps \tloss=0.0006025859121013354\n",
      "after 95000 steps \tloss=0.0005678894791873511\n"
     ]
    }
   ],
   "source": [
    "_ = gradient_descent_2layers(net, X, Y)"
   ]
  },
  {
   "cell_type": "code",
   "execution_count": 192,
   "metadata": {},
   "outputs": [
    {
     "name": "stdout",
     "output_type": "stream",
     "text": [
      "\n",
      "hidden_dim1: 2\thinnde_dim1: 3\n",
      "\n",
      "XORnet(tensor([1., 1., 1.], dtype=torch.float64)) = 0.01925074289325209             1.0\n",
      "XORnet(tensor([1., 1., 0.], dtype=torch.float64)) = 0.03040744382696835             0.0\n",
      "XORnet(tensor([1., 0., 1.], dtype=torch.float64)) = 0.012848370341037103            0.0\n",
      "XORnet(tensor([1., 0., 0.], dtype=torch.float64)) = 0.01922830018113818             1.0\n",
      "XORnet(tensor([0., 1., 1.], dtype=torch.float64)) = 0.030409782054823416            0.0\n",
      "XORnet(tensor([0., 1., 0.], dtype=torch.float64)) = 0.913613311753623               1.0\n",
      "XORnet(tensor([0., 0., 1.], dtype=torch.float64)) = 0.01922830206494403             1.0\n",
      "XORnet(tensor([0., 0., 0.], dtype=torch.float64)) = 0.03145957697909435             0.0\n",
      "loss: 0.04424086451077041\n",
      "\n",
      "hidden_dim1: 2\thinnde_dim1: 5\n",
      "\n",
      "XORnet(tensor([1., 1., 1.], dtype=torch.float64)) = 0.24463232334088228             1.0\n",
      "XORnet(tensor([1., 1., 0.], dtype=torch.float64)) = 0.13410386481854106             0.0\n",
      "XORnet(tensor([1., 0., 1.], dtype=torch.float64)) = 0.13410386481854095             0.0\n",
      "XORnet(tensor([1., 0., 0.], dtype=torch.float64)) = 0.10214342945492046             1.0\n",
      "XORnet(tensor([0., 1., 1.], dtype=torch.float64)) = 0.1341038648185412              0.0\n",
      "XORnet(tensor([0., 1., 0.], dtype=torch.float64)) = 0.10214342945492046             1.0\n",
      "XORnet(tensor([0., 0., 1.], dtype=torch.float64)) = 0.10214342945492046             1.0\n",
      "XORnet(tensor([0., 0., 0.], dtype=torch.float64)) = 0.08368567788529271             0.0\n",
      "loss: 0.0008887596630986266\n",
      "\n",
      "hidden_dim1: 2\thinnde_dim1: 10\n",
      "\n",
      "XORnet(tensor([1., 1., 1.], dtype=torch.float64)) = 0.5635547788870034              1.0\n",
      "XORnet(tensor([1., 1., 0.], dtype=torch.float64)) = 0.3357477745401151              0.0\n",
      "XORnet(tensor([1., 0., 1.], dtype=torch.float64)) = 0.2954069138548088              0.0\n",
      "XORnet(tensor([1., 0., 0.], dtype=torch.float64)) = 0.5629569377415439              1.0\n",
      "XORnet(tensor([0., 1., 1.], dtype=torch.float64)) = 0.33568767275947564             0.0\n",
      "XORnet(tensor([0., 1., 0.], dtype=torch.float64)) = 0.5997111200248357              1.0\n",
      "XORnet(tensor([0., 0., 1.], dtype=torch.float64)) = 0.562757272468266               1.0\n",
      "XORnet(tensor([0., 0., 0.], dtype=torch.float64)) = 0.3355096953180986              0.0\n",
      "loss: 0.0005100842008069894\n",
      "\n",
      "hidden_dim1: 5\thinnde_dim1: 3\n",
      "\n",
      "XORnet(tensor([1., 1., 1.], dtype=torch.float64)) = 0.7971586801602615              1.0\n",
      "XORnet(tensor([1., 1., 0.], dtype=torch.float64)) = 0.164462544317107               0.0\n",
      "XORnet(tensor([1., 0., 1.], dtype=torch.float64)) = 0.15482478927073337             0.0\n",
      "XORnet(tensor([1., 0., 0.], dtype=torch.float64)) = 0.8251184918115265              1.0\n",
      "XORnet(tensor([0., 1., 1.], dtype=torch.float64)) = 0.1688399511161936              0.0\n",
      "XORnet(tensor([0., 1., 0.], dtype=torch.float64)) = 0.8229087947771047              1.0\n",
      "XORnet(tensor([0., 0., 1.], dtype=torch.float64)) = 0.8283635637955935              1.0\n",
      "XORnet(tensor([0., 0., 0.], dtype=torch.float64)) = 0.1456615571806571              0.0\n",
      "loss: 0.00018355841831488504\n",
      "\n",
      "hidden_dim1: 5\thinnde_dim1: 5\n",
      "\n",
      "XORnet(tensor([1., 1., 1.], dtype=torch.float64)) = 0.8294799459064187              1.0\n",
      "XORnet(tensor([1., 1., 0.], dtype=torch.float64)) = 0.32063378132631426             0.0\n",
      "XORnet(tensor([1., 0., 1.], dtype=torch.float64)) = 0.12985062672022812             0.0\n",
      "XORnet(tensor([1., 0., 0.], dtype=torch.float64)) = 0.804968047773765               1.0\n",
      "XORnet(tensor([0., 1., 1.], dtype=torch.float64)) = 0.3252655566030596              0.0\n",
      "XORnet(tensor([0., 1., 0.], dtype=torch.float64)) = 0.7705254904808926              1.0\n",
      "XORnet(tensor([0., 0., 1.], dtype=torch.float64)) = 0.804751036118816               1.0\n",
      "XORnet(tensor([0., 0., 0.], dtype=torch.float64)) = 0.33799125544012515             0.0\n",
      "loss: 0.0002804069749425825\n",
      "\n",
      "hidden_dim1: 5\thinnde_dim1: 10\n",
      "\n",
      "XORnet(tensor([1., 1., 1.], dtype=torch.float64)) = 0.7763629343254935              1.0\n",
      "XORnet(tensor([1., 1., 0.], dtype=torch.float64)) = 0.19923560613585975             0.0\n",
      "XORnet(tensor([1., 0., 1.], dtype=torch.float64)) = 0.2600860491477127              0.0\n",
      "XORnet(tensor([1., 0., 0.], dtype=torch.float64)) = 0.7552781489917934              1.0\n",
      "XORnet(tensor([0., 1., 1.], dtype=torch.float64)) = 0.21263240001618647             0.0\n",
      "XORnet(tensor([0., 1., 0.], dtype=torch.float64)) = 0.7012523577454303              1.0\n",
      "XORnet(tensor([0., 0., 1.], dtype=torch.float64)) = 0.7655031567513012              1.0\n",
      "XORnet(tensor([0., 0., 0.], dtype=torch.float64)) = 0.2097750347215376              0.0\n",
      "loss: 0.00015096033488172153\n",
      "\n",
      "hidden_dim1: 10\thinnde_dim1: 3\n",
      "\n",
      "XORnet(tensor([1., 1., 1.], dtype=torch.float64)) = 0.0806963294501497              1.0\n",
      "XORnet(tensor([1., 1., 0.], dtype=torch.float64)) = 0.9260326744424087              0.0\n",
      "XORnet(tensor([1., 0., 1.], dtype=torch.float64)) = 0.9345813656325147              0.0\n",
      "XORnet(tensor([1., 0., 0.], dtype=torch.float64)) = 0.076593416916171               1.0\n",
      "XORnet(tensor([0., 1., 1.], dtype=torch.float64)) = 0.9289829045506883              0.0\n",
      "XORnet(tensor([0., 1., 0.], dtype=torch.float64)) = 0.0697711260388895              1.0\n",
      "XORnet(tensor([0., 0., 1.], dtype=torch.float64)) = 0.0615391510141258              1.0\n",
      "XORnet(tensor([0., 0., 0.], dtype=torch.float64)) = 0.9210480473963925              0.0\n",
      "loss: 0.00020433200172344948\n",
      "\n",
      "hidden_dim1: 10\thinnde_dim1: 5\n",
      "\n",
      "XORnet(tensor([1., 1., 1.], dtype=torch.float64)) = 0.07237717980436896             1.0\n",
      "XORnet(tensor([1., 1., 0.], dtype=torch.float64)) = 0.9173325316554681              0.0\n",
      "XORnet(tensor([1., 0., 1.], dtype=torch.float64)) = 0.9270909690943642              0.0\n",
      "XORnet(tensor([1., 0., 0.], dtype=torch.float64)) = 0.06884130293714757             1.0\n",
      "XORnet(tensor([0., 1., 1.], dtype=torch.float64)) = 0.9346680603443147              0.0\n",
      "XORnet(tensor([0., 1., 0.], dtype=torch.float64)) = 0.07644803407987615             1.0\n",
      "XORnet(tensor([0., 0., 1.], dtype=torch.float64)) = 0.0791666087295242              1.0\n",
      "XORnet(tensor([0., 0., 0.], dtype=torch.float64)) = 0.90704048602999                0.0\n",
      "loss: 0.00016750245681875373\n",
      "\n",
      "hidden_dim1: 10\thinnde_dim1: 10\n",
      "\n",
      "XORnet(tensor([1., 1., 1.], dtype=torch.float64)) = 0.23230243136613662             1.0\n",
      "XORnet(tensor([1., 1., 0.], dtype=torch.float64)) = 0.7034985795757642              0.0\n",
      "XORnet(tensor([1., 0., 1.], dtype=torch.float64)) = 0.77933247416386                0.0\n",
      "XORnet(tensor([1., 0., 0.], dtype=torch.float64)) = 0.27610859548894545             1.0\n",
      "XORnet(tensor([0., 1., 1.], dtype=torch.float64)) = 0.7165881811428915              0.0\n",
      "XORnet(tensor([0., 1., 0.], dtype=torch.float64)) = 0.21293997968569964             1.0\n",
      "XORnet(tensor([0., 0., 1.], dtype=torch.float64)) = 0.2701489848160229              1.0\n",
      "XORnet(tensor([0., 0., 0.], dtype=torch.float64)) = 0.7471743384253696              0.0\n",
      "loss: 0.00011102152142360847\n"
     ]
    }
   ],
   "source": [
    "for hinnden_dim1, hidden_dim2 in [[2, 3], [2, 5], [2, 10], [5, 3], [5, 5], [5, 10], [10, 3], [10, 5], [10, 10]]:\n",
    "    print(f\"\\nhidden_dim1: {hinnden_dim1}\\thinnde_dim1: {hidden_dim2}\\n\")\n",
    "    net = SmallNet2layers(3, hinnden_dim1, hidden_dim2, dtype=torch.float64)\n",
    "    predictions, loss, _ = gradient_descent_2layers(net, X3, Y3,verb=False)\n",
    "    for x, p, y in zip(X3, predictions.t(), Y3):\n",
    "        print(f\"XORnet({x}) = {p[0]:<30}  {y[0]}\")\n",
    "    print(f\"loss: {loss}\")"
   ]
  },
  {
   "cell_type": "markdown",
   "metadata": {
    "cell_id": "00029-1de44bc6-5f35-4df3-af9a-408291ccc867",
    "deepnote_app_coordinates": {
     "h": 5,
     "w": 12,
     "x": 0,
     "y": 174
    },
    "deepnote_cell_type": "markdown",
    "id": "4PcNxrCt-NcN"
   },
   "source": [
    "## Problem 6"
   ]
  },
  {
   "cell_type": "code",
   "execution_count": 158,
   "metadata": {
    "cell_id": "00030-fdaced74-34ab-4cfc-8fa2-f3a0b012fbf2",
    "deepnote_app_coordinates": {
     "h": 5,
     "w": 12,
     "x": 0,
     "y": 180
    },
    "deepnote_cell_type": "code",
    "id": "6Brepirl-Nln"
   },
   "outputs": [],
   "source": [
    "class MultipleHiddenLayerNet:\n",
    "    def __init__(self, in_features: int, nums_hidden: List[int], depth: int, dtype=torch.float64):\n",
    "        assert len(nums_hidden) == depth\n",
    "\n",
    "        setattr(self, \"W1\", torch.zeros((nums_hidden[0], in_features), dtype=dtype))\n",
    "        setattr(self, \"b1\", torch.zeros((nums_hidden[0],), dtype=dtype))\n",
    "\n",
    "        for i in range(2, depth+1):\n",
    "            setattr(self, f\"W{i}\", torch.zeros((nums_hidden[i - 1], nums_hidden[i - 2]), dtype=dtype))\n",
    "            setattr(self, f\"b{i}\", torch.zeros((nums_hidden[i - 1],), dtype=dtype))\n",
    "\n",
    "        setattr(self, f\"W{depth + 1}\", torch.zeros((1, nums_hidden[-1]), dtype=dtype))\n",
    "        setattr(self, f\"b{depth + 1}\", torch.zeros((1,), dtype=dtype))\n",
    "\n",
    "        self.depth = depth\n",
    "        self.init_params()\n",
    "\n",
    "    def init_params(self):\n",
    "        for i in range(1, self.depth + 1):\n",
    "            setattr(self, f\"W{i}\", torch.nn.init.normal_(getattr(self, f\"W{i}\"), std=0.5))\n",
    "            setattr(self, f\"b{i}\", torch.nn.init.normal_(getattr(self, f\"b{i}\"), std=0.5))\n",
    "\n",
    "    def forward(self, X, Y=None, do_backward=False, activation_f=sigmoid):\n",
    "        A = [0 for i in range(self.depth + 1)]\n",
    "        O = [0 for i in range(self.depth + 1)]\n",
    "\n",
    "        A[0] = torch.matmul(getattr(self, \"W1\"), X.t()) + getattr(self, \"b1\").view(-1, 1)\n",
    "        O[0] = activation_f(A[0])\n",
    "\n",
    "        for i in range(1, self.depth):\n",
    "            A[i] = torch.matmul(getattr(self, f\"W{i + 1}\"), O[i - 1]) + getattr(self, f\"b{i + 1}\").view(-1, 1)\n",
    "            O[i] = activation_f(A[i])\n",
    "        A[-1] = torch.matmul(getattr(self, f\"W{self.depth + 1}\"), O[self.depth - 1]) + getattr(self, f\"b{self.depth + 1}\").view(-1, 1)\n",
    "        O[-1] = activation_f(A[-1])\n",
    "        \n",
    "        if Y is not None:\n",
    "            loss = -(Y * torch.log(O[-1].view(-1,1)) + (1 - Y) * torch.log(1.0 - O[-1].view(-1,1)))\n",
    "            loss = loss.sum() / X.shape[0]\n",
    "        else:\n",
    "            loss = torch.nan\n",
    "\n",
    "        if do_backward:\n",
    "            A_grad = [0 for i in range(self.depth + 1)]\n",
    "            O_grad = [0 for i in range(self.depth + 1)]\n",
    "\n",
    "            A_grad[-1] = O[-1] - Y.t()\n",
    "            setattr(self, f\"b{self.depth + 1}_grad\", A_grad[-1].sum(1) / X.shape[0])\n",
    "            setattr(self, f\"W{self.depth + 1}_grad\", torch.mm(A_grad[-1], O[-2].t()) / X.shape[0])\n",
    "\n",
    "            for i in range(self.depth-1, 0, -1):\n",
    "                O_grad[i] = torch.mm(A_grad[i+1].t(), getattr(self, f\"W{i+2}\")).t()\n",
    "                if activation_f == sigmoid: A_grad[i] = O[i] * sigmoid(A[i]) * (1 - sigmoid(A[i]))\n",
    "                elif activation_f == relu: relu: A_grad[i] = O[i] * torch.where(A[i] > 0, torch.tensor(1), torch.tensor(0))\n",
    "                setattr(self, f\"b{i+1}_grad\", A_grad[i].sum(1) / X.shape[0])\n",
    "                setattr(self, f\"W{i+1}_grad\", torch.mm(A_grad[i], O[i-1].t()) / X.shape[0])\n",
    "\n",
    "            O_grad[0] = torch.mm(A_grad[1].t(), getattr(self, \"W2\")).t()\n",
    "            if activation_f == sigmoid: A_grad[0] = O[0] * sigmoid(A[0]) * (1 - sigmoid(A[0]))\n",
    "            elif activation_f == relu: A_grad[0] = O[0] * torch.where(A[0] > 0, torch.tensor(1), torch.tensor(0))\n",
    "            setattr(self, f\"b1_grad\", A_grad[0].sum(1) / X.shape[0])\n",
    "            setattr(self, f\"W1_grad\", torch.mm(A_grad[0], X) / X.shape[0])\n",
    "\n",
    "        return O[-1], loss"
   ]
  },
  {
   "cell_type": "code",
   "execution_count": 159,
   "metadata": {},
   "outputs": [],
   "source": [
    "def gradient_descent_multiple_layers(net, X, Y, alpha=0.1, verb=True, activation_f=sigmoid):\n",
    "    for j in range(100000):\n",
    "        predictions, loss = net.forward(X, Y, do_backward=True)\n",
    "        if (j % 5000) == 0 and verb:\n",
    "            print(f\"after {i} steps \\tloss={loss}\")\n",
    "        for i in range(1, net.depth + 2):\n",
    "            param_W = getattr(net, f\"W{i}\")\n",
    "            param_b = getattr(net, f\"b{i}\")\n",
    "            param_W[:] = param_W - alpha * getattr(net, f\"W{i}\" + \"_grad\")\n",
    "            param_b[:] = param_b - alpha * getattr(net, f\"b{i}\" + \"_grad\")\n",
    "        params = {}\n",
    "        for i in range(1, net.depth + 2):\n",
    "            param_W = getattr(net, f\"W{i}\")\n",
    "            param_b = getattr(net, f\"b{i}\")\n",
    "            params[f\"W{i}\"] = param_W\n",
    "            params[f\"b{i}\"] = param_b\n",
    "    return predictions, loss, params"
   ]
  },
  {
   "cell_type": "code",
   "execution_count": 160,
   "metadata": {},
   "outputs": [
    {
     "name": "stdout",
     "output_type": "stream",
     "text": [
      "XORnet(tensor([1., 1., 1.], dtype=torch.float64)) = 0.5000031083269908              1.0\n",
      "XORnet(tensor([1., 1., 0.], dtype=torch.float64)) = 0.5000022489390996              0.0\n",
      "XORnet(tensor([1., 0., 1.], dtype=torch.float64)) = 0.5000021259574553              0.0\n",
      "XORnet(tensor([1., 0., 0.], dtype=torch.float64)) = 0.49999918609618793             1.0\n",
      "XORnet(tensor([0., 1., 1.], dtype=torch.float64)) = 0.5000023548176442              0.0\n",
      "XORnet(tensor([0., 1., 0.], dtype=torch.float64)) = 0.49999984121424856             1.0\n",
      "XORnet(tensor([0., 0., 1.], dtype=torch.float64)) = 0.4999995602655826              1.0\n",
      "XORnet(tensor([0., 0., 0.], dtype=torch.float64)) = 0.49999123309786453             0.0\n",
      "loss: 0.6931462473128395\n"
     ]
    }
   ],
   "source": [
    "net = MultipleHiddenLayerNet(3, [3, 3], 2, dtype=torch.float64)\n",
    "predictions, loss, _ = gradient_descent_multiple_layers(net, X3, Y3, verb=False, activation_f=sigmoid)\n",
    "for x, p, y in zip(X3, predictions.t(), Y3):\n",
    "    print(f\"XORnet({x}) = {p[0]:<30}  {y[0]}\")\n",
    "print(f\"loss: {loss}\")"
   ]
  },
  {
   "cell_type": "code",
   "execution_count": 188,
   "metadata": {},
   "outputs": [],
   "source": [
    "class VariableHiddenLayerNet:\n",
    "    def __init__(self, in_features: int, num_hidden: List[int], depth: int, dtype=torch.float64):\n",
    "        self.depth = depth\n",
    "\n",
    "        # input layer\n",
    "        setattr(self, \"W1\", torch.zeros((num_hidden[0], in_features), dtype=dtype))\n",
    "        setattr(self, \"b1\", torch.zeros((num_hidden[0],), dtype=dtype))\n",
    "\n",
    "        # hidden layers\n",
    "        for i in range(2, depth):\n",
    "            setattr(self, f\"W{i}\", torch.zeros((num_hidden[i-1], num_hidden[i-2]), dtype=dtype))\n",
    "            setattr(self, f\"b{i}\", torch.zeros((num_hidden[i-1],), dtype=dtype))\n",
    "\n",
    "        # output layer\n",
    "        setattr(self, f\"W{depth}\", torch.zeros((1, num_hidden[-2]), dtype=dtype))\n",
    "        setattr(self, f\"b{depth}\", torch.zeros((1,), dtype=dtype))\n",
    "\n",
    "        self.init_params()\n",
    "\n",
    "    def init_params(self):\n",
    "        # set all parameters to small random values, e.g. from N(0, 0.5)\n",
    "        for i in range(1, self.depth+1):\n",
    "            setattr(self, f\"W{i}\", torch.nn.init.normal_(getattr(self, f\"W{i}\"), std=0.5))\n",
    "            setattr(self, f\"b{i}\", torch.nn.init.normal_(getattr(self, f\"b{i}\"), std=0.5))\n",
    "\n",
    "    def forward(self, X, Y=None, do_backward=False, first_activation_f = sigmoid):\n",
    "        A = [0 for i in range(self.depth)]\n",
    "        O = [0 for i in range(self.depth)]\n",
    "\n",
    "        # input layer\n",
    "        A[0] = torch.mm(X, getattr(self, \"W1\").T) + getattr(self, \"b1\")\n",
    "        O[0] = first_activation_f(A[0])\n",
    "\n",
    "        # hidden and output layers\n",
    "        for i in range(1, self.depth):\n",
    "            A[i] = torch.mm(O[i-1], getattr(self, f\"W{i+1}\").T) + getattr(self, f\"b{i+1}\")\n",
    "            O[i] = first_activation_f(A[i])\n",
    "\n",
    "        # When Y is none, simply return the predictions. Else compute the loss\n",
    "        if Y is not None:\n",
    "            loss = -(Y * torch.log(O[self.depth-1]) + (1 - Y) * torch.log(1.0 - O[self.depth-1]))\n",
    "            # normalize loss by batch size\n",
    "            loss = loss.sum() / X.shape[0]\n",
    "        else:\n",
    "            loss = torch.nan\n",
    "\n",
    "        if do_backward:\n",
    "            # fill in the gradient computation\n",
    "            A_grad = [0 for i in range(self.depth)]\n",
    "            O_grad = [0 for i in range(self.depth)]\n",
    "\n",
    "            # output layer backpropagation\n",
    "            A_grad[self.depth-1] = O[self.depth-1] - Y\n",
    "            setattr(self, f\"b{self.depth}_grad\", A_grad[self.depth-1].sum(0) / A_grad[self.depth-1].shape[0])\n",
    "            setattr(self, f\"W{self.depth}_grad\", torch.mm(A_grad[self.depth-1].T, O[self.depth-2]) / A_grad[self.depth-1].shape[0])\n",
    "\n",
    "            # hidden layers backpropagation\n",
    "            for i in range(self.depth-2, 0, -1):\n",
    "                O_grad[i] = torch.mm(A_grad[i+1], getattr(self, f\"W{i+2}\"))\n",
    "\n",
    "                if first_activation_f == sigmoid:\n",
    "                    A_grad[i] = O_grad[i] * sigmoid(A[i]) * (1 - sigmoid(A[i]))\n",
    "                elif first_activation_f == relu:\n",
    "                    A_grad[i] = O_grad[i] * relu(A[i])\n",
    "                # set values of weights and biases\n",
    "                setattr(self, f\"b{i+1}_grad\", A_grad[i].sum(0) / A_grad[i+1].shape[0])\n",
    "                setattr(self, f\"W{i+1}_grad\", torch.mm(A_grad[i].T, O[i-1]) / A_grad[i].shape[0])\n",
    "\n",
    "            # first layer backpropagation\n",
    "            O_grad[0] = torch.mm(A_grad[1], getattr(self, \"W2\"))\n",
    "            if first_activation_f == sigmoid:\n",
    "                A_grad[0] = O_grad[0] * sigmoid(A[0]) * (1 - sigmoid(A[0]))\n",
    "            elif first_activation_f == relu:\n",
    "                A_grad[0] = O_grad[0] * relu(A[0])\n",
    "            # set values of weights and biases\n",
    "            setattr(self, f\"b1_grad\", A_grad[0].sum(0) / A_grad[1].shape[0])\n",
    "            setattr(self, f\"W1_grad\", torch.mm(A_grad[0].T, X) / A_grad[0].shape[0])\n",
    "        return O[self.depth-1], loss"
   ]
  },
  {
   "cell_type": "code",
   "execution_count": 189,
   "metadata": {},
   "outputs": [],
   "source": [
    "def grad_desc(net, alpha, X, Y, first_activation_f = sigmoid, verbose = False):\n",
    "    for i in range(100_000):\n",
    "        _, loss = net.forward(X, Y, do_backward=True, first_activation_f=first_activation_f)\n",
    "        if (i % 5_000) == 0 and verbose:\n",
    "            print(f\"after {i} steps \\tloss={loss}\")\n",
    "        for layer in range(1, net.depth + 1): # Loop over the layers from 1 to n\n",
    "            param_name_W = \"W\" + str(layer)\n",
    "            param_name_b = \"b\" + str(layer)\n",
    "            param_W = getattr(net, param_name_W)\n",
    "            param_b = getattr(net, param_name_b)\n",
    "            param_W[:] = param_W - alpha * getattr(net, param_name_W + \"_grad\")\n",
    "            param_b[:] = param_b - alpha * getattr(net, param_name_b + \"_grad\")\n",
    "    params = {} # Initialize an empty dictionary to store the parameters\n",
    "    for layer in range(1, net.depth + 1): # Loop over the layers from 1 to n\n",
    "        param_name_W = \"W\" + str(layer)\n",
    "        param_name_b = \"b\" + str(layer)\n",
    "        param_W = getattr(net, param_name_W)\n",
    "        param_b = getattr(net, param_name_b)\n",
    "        params[param_name_W] = param_W\n",
    "        params[param_name_b] = param_b\n",
    "\n",
    "    return _, loss, params"
   ]
  },
  {
   "cell_type": "code",
   "execution_count": 190,
   "metadata": {},
   "outputs": [
    {
     "name": "stdout",
     "output_type": "stream",
     "text": [
      "Loss for training with 3 layers and 3 neurons each was 0.00026705788907207905\n",
      "XORnet(tensor([1., 1., 1.], dtype=torch.float64)) = 0.9999089076758064              1.0\n",
      "XORnet(tensor([1., 1., 0.], dtype=torch.float64)) = 0.00035014165698536574          0.0\n",
      "XORnet(tensor([1., 0., 1.], dtype=torch.float64)) = 0.000322583838007273            0.0\n",
      "XORnet(tensor([1., 0., 0.], dtype=torch.float64)) = 0.9997393812214423              1.0\n",
      "XORnet(tensor([0., 1., 1.], dtype=torch.float64)) = 0.0003528421468318999           0.0\n",
      "XORnet(tensor([0., 1., 0.], dtype=torch.float64)) = 0.9997632902700109              1.0\n",
      "XORnet(tensor([0., 0., 1.], dtype=torch.float64)) = 0.9997244162777705              1.0\n",
      "XORnet(tensor([0., 0., 0.], dtype=torch.float64)) = 0.0002465807745712568           0.0\n"
     ]
    }
   ],
   "source": [
    "net = VariableHiddenLayerNet(3, [5, 3, 1], 3, dtype=torch.float64)\n",
    "predictions, loss, params = grad_desc(net, 0.1, X3, Y3)\n",
    "print(f\"Loss for training with {3} layers and {3} neurons each was {loss}\")\n",
    "for x, p, y in zip(X3, predictions, Y3):\n",
    "    print(f\"XORnet({x}) = {p[0]:<30}  {y[0]}\")"
   ]
  },
  {
   "cell_type": "markdown",
   "metadata": {
    "cell_id": "00031-032edb86-1c56-46e7-8ea3-3e011d72bf5f",
    "deepnote_app_coordinates": {
     "h": 5,
     "w": 12,
     "x": 0,
     "y": 186
    },
    "deepnote_cell_type": "markdown",
    "id": "nWuv7Q77-Nut"
   },
   "source": [
    "## Problem 7"
   ]
  },
  {
   "cell_type": "code",
   "execution_count": null,
   "metadata": {
    "cell_id": "00032-2eab2b1a-f83b-409c-a066-1642cd2ab2d8",
    "deepnote_app_coordinates": {
     "h": 5,
     "w": 12,
     "x": 0,
     "y": 192
    },
    "deepnote_cell_type": "code",
    "id": "avuvSoWY-N4Z"
   },
   "outputs": [],
   "source": []
  }
 ],
 "metadata": {
  "colab": {
   "collapsed_sections": [],
   "include_colab_link": true,
   "name": "Assignment1.ipynb",
   "provenance": []
  },
  "deepnote": {},
  "deepnote_app_layout": "article",
  "deepnote_execution_queue": [],
  "deepnote_notebook_id": "1f038069-bae5-44e5-92ba-67bdff2c54a6",
  "kernelspec": {
   "display_name": "Python 3 (ipykernel)",
   "language": "python",
   "name": "python3"
  },
  "language_info": {
   "codemirror_mode": {
    "name": "ipython",
    "version": 3
   },
   "file_extension": ".py",
   "mimetype": "text/x-python",
   "name": "python",
   "nbconvert_exporter": "python",
   "pygments_lexer": "ipython3",
   "version": "3.10.12"
  }
 },
 "nbformat": 4,
 "nbformat_minor": 4
}
