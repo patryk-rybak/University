{
  "cells": [
    {
      "cell_type": "markdown",
      "metadata": {
        "id": "view-in-github"
      },
      "source": [
        "<a href=\"https://colab.research.google.com/github/rnoxy/dl_uwr/blob/summer2024/Assignments/Assignment3.ipynb\" target=\"_parent\"><img src=\"https://colab.research.google.com/assets/colab-badge.svg\" alt=\"Open In Colab\"/></a>"
      ]
    },
    {
      "cell_type": "markdown",
      "metadata": {
        "id": "8ulhVYI86xhZ"
      },
      "source": [
        "## Assignment 3\n",
        "\n",
        "**Submission deadlines:**\n",
        "- deadline: last lab session Tuesday, 09.04.2023\n",
        "\n",
        "**Points:** Aim to get 8 points + 2 extra\n",
        "\n",
        "### Submission instructions\n",
        "The class is held remotely. To submit your solutions please show the notebook over the video call. Make sure you know all the questions and answers, and that the notebook contains results (before presentation do `Runtime -> Restart and run all`)\n",
        "\n",
        "For the problem 2, we provide the starter code,\n",
        "however, you are not required to use it as long as you properly solve the tasks."
      ]
    },
    {
      "cell_type": "markdown",
      "metadata": {
        "jp-MarkdownHeadingCollapsed": true,
        "id": "5qsnE0QODQTu"
      },
      "source": [
        "# Problem 1: Classify the Oxford Flowers dataset (Weight & Biases) [6p]\n",
        "\n",
        "In this task, you will train a convolutional neural network to classify images of flowers from the [Oxford Flowers 102 dataset](https://www.robots.ox.ac.uk/~vgg/data/flowers/102/). The dataset consists of 102 flower categories, and each class has between 40 and 258 images. The images have large scale, pose, and light variations. In addition, there are categories that have large variations within the category and several very similar categories.\n",
        "\n",
        "    \n",
        "The dataset is available in `torchvision.datasets.Flower102` class. You can use the following code to load the dataset:\n",
        "\n",
        "```python\n",
        "import torchvision\n",
        "import torchvision.transforms as transforms\n",
        "\n",
        "dataset = torchvision.datasets.Flower102(root='./data', download=True, transform=transforms.ToTensor())\n",
        "```\n",
        "\n",
        "In this task you should run several experiments to classify the images.\n",
        "In order to track the experiments, you can use the `Weight & Biases` library; see the [documentation](https://docs.wandb.ai/quickstart) for more details.\n",
        "\n",
        "Implement your code as a single Python script or a Jupyter notebook. Remember to log the experiment configuration, hyperparameters, and results (e.g., training loss, validation loss, accuracy and test loss, accuracy).\n",
        "For logging, you can use the `wandb.log` function to log the metrics and hyperparameters. You can also log the model architecture, training curves, and other relevant information.\n",
        "\n",
        "* 1.1 **[2p]**:\n",
        "    * Your task is to implement a convolutional neural network from scratch using PyTorch.\n",
        "    * Your CNN should consist of convolutional layers (Conv2D), pooling layers (MaxPooling2D), activation layers (e.g., ReLU), and fully connected layers (if needed).\n",
        "    * Train your CNN on a small part of the dataset (e.g., 10%, 25%, 50%, 75%, 100% of the original training set) while keeping the validation and test sets constant.\n",
        "\n",
        "* 1.2 **[1p]**:\n",
        "    * Input normalization: experiment with different input normalization techniques (e.g., mean subtraction, standardization) and analyze their impact on the model's performance.\n",
        "\n",
        "* 1.3 **[1p]**:\n",
        "    * Experiment with different hyperparameters such as learning rate, batch size, number of epochs, and optimizer choice (e.g., SGD, Adam).\n",
        "\n",
        "* 1.4 **[1p]**: Użyć wbudowanych\n",
        "    * Modify your CNN architecture to include batch normalization and dropout layers.\n",
        "\n",
        "* 1.5 **[1p]**:\n",
        "    * Implement data augmentation techniques such as random rotations, shifts, flips, and zooms on the training dataset.\n",
        "    * Train your CNN with augmented data and compare the performance with the baseline model trained on the original data.\n",
        "\n",
        "* 1.6 ***[2p extra points]***:\n",
        "    * Implement residual connections in your CNN architecture; see the [ResNet paper](https://arxiv.org/abs/1512.03385) for more details.\n",
        "    * Implement inception modules in your CNN architecture; see the [GoogLeNet paper](https://arxiv.org/abs/1409.4842) for more details.\n",
        "                \n",
        "\n",
        "Analyze the results obtained from different experiments.\n",
        "Discuss the effects of varying training set size, hyperparameters, batch normalization, dropout, and data augmentation on the CNN's performance.\n",
        "Provide insights into how these factors influence model training, convergence, and generalization.\n",
        "\n",
        "You can use the `Weight & Biases` reports to present your findings in a comprehensive report or presentation; see the [documentation](https://docs.wandb.ai/quickstart) for more details.\n",
        "\n",
        "\n"
      ]
    },
    {
      "cell_type": "markdown",
      "metadata": {
        "id": "QoSjnHKFDQTv"
      },
      "source": [
        "## Imports"
      ]
    },
    {
      "cell_type": "code",
      "source": [
        "!pip install wandb"
      ],
      "metadata": {
        "colab": {
          "base_uri": "https://localhost:8080/"
        },
        "id": "jTO3m8iADmbi",
        "outputId": "53937a05-6c20-49f7-ffba-4e9212e65102"
      },
      "execution_count": 3,
      "outputs": [
        {
          "output_type": "stream",
          "name": "stdout",
          "text": [
            "Requirement already satisfied: wandb in /usr/local/lib/python3.10/dist-packages (0.16.6)\n",
            "Requirement already satisfied: Click!=8.0.0,>=7.1 in /usr/local/lib/python3.10/dist-packages (from wandb) (8.1.7)\n",
            "Requirement already satisfied: GitPython!=3.1.29,>=1.0.0 in /usr/local/lib/python3.10/dist-packages (from wandb) (3.1.43)\n",
            "Requirement already satisfied: requests<3,>=2.0.0 in /usr/local/lib/python3.10/dist-packages (from wandb) (2.31.0)\n",
            "Requirement already satisfied: psutil>=5.0.0 in /usr/local/lib/python3.10/dist-packages (from wandb) (5.9.5)\n",
            "Requirement already satisfied: sentry-sdk>=1.0.0 in /usr/local/lib/python3.10/dist-packages (from wandb) (2.0.1)\n",
            "Requirement already satisfied: docker-pycreds>=0.4.0 in /usr/local/lib/python3.10/dist-packages (from wandb) (0.4.0)\n",
            "Requirement already satisfied: PyYAML in /usr/local/lib/python3.10/dist-packages (from wandb) (6.0.1)\n",
            "Requirement already satisfied: setproctitle in /usr/local/lib/python3.10/dist-packages (from wandb) (1.3.3)\n",
            "Requirement already satisfied: setuptools in /usr/local/lib/python3.10/dist-packages (from wandb) (67.7.2)\n",
            "Requirement already satisfied: appdirs>=1.4.3 in /usr/local/lib/python3.10/dist-packages (from wandb) (1.4.4)\n",
            "Requirement already satisfied: protobuf!=4.21.0,<5,>=3.19.0 in /usr/local/lib/python3.10/dist-packages (from wandb) (3.20.3)\n",
            "Requirement already satisfied: six>=1.4.0 in /usr/local/lib/python3.10/dist-packages (from docker-pycreds>=0.4.0->wandb) (1.16.0)\n",
            "Requirement already satisfied: gitdb<5,>=4.0.1 in /usr/local/lib/python3.10/dist-packages (from GitPython!=3.1.29,>=1.0.0->wandb) (4.0.11)\n",
            "Requirement already satisfied: charset-normalizer<4,>=2 in /usr/local/lib/python3.10/dist-packages (from requests<3,>=2.0.0->wandb) (3.3.2)\n",
            "Requirement already satisfied: idna<4,>=2.5 in /usr/local/lib/python3.10/dist-packages (from requests<3,>=2.0.0->wandb) (3.7)\n",
            "Requirement already satisfied: urllib3<3,>=1.21.1 in /usr/local/lib/python3.10/dist-packages (from requests<3,>=2.0.0->wandb) (2.0.7)\n",
            "Requirement already satisfied: certifi>=2017.4.17 in /usr/local/lib/python3.10/dist-packages (from requests<3,>=2.0.0->wandb) (2024.2.2)\n",
            "Requirement already satisfied: smmap<6,>=3.0.1 in /usr/local/lib/python3.10/dist-packages (from gitdb<5,>=4.0.1->GitPython!=3.1.29,>=1.0.0->wandb) (5.0.1)\n"
          ]
        }
      ]
    },
    {
      "cell_type": "code",
      "execution_count": 4,
      "metadata": {
        "id": "Gzy-VizFDQTx"
      },
      "outputs": [],
      "source": [
        "import torchvision\n",
        "import torchvision.transforms as transforms\n",
        "import torch\n",
        "import matplotlib.pyplot as plt\n",
        "import torch.nn as nn\n",
        "import torch.optim as optim\n",
        "from tqdm import tqdm\n",
        "from torch.utils.data import Subset\n",
        "import itertools\n",
        "import gc\n",
        "import numpy as np\n",
        "import wandb\n",
        "\n",
        "torch.manual_seed(42)\n",
        "np.random.seed(42)\n",
        "\n",
        "device = torch.device(\"cuda\" if torch.cuda.is_available() else \"cpu\")"
      ]
    },
    {
      "cell_type": "code",
      "execution_count": 5,
      "metadata": {
        "colab": {
          "base_uri": "https://localhost:8080/"
        },
        "id": "C5agdwPVDQTz",
        "outputId": "b5c68e27-2fa1-4d60-846c-e93443274e71"
      },
      "outputs": [
        {
          "output_type": "stream",
          "name": "stdout",
          "text": [
            "\u001b[34m\u001b[1mwandb\u001b[0m: Logging into wandb.ai. (Learn how to deploy a W&B server locally: https://wandb.me/wandb-server)\n",
            "\u001b[34m\u001b[1mwandb\u001b[0m: You can find your API key in your browser here: https://wandb.ai/authorize\n",
            "\u001b[34m\u001b[1mwandb\u001b[0m: Paste an API key from your profile and hit enter, or press ctrl+c to quit: \n",
            "\u001b[34m\u001b[1mwandb\u001b[0m: Appending key for api.wandb.ai to your netrc file: /root/.netrc\n"
          ]
        }
      ],
      "source": [
        "!wandb login"
      ]
    },
    {
      "cell_type": "markdown",
      "metadata": {
        "jp-MarkdownHeadingCollapsed": true,
        "id": "iyjQMdJgDQT0"
      },
      "source": [
        "## Data"
      ]
    },
    {
      "cell_type": "code",
      "execution_count": 6,
      "metadata": {
        "ExecuteTime": {
          "end_time": "2024-04-08T21:11:20.965028Z",
          "start_time": "2024-04-08T21:11:19.250365Z"
        },
        "colab": {
          "base_uri": "https://localhost:8080/"
        },
        "id": "llmsBBUJDQT1",
        "outputId": "47d72eb2-0849-477a-e1ef-60bb5b1b2774"
      },
      "outputs": [
        {
          "output_type": "stream",
          "name": "stdout",
          "text": [
            "Downloading https://thor.robots.ox.ac.uk/datasets/flowers-102/102flowers.tgz to data/flowers-102/102flowers.tgz\n"
          ]
        },
        {
          "output_type": "stream",
          "name": "stderr",
          "text": [
            "100%|██████████| 344862509/344862509 [00:31<00:00, 10784761.68it/s]\n"
          ]
        },
        {
          "output_type": "stream",
          "name": "stdout",
          "text": [
            "Extracting data/flowers-102/102flowers.tgz to data/flowers-102\n",
            "Downloading https://thor.robots.ox.ac.uk/datasets/flowers-102/imagelabels.mat to data/flowers-102/imagelabels.mat\n"
          ]
        },
        {
          "output_type": "stream",
          "name": "stderr",
          "text": [
            "100%|██████████| 502/502 [00:00<00:00, 1184218.56it/s]\n"
          ]
        },
        {
          "output_type": "stream",
          "name": "stdout",
          "text": [
            "Downloading https://thor.robots.ox.ac.uk/datasets/flowers-102/setid.mat to data/flowers-102/setid.mat\n"
          ]
        },
        {
          "output_type": "stream",
          "name": "stderr",
          "text": [
            "100%|██████████| 14989/14989 [00:00<00:00, 15760446.89it/s]\n"
          ]
        }
      ],
      "source": [
        "transform = transforms.Compose([\n",
        "    transforms.Resize((256,256)),\n",
        "    transforms.ToTensor()\n",
        "])\n",
        "\n",
        "trainset = torchvision.datasets.Flowers102(root='./data', split='train', download=True, transform=transform)\n",
        "trainloader_full = torch.utils.data.DataLoader(trainset, batch_size=32, shuffle=True, num_workers=2)\n",
        "\n",
        "validation_set = torchvision.datasets.Flowers102(root='./data', split='val', download=True, transform=transform)\n",
        "validationloader = torch.utils.data.DataLoader(validation_set, batch_size=32, shuffle=True, num_workers=2)\n",
        "\n",
        "testset = torchvision.datasets.Flowers102(root='./data', split='test', download=True, transform=transform)\n",
        "testloader = torch.utils.data.DataLoader(testset, batch_size=32, shuffle=False, num_workers=2)"
      ]
    },
    {
      "cell_type": "code",
      "execution_count": 7,
      "metadata": {
        "ExecuteTime": {
          "end_time": "2024-04-08T21:11:24.320507Z",
          "start_time": "2024-04-08T21:11:23.607635Z"
        },
        "colab": {
          "base_uri": "https://localhost:8080/",
          "height": 1000
        },
        "id": "IylFJlI9DQT3",
        "outputId": "ed73b440-c7b1-47be-e2c3-299b0b316a35"
      },
      "outputs": [
        {
          "output_type": "stream",
          "name": "stdout",
          "text": [
            "Dataset Flowers102\n",
            "    Number of datapoints: 1020\n",
            "    Root location: ./data\n",
            "    split=train\n",
            "    StandardTransform\n",
            "Transform: Compose(\n",
            "               Resize(size=(256, 256), interpolation=bilinear, max_size=None, antialias=True)\n",
            "               ToTensor()\n",
            "           ) Dataset Flowers102\n",
            "    Number of datapoints: 1020\n",
            "    Root location: ./data\n",
            "    split=val\n",
            "    StandardTransform\n",
            "Transform: Compose(\n",
            "               Resize(size=(256, 256), interpolation=bilinear, max_size=None, antialias=True)\n",
            "               ToTensor()\n",
            "           ) Dataset Flowers102\n",
            "    Number of datapoints: 6149\n",
            "    Root location: ./data\n",
            "    split=test\n",
            "    StandardTransform\n",
            "Transform: Compose(\n",
            "               Resize(size=(256, 256), interpolation=bilinear, max_size=None, antialias=True)\n",
            "               ToTensor()\n",
            "           )\n",
            "\n",
            "train, valid, test lens: 1020, 1020, 6149\n",
            "Sample: (tensor([[[0.1333, 0.1294, 0.1255,  ..., 0.1137, 0.1098, 0.1059],\n",
            "         [0.1216, 0.1333, 0.1294,  ..., 0.1176, 0.1059, 0.1020],\n",
            "         [0.1294, 0.1412, 0.1373,  ..., 0.1255, 0.1098, 0.1059],\n",
            "         ...,\n",
            "         [0.0235, 0.0314, 0.0353,  ..., 0.1255, 0.1294, 0.1294],\n",
            "         [0.0353, 0.0431, 0.0431,  ..., 0.1098, 0.1137, 0.1137],\n",
            "         [0.0353, 0.0431, 0.0431,  ..., 0.1020, 0.0941, 0.0941]],\n",
            "\n",
            "        [[0.1373, 0.1333, 0.1294,  ..., 0.1059, 0.0941, 0.0863],\n",
            "         [0.1255, 0.1373, 0.1333,  ..., 0.1059, 0.0941, 0.0863],\n",
            "         [0.1333, 0.1451, 0.1412,  ..., 0.1098, 0.0941, 0.0902],\n",
            "         ...,\n",
            "         [0.0745, 0.0745, 0.0667,  ..., 0.0745, 0.0902, 0.0902],\n",
            "         [0.0784, 0.0824, 0.0745,  ..., 0.0784, 0.0824, 0.0863],\n",
            "         [0.0784, 0.0824, 0.0745,  ..., 0.0824, 0.0824, 0.0824]],\n",
            "\n",
            "        [[0.0745, 0.0706, 0.0667,  ..., 0.0745, 0.0667, 0.0588],\n",
            "         [0.0627, 0.0745, 0.0706,  ..., 0.0784, 0.0549, 0.0471],\n",
            "         [0.0706, 0.0824, 0.0784,  ..., 0.0784, 0.0471, 0.0392],\n",
            "         ...,\n",
            "         [0.0078, 0.0118, 0.0078,  ..., 0.0745, 0.0902, 0.0902],\n",
            "         [0.0157, 0.0196, 0.0157,  ..., 0.0745, 0.0863, 0.0863],\n",
            "         [0.0157, 0.0196, 0.0157,  ..., 0.0745, 0.0745, 0.0784]]]), 101)\n",
            "Image size: torch.Size([3, 256, 256])\n",
            "Label: 101\n"
          ]
        },
        {
          "output_type": "execute_result",
          "data": {
            "text/plain": [
              "<matplotlib.image.AxesImage at 0x7879c69aa500>"
            ]
          },
          "metadata": {},
          "execution_count": 7
        },
        {
          "output_type": "display_data",
          "data": {
            "text/plain": [
              "<Figure size 640x480 with 1 Axes>"
            ],
            "image/png": "[encoded data removed]"
          },
          "metadata": {}
        }
      ],
      "source": [
        "print(trainset, validation_set, testset, end=\"\\n\\n\")\n",
        "print(f\"train, valid, test lens: {len(trainset)}, {len(validation_set)}, {len(testset)}\")\n",
        "sample = trainset[-1]\n",
        "print(f\"Sample: {sample}\")\n",
        "image, label = sample\n",
        "print(f\"Image size: {image.size()}\")\n",
        "print(f\"Label: {label}\")\n",
        "\n",
        "plt.imshow(sample[0].permute(1, 2, 0))"
      ]
    },
    {
      "cell_type": "markdown",
      "metadata": {
        "jp-MarkdownHeadingCollapsed": true,
        "id": "cyRkmt6SDQT6"
      },
      "source": [
        "## Problem 1.1"
      ]
    },
    {
      "cell_type": "code",
      "execution_count": 8,
      "metadata": {
        "id": "sOoUu3ldDQT7"
      },
      "outputs": [],
      "source": [
        "def evaluate_model(model, test_loader, device=\"cuda\"):\n",
        "    model.to(device)\n",
        "    correct = 0\n",
        "    total = 0\n",
        "    with torch.no_grad():\n",
        "        for data in test_loader:\n",
        "            images, labels = data\n",
        "            images, labels = images.to(device), labels.to(device)\n",
        "            outputs = model(images)\n",
        "            predicted = torch.argmax(outputs, dim=1)\n",
        "            total += labels.size(0)\n",
        "            correct += (predicted == labels).sum().item()\n",
        "    accuracy = 100 * correct / total\n",
        "    return accuracy"
      ]
    },
    {
      "cell_type": "code",
      "execution_count": 9,
      "metadata": {
        "ExecuteTime": {
          "end_time": "2024-04-08T21:11:39.385689Z",
          "start_time": "2024-04-08T21:11:39.347348Z"
        },
        "id": "Y23m6-StDQT8"
      },
      "outputs": [],
      "source": [
        "class CNN(nn.Module):\n",
        "    def __init__(self, hidden_dim, out_dim, device='cuda'):\n",
        "        super(CNN, self).__init__()\n",
        "        self.device = device\n",
        "        self.conv1 = nn.Conv2d(3, 32, kernel_size=3)\n",
        "        self.conv2 = nn.Conv2d(32, 64, kernel_size=3)\n",
        "\n",
        "        self.fc1_sz = 64 * 62 * 62\n",
        "        self.pool = nn.MaxPool2d(2, 2)\n",
        "        self.fc1 = nn.Linear(self.fc1_sz, hidden_dim)\n",
        "        self.fc2 = nn.Linear(hidden_dim, 102)\n",
        "\n",
        "        self.relu = nn.ReLU()\n",
        "\n",
        "    def forward(self, x):\n",
        "        x = self.pool(self.relu(self.conv1(x.to(self.device))))\n",
        "        x = self.pool(self.relu(self.conv2(x)))\n",
        "\n",
        "        x = x.view(-1, self.fc1_sz)\n",
        "        x = self.relu(self.fc1(x))\n",
        "        x = self.fc2(x)\n",
        "        return x\n",
        "\n",
        "def train_model(model, criterion, optimizer, train_loader, validation_loader, num_epochs=5, proj=\"\", name=\"\", conf=None, _wandb=False, verbose=True, device=\"cuda\"):\n",
        "    try:\n",
        "        model.to(device)\n",
        "        if _wandb:\n",
        "            run = wandb.init(entity=\"333139\", project=f\"Assignment3-{proj}\", name=f\"training_run_{name}\", config=conf)\n",
        "\n",
        "        if verbose:\n",
        "            pbar = tqdm(range(num_epochs))\n",
        "        else:\n",
        "            pbar = range(num_epochs)\n",
        "        for epoch in pbar:\n",
        "            running_loss = 0.0\n",
        "            for i, data in enumerate(train_loader):\n",
        "                inputs, labels = data\n",
        "                inputs, labels = inputs.to(device), labels.to(device)\n",
        "                optimizer.zero_grad()\n",
        "\n",
        "                outputs = model(inputs)\n",
        "                loss = criterion(outputs, labels)\n",
        "                loss.backward()\n",
        "                optimizer.step()\n",
        "\n",
        "                running_loss += loss.item()\n",
        "            model.eval()\n",
        "            with torch.no_grad():\n",
        "                val_accuracy = evaluate_model(model, validation_loader, device=device)\n",
        "\n",
        "\n",
        "            if _wandb:\n",
        "                run.log({\n",
        "                    \"Loss\": running_loss / 100,\n",
        "                    \"val_acc\": val_accuracy\n",
        "                }, step=epoch)\n",
        "\n",
        "            if verbose:\n",
        "                pbar.set_description(f'[epoch:\\t{epoch + 1}] loss: {running_loss / 100}')\n",
        "                running_loss = 0.0\n",
        "\n",
        "    except Exception as e:\n",
        "        print(e)\n",
        "    finally:\n",
        "        if _wandb:\n",
        "            run.finish()"
      ]
    },
    {
      "cell_type": "code",
      "execution_count": 10,
      "metadata": {
        "ExecuteTime": {
          "end_time": "2024-04-08T21:11:49.053150Z",
          "start_time": "2024-04-08T21:11:48.850706Z"
        },
        "colab": {
          "base_uri": "https://localhost:8080/"
        },
        "id": "L_jDPMquDQT-",
        "outputId": "e3c3ae4b-7042-40b0-fd26-1ee0f2c0f9a8"
      },
      "outputs": [
        {
          "output_type": "stream",
          "name": "stderr",
          "text": [
            "\r  0%|          | 0/30 [00:00<?, ?it/s]/usr/lib/python3.10/multiprocessing/popen_fork.py:66: RuntimeWarning: os.fork() was called. os.fork() is incompatible with multithreaded code, and JAX is multithreaded, so this will likely lead to a deadlock.\n",
            "  self.pid = os.fork()\n",
            "[epoch:\t30] loss: 0.000712845497764647: 100%|██████████| 30/30 [06:09<00:00, 12.30s/it]\n"
          ]
        }
      ],
      "source": [
        "\n",
        "model = CNN(hidden_dim=512, out_dim=102, device=device)\n",
        "criterion = nn.CrossEntropyLoss()\n",
        "optimizer = optim.Adam(model.parameters(), lr=0.0001)\n",
        "\n",
        "num_epochs = 30\n",
        "train_model(model, criterion, optimizer, trainloader_full, validationloader, num_epochs=num_epochs, device=device)"
      ]
    },
    {
      "cell_type": "code",
      "execution_count": 11,
      "metadata": {
        "colab": {
          "base_uri": "https://localhost:8080/"
        },
        "id": "-6_ux7McDQT_",
        "outputId": "d9c232bc-367d-4f91-de50-4ff6d2b815e2"
      },
      "outputs": [
        {
          "output_type": "stream",
          "name": "stdout",
          "text": [
            "Accuracy on test set: 18.69%\n"
          ]
        }
      ],
      "source": [
        "accuracy = evaluate_model(model, testloader, device=device)\n",
        "print(\"Accuracy on test set: {:.2f}%\".format(accuracy))"
      ]
    },
    {
      "cell_type": "code",
      "execution_count": 13,
      "metadata": {
        "scrolled": true,
        "colab": {
          "base_uri": "https://localhost:8080/",
          "height": 1000,
          "referenced_widgets": [
            "29d49e9016b04b80bf8333520f98729f",
            "f2b9069167f2483fb7dfe1416c9b52fc",
            "7c3d8d3211cf4308b92409d6da4c553e",
            "bdc47ada889949698d5ec20d2c328575",
            "0ae3efd4f56a42bb8999feefc2edf28a",
            "5f20e5f727d54a868b44a56f3b00b12c",
            "f8d4c34653214d6b864c1945336c51a1",
            "aa6e51afc0ab4845b832d023541ac3fb",
            "73ff1af547644068842f0dbe4f39cc4b",
            "66dd144059d346f6b0c10eee85c3f29b",
            "e9db27ad9dbe470b9219de129448d956",
            "81eaca41a9ea4d4ba1e7d1a7aa8ca817",
            "19c31e91436e4191aff17f13542cfccf",
            "433c4889d544453ebd2543ea4c60510b",
            "7c09d4fb61254d988fd953087d02b20a",
            "f5d7ab738500472c80ca68db5d4079bc",
            "0bb4535f2077444680a8ad6a1d0c92ef",
            "2767f426f2da4379aafba15a50f46c4e",
            "efe1cd794fa6455ea631dd513f43d94b",
            "4f6e6d38814a4221a648e1777ecfd69e",
            "c3b92d69db5840e8a1b6ccde7fd7e604",
            "4fe6ef2102fb45dc9c13c1c59959edb9",
            "61ed0f072db54da78f87b967c40e9910",
            "45937332c07846e586fdcfd8dbd76ff5",
            "8fca18160b7341bfb4c418861d668d03",
            "da3f8ca59f454184a9407d4c242cc183",
            "7d8cffd1071f4637960c4720df8a3c94",
            "cce9e49f544146349bb64df52b27cf5a",
            "e5f41e54b9d347de9bc621cf0c54bd5b",
            "6720e416316f4c449f994ec81a89b9b0",
            "72e8b0f7bac8468fa91979ffd890280e",
            "cca5c4dab4fb48d2a381693f399d6af3",
            "dccd901db33e483099a379269180b137",
            "1788a8caff134d229b483c78cb354a90",
            "65406a92a1e547d0947ae04885a18b0d",
            "3ae6ee9de4eb497db41a51d1068f11c1",
            "1e604613206d407881f3815c2249f832",
            "d91f1108b75d47738713be829e28b0c6",
            "0d0ab7ec7b4d4bf3a783437001cde95c",
            "94ff8c81d7e5480fa9eb87fa630d66ea"
          ]
        },
        "id": "NV4fXQoYDQUA",
        "outputId": "01c9a424-b1e2-4bdd-d202-fdeecf158666"
      },
      "outputs": [
        {
          "output_type": "stream",
          "name": "stderr",
          "text": [
            "\u001b[34m\u001b[1mwandb\u001b[0m: Currently logged in as: \u001b[33m333139\u001b[0m. Use \u001b[1m`wandb login --relogin`\u001b[0m to force relogin\n"
          ]
        },
        {
          "output_type": "display_data",
          "data": {
            "text/plain": [
              "<IPython.core.display.HTML object>"
            ],
            "text/html": [
              "Tracking run with wandb version 0.16.6"
            ]
          },
          "metadata": {}
        },
        {
          "output_type": "display_data",
          "data": {
            "text/plain": [
              "<IPython.core.display.HTML object>"
            ],
            "text/html": [
              "Run data is saved locally in <code>/content/wandb/run-20240429_182159-wbnssmqv</code>"
            ]
          },
          "metadata": {}
        },
        {
          "output_type": "display_data",
          "data": {
            "text/plain": [
              "<IPython.core.display.HTML object>"
            ],
            "text/html": [
              "Syncing run <strong><a href='https://wandb.ai/333139/Assignment3-percent/runs/wbnssmqv' target=\"_blank\">training_run_0.1</a></strong> to <a href='https://wandb.ai/333139/Assignment3-percent' target=\"_blank\">Weights & Biases</a> (<a href='https://wandb.me/run' target=\"_blank\">docs</a>)<br/>"
            ]
          },
          "metadata": {}
        },
        {
          "output_type": "display_data",
          "data": {
            "text/plain": [
              "<IPython.core.display.HTML object>"
            ],
            "text/html": [
              " View project at <a href='https://wandb.ai/333139/Assignment3-percent' target=\"_blank\">https://wandb.ai/333139/Assignment3-percent</a>"
            ]
          },
          "metadata": {}
        },
        {
          "output_type": "display_data",
          "data": {
            "text/plain": [
              "<IPython.core.display.HTML object>"
            ],
            "text/html": [
              " View run at <a href='https://wandb.ai/333139/Assignment3-percent/runs/wbnssmqv' target=\"_blank\">https://wandb.ai/333139/Assignment3-percent/runs/wbnssmqv</a>"
            ]
          },
          "metadata": {}
        },
        {
          "output_type": "stream",
          "name": "stderr",
          "text": [
            "\r  0%|          | 0/10 [00:00<?, ?it/s]/usr/lib/python3.10/multiprocessing/popen_fork.py:66: RuntimeWarning: os.fork() was called. os.fork() is incompatible with multithreaded code, and JAX is multithreaded, so this will likely lead to a deadlock.\n",
            "  self.pid = os.fork()\n",
            "[epoch:\t10] loss: 0.04469749689102173: 100%|██████████| 10/10 [01:03<00:00,  6.34s/it]\n"
          ]
        },
        {
          "output_type": "display_data",
          "data": {
            "text/plain": [
              "VBox(children=(Label(value='0.011 MB of 0.011 MB uploaded\\r'), FloatProgress(value=1.0, max=1.0)))"
            ],
            "application/vnd.jupyter.widget-view+json": {
              "version_major": 2,
              "version_minor": 0,
              "model_id": "29d49e9016b04b80bf8333520f98729f"
            }
          },
          "metadata": {}
        },
        {
          "output_type": "display_data",
          "data": {
            "text/plain": [
              "<IPython.core.display.HTML object>"
            ],
            "text/html": [
              "<style>\n",
              "    table.wandb td:nth-child(1) { padding: 0 10px; text-align: left ; width: auto;} td:nth-child(2) {text-align: left ; width: 100%}\n",
              "    .wandb-row { display: flex; flex-direction: row; flex-wrap: wrap; justify-content: flex-start; width: 100% }\n",
              "    .wandb-col { display: flex; flex-direction: column; flex-basis: 100%; flex: 1; padding: 10px; }\n",
              "    </style>\n",
              "<div class=\"wandb-row\"><div class=\"wandb-col\"><h3>Run history:</h3><br/><table class=\"wandb\"><tr><td>Loss</td><td>█▇▆▅▅▄▃▃▁▁</td></tr><tr><td>val_acc</td><td>▁▁▃▂▄▇▄▄▇█</td></tr></table><br/></div><div class=\"wandb-col\"><h3>Run summary:</h3><br/><table class=\"wandb\"><tr><td>Loss</td><td>0.0447</td></tr><tr><td>val_acc</td><td>5.39216</td></tr></table><br/></div></div>"
            ]
          },
          "metadata": {}
        },
        {
          "output_type": "display_data",
          "data": {
            "text/plain": [
              "<IPython.core.display.HTML object>"
            ],
            "text/html": [
              " View run <strong style=\"color:#cdcd00\">training_run_0.1</strong> at: <a href='https://wandb.ai/333139/Assignment3-percent/runs/wbnssmqv' target=\"_blank\">https://wandb.ai/333139/Assignment3-percent/runs/wbnssmqv</a><br/> View project at: <a href='https://wandb.ai/333139/Assignment3-percent' target=\"_blank\">https://wandb.ai/333139/Assignment3-percent</a><br/>Synced 5 W&B file(s), 0 media file(s), 0 artifact file(s) and 0 other file(s)"
            ]
          },
          "metadata": {}
        },
        {
          "output_type": "display_data",
          "data": {
            "text/plain": [
              "<IPython.core.display.HTML object>"
            ],
            "text/html": [
              "Find logs at: <code>./wandb/run-20240429_182159-wbnssmqv/logs</code>"
            ]
          },
          "metadata": {}
        },
        {
          "output_type": "stream",
          "name": "stdout",
          "text": [
            "Accuracy on test set (10.0% of training data): 4.75%\n"
          ]
        },
        {
          "output_type": "display_data",
          "data": {
            "text/plain": [
              "<IPython.core.display.HTML object>"
            ],
            "text/html": [
              "Tracking run with wandb version 0.16.6"
            ]
          },
          "metadata": {}
        },
        {
          "output_type": "display_data",
          "data": {
            "text/plain": [
              "<IPython.core.display.HTML object>"
            ],
            "text/html": [
              "Run data is saved locally in <code>/content/wandb/run-20240429_182346-qb75t9y1</code>"
            ]
          },
          "metadata": {}
        },
        {
          "output_type": "display_data",
          "data": {
            "text/plain": [
              "<IPython.core.display.HTML object>"
            ],
            "text/html": [
              "Syncing run <strong><a href='https://wandb.ai/333139/Assignment3-percent/runs/qb75t9y1' target=\"_blank\">training_run_0.25</a></strong> to <a href='https://wandb.ai/333139/Assignment3-percent' target=\"_blank\">Weights & Biases</a> (<a href='https://wandb.me/run' target=\"_blank\">docs</a>)<br/>"
            ]
          },
          "metadata": {}
        },
        {
          "output_type": "display_data",
          "data": {
            "text/plain": [
              "<IPython.core.display.HTML object>"
            ],
            "text/html": [
              " View project at <a href='https://wandb.ai/333139/Assignment3-percent' target=\"_blank\">https://wandb.ai/333139/Assignment3-percent</a>"
            ]
          },
          "metadata": {}
        },
        {
          "output_type": "display_data",
          "data": {
            "text/plain": [
              "<IPython.core.display.HTML object>"
            ],
            "text/html": [
              " View run at <a href='https://wandb.ai/333139/Assignment3-percent/runs/qb75t9y1' target=\"_blank\">https://wandb.ai/333139/Assignment3-percent/runs/qb75t9y1</a>"
            ]
          },
          "metadata": {}
        },
        {
          "output_type": "stream",
          "name": "stderr",
          "text": [
            "[epoch:\t10] loss: 0.07406930088996887: 100%|██████████| 10/10 [01:13<00:00,  7.32s/it]\n"
          ]
        },
        {
          "output_type": "display_data",
          "data": {
            "text/plain": [
              "VBox(children=(Label(value='0.001 MB of 0.002 MB uploaded\\r'), FloatProgress(value=0.5637367694431661, max=1.0…"
            ],
            "application/vnd.jupyter.widget-view+json": {
              "version_major": 2,
              "version_minor": 0,
              "model_id": "73ff1af547644068842f0dbe4f39cc4b"
            }
          },
          "metadata": {}
        },
        {
          "output_type": "display_data",
          "data": {
            "text/plain": [
              "<IPython.core.display.HTML object>"
            ],
            "text/html": [
              "<style>\n",
              "    table.wandb td:nth-child(1) { padding: 0 10px; text-align: left ; width: auto;} td:nth-child(2) {text-align: left ; width: 100%}\n",
              "    .wandb-row { display: flex; flex-direction: row; flex-wrap: wrap; justify-content: flex-start; width: 100% }\n",
              "    .wandb-col { display: flex; flex-direction: column; flex-basis: 100%; flex: 1; padding: 10px; }\n",
              "    </style>\n",
              "<div class=\"wandb-row\"><div class=\"wandb-col\"><h3>Run history:</h3><br/><table class=\"wandb\"><tr><td>Loss</td><td>█▇▇▇▆▅▄▃▂▁</td></tr><tr><td>val_acc</td><td>▂▁▃▃▄▆▆▇▇█</td></tr></table><br/></div><div class=\"wandb-col\"><h3>Run summary:</h3><br/><table class=\"wandb\"><tr><td>Loss</td><td>0.07407</td></tr><tr><td>val_acc</td><td>7.45098</td></tr></table><br/></div></div>"
            ]
          },
          "metadata": {}
        },
        {
          "output_type": "display_data",
          "data": {
            "text/plain": [
              "<IPython.core.display.HTML object>"
            ],
            "text/html": [
              " View run <strong style=\"color:#cdcd00\">training_run_0.25</strong> at: <a href='https://wandb.ai/333139/Assignment3-percent/runs/qb75t9y1' target=\"_blank\">https://wandb.ai/333139/Assignment3-percent/runs/qb75t9y1</a><br/> View project at: <a href='https://wandb.ai/333139/Assignment3-percent' target=\"_blank\">https://wandb.ai/333139/Assignment3-percent</a><br/>Synced 5 W&B file(s), 0 media file(s), 0 artifact file(s) and 0 other file(s)"
            ]
          },
          "metadata": {}
        },
        {
          "output_type": "display_data",
          "data": {
            "text/plain": [
              "<IPython.core.display.HTML object>"
            ],
            "text/html": [
              "Find logs at: <code>./wandb/run-20240429_182346-qb75t9y1/logs</code>"
            ]
          },
          "metadata": {}
        },
        {
          "output_type": "stream",
          "name": "stdout",
          "text": [
            "Accuracy on test set (25.0% of training data): 7.22%\n"
          ]
        },
        {
          "output_type": "display_data",
          "data": {
            "text/plain": [
              "<IPython.core.display.HTML object>"
            ],
            "text/html": [
              "Tracking run with wandb version 0.16.6"
            ]
          },
          "metadata": {}
        },
        {
          "output_type": "display_data",
          "data": {
            "text/plain": [
              "<IPython.core.display.HTML object>"
            ],
            "text/html": [
              "Run data is saved locally in <code>/content/wandb/run-20240429_182540-p0aefxvu</code>"
            ]
          },
          "metadata": {}
        },
        {
          "output_type": "display_data",
          "data": {
            "text/plain": [
              "<IPython.core.display.HTML object>"
            ],
            "text/html": [
              "Syncing run <strong><a href='https://wandb.ai/333139/Assignment3-percent/runs/p0aefxvu' target=\"_blank\">training_run_0.5</a></strong> to <a href='https://wandb.ai/333139/Assignment3-percent' target=\"_blank\">Weights & Biases</a> (<a href='https://wandb.me/run' target=\"_blank\">docs</a>)<br/>"
            ]
          },
          "metadata": {}
        },
        {
          "output_type": "display_data",
          "data": {
            "text/plain": [
              "<IPython.core.display.HTML object>"
            ],
            "text/html": [
              " View project at <a href='https://wandb.ai/333139/Assignment3-percent' target=\"_blank\">https://wandb.ai/333139/Assignment3-percent</a>"
            ]
          },
          "metadata": {}
        },
        {
          "output_type": "display_data",
          "data": {
            "text/plain": [
              "<IPython.core.display.HTML object>"
            ],
            "text/html": [
              " View run at <a href='https://wandb.ai/333139/Assignment3-percent/runs/p0aefxvu' target=\"_blank\">https://wandb.ai/333139/Assignment3-percent/runs/p0aefxvu</a>"
            ]
          },
          "metadata": {}
        },
        {
          "output_type": "stream",
          "name": "stderr",
          "text": [
            "[epoch:\t10] loss: 0.22472253203392029: 100%|██████████| 10/10 [01:31<00:00,  9.15s/it]\n"
          ]
        },
        {
          "output_type": "display_data",
          "data": {
            "text/plain": [
              "VBox(children=(Label(value='0.001 MB of 0.002 MB uploaded\\r'), FloatProgress(value=0.5639374425022999, max=1.0…"
            ],
            "application/vnd.jupyter.widget-view+json": {
              "version_major": 2,
              "version_minor": 0,
              "model_id": "0bb4535f2077444680a8ad6a1d0c92ef"
            }
          },
          "metadata": {}
        },
        {
          "output_type": "display_data",
          "data": {
            "text/plain": [
              "<IPython.core.display.HTML object>"
            ],
            "text/html": [
              "<style>\n",
              "    table.wandb td:nth-child(1) { padding: 0 10px; text-align: left ; width: auto;} td:nth-child(2) {text-align: left ; width: 100%}\n",
              "    .wandb-row { display: flex; flex-direction: row; flex-wrap: wrap; justify-content: flex-start; width: 100% }\n",
              "    .wandb-col { display: flex; flex-direction: column; flex-basis: 100%; flex: 1; padding: 10px; }\n",
              "    </style>\n",
              "<div class=\"wandb-row\"><div class=\"wandb-col\"><h3>Run history:</h3><br/><table class=\"wandb\"><tr><td>Loss</td><td>█▇▇▆▆▅▄▃▂▁</td></tr><tr><td>val_acc</td><td>▁▂▂▃▃▆▇█▇█</td></tr></table><br/></div><div class=\"wandb-col\"><h3>Run summary:</h3><br/><table class=\"wandb\"><tr><td>Loss</td><td>0.22472</td></tr><tr><td>val_acc</td><td>10.19608</td></tr></table><br/></div></div>"
            ]
          },
          "metadata": {}
        },
        {
          "output_type": "display_data",
          "data": {
            "text/plain": [
              "<IPython.core.display.HTML object>"
            ],
            "text/html": [
              " View run <strong style=\"color:#cdcd00\">training_run_0.5</strong> at: <a href='https://wandb.ai/333139/Assignment3-percent/runs/p0aefxvu' target=\"_blank\">https://wandb.ai/333139/Assignment3-percent/runs/p0aefxvu</a><br/> View project at: <a href='https://wandb.ai/333139/Assignment3-percent' target=\"_blank\">https://wandb.ai/333139/Assignment3-percent</a><br/>Synced 5 W&B file(s), 0 media file(s), 0 artifact file(s) and 0 other file(s)"
            ]
          },
          "metadata": {}
        },
        {
          "output_type": "display_data",
          "data": {
            "text/plain": [
              "<IPython.core.display.HTML object>"
            ],
            "text/html": [
              "Find logs at: <code>./wandb/run-20240429_182540-p0aefxvu/logs</code>"
            ]
          },
          "metadata": {}
        },
        {
          "output_type": "stream",
          "name": "stdout",
          "text": [
            "Accuracy on test set (50.0% of training data): 9.55%\n"
          ]
        },
        {
          "output_type": "display_data",
          "data": {
            "text/plain": [
              "<IPython.core.display.HTML object>"
            ],
            "text/html": [
              "Tracking run with wandb version 0.16.6"
            ]
          },
          "metadata": {}
        },
        {
          "output_type": "display_data",
          "data": {
            "text/plain": [
              "<IPython.core.display.HTML object>"
            ],
            "text/html": [
              "Run data is saved locally in <code>/content/wandb/run-20240429_182751-zfah2zfe</code>"
            ]
          },
          "metadata": {}
        },
        {
          "output_type": "display_data",
          "data": {
            "text/plain": [
              "<IPython.core.display.HTML object>"
            ],
            "text/html": [
              "Syncing run <strong><a href='https://wandb.ai/333139/Assignment3-percent/runs/zfah2zfe' target=\"_blank\">training_run_0.75</a></strong> to <a href='https://wandb.ai/333139/Assignment3-percent' target=\"_blank\">Weights & Biases</a> (<a href='https://wandb.me/run' target=\"_blank\">docs</a>)<br/>"
            ]
          },
          "metadata": {}
        },
        {
          "output_type": "display_data",
          "data": {
            "text/plain": [
              "<IPython.core.display.HTML object>"
            ],
            "text/html": [
              " View project at <a href='https://wandb.ai/333139/Assignment3-percent' target=\"_blank\">https://wandb.ai/333139/Assignment3-percent</a>"
            ]
          },
          "metadata": {}
        },
        {
          "output_type": "display_data",
          "data": {
            "text/plain": [
              "<IPython.core.display.HTML object>"
            ],
            "text/html": [
              " View run at <a href='https://wandb.ai/333139/Assignment3-percent/runs/zfah2zfe' target=\"_blank\">https://wandb.ai/333139/Assignment3-percent/runs/zfah2zfe</a>"
            ]
          },
          "metadata": {}
        },
        {
          "output_type": "stream",
          "name": "stderr",
          "text": [
            "[epoch:\t10] loss: 0.0644053727388382: 100%|██████████| 10/10 [01:43<00:00, 10.37s/it]\n"
          ]
        },
        {
          "output_type": "display_data",
          "data": {
            "text/plain": [
              "VBox(children=(Label(value='0.011 MB of 0.011 MB uploaded\\r'), FloatProgress(value=1.0, max=1.0)))"
            ],
            "application/vnd.jupyter.widget-view+json": {
              "version_major": 2,
              "version_minor": 0,
              "model_id": "8fca18160b7341bfb4c418861d668d03"
            }
          },
          "metadata": {}
        },
        {
          "output_type": "display_data",
          "data": {
            "text/plain": [
              "<IPython.core.display.HTML object>"
            ],
            "text/html": [
              "<style>\n",
              "    table.wandb td:nth-child(1) { padding: 0 10px; text-align: left ; width: auto;} td:nth-child(2) {text-align: left ; width: 100%}\n",
              "    .wandb-row { display: flex; flex-direction: row; flex-wrap: wrap; justify-content: flex-start; width: 100% }\n",
              "    .wandb-col { display: flex; flex-direction: column; flex-basis: 100%; flex: 1; padding: 10px; }\n",
              "    </style>\n",
              "<div class=\"wandb-row\"><div class=\"wandb-col\"><h3>Run history:</h3><br/><table class=\"wandb\"><tr><td>Loss</td><td>██▇▆▅▄▃▂▁▁</td></tr><tr><td>val_acc</td><td>▁▃▄▅▅▇▇██▇</td></tr></table><br/></div><div class=\"wandb-col\"><h3>Run summary:</h3><br/><table class=\"wandb\"><tr><td>Loss</td><td>0.06441</td></tr><tr><td>val_acc</td><td>15.19608</td></tr></table><br/></div></div>"
            ]
          },
          "metadata": {}
        },
        {
          "output_type": "display_data",
          "data": {
            "text/plain": [
              "<IPython.core.display.HTML object>"
            ],
            "text/html": [
              " View run <strong style=\"color:#cdcd00\">training_run_0.75</strong> at: <a href='https://wandb.ai/333139/Assignment3-percent/runs/zfah2zfe' target=\"_blank\">https://wandb.ai/333139/Assignment3-percent/runs/zfah2zfe</a><br/> View project at: <a href='https://wandb.ai/333139/Assignment3-percent' target=\"_blank\">https://wandb.ai/333139/Assignment3-percent</a><br/>Synced 5 W&B file(s), 0 media file(s), 0 artifact file(s) and 0 other file(s)"
            ]
          },
          "metadata": {}
        },
        {
          "output_type": "display_data",
          "data": {
            "text/plain": [
              "<IPython.core.display.HTML object>"
            ],
            "text/html": [
              "Find logs at: <code>./wandb/run-20240429_182751-zfah2zfe/logs</code>"
            ]
          },
          "metadata": {}
        },
        {
          "output_type": "stream",
          "name": "stdout",
          "text": [
            "Accuracy on test set (75.0% of training data): 14.77%\n"
          ]
        },
        {
          "output_type": "display_data",
          "data": {
            "text/plain": [
              "<IPython.core.display.HTML object>"
            ],
            "text/html": [
              "Tracking run with wandb version 0.16.6"
            ]
          },
          "metadata": {}
        },
        {
          "output_type": "display_data",
          "data": {
            "text/plain": [
              "<IPython.core.display.HTML object>"
            ],
            "text/html": [
              "Run data is saved locally in <code>/content/wandb/run-20240429_183016-f05l2zxx</code>"
            ]
          },
          "metadata": {}
        },
        {
          "output_type": "display_data",
          "data": {
            "text/plain": [
              "<IPython.core.display.HTML object>"
            ],
            "text/html": [
              "Syncing run <strong><a href='https://wandb.ai/333139/Assignment3-percent/runs/f05l2zxx' target=\"_blank\">training_run_1.0</a></strong> to <a href='https://wandb.ai/333139/Assignment3-percent' target=\"_blank\">Weights & Biases</a> (<a href='https://wandb.me/run' target=\"_blank\">docs</a>)<br/>"
            ]
          },
          "metadata": {}
        },
        {
          "output_type": "display_data",
          "data": {
            "text/plain": [
              "<IPython.core.display.HTML object>"
            ],
            "text/html": [
              " View project at <a href='https://wandb.ai/333139/Assignment3-percent' target=\"_blank\">https://wandb.ai/333139/Assignment3-percent</a>"
            ]
          },
          "metadata": {}
        },
        {
          "output_type": "display_data",
          "data": {
            "text/plain": [
              "<IPython.core.display.HTML object>"
            ],
            "text/html": [
              " View run at <a href='https://wandb.ai/333139/Assignment3-percent/runs/f05l2zxx' target=\"_blank\">https://wandb.ai/333139/Assignment3-percent/runs/f05l2zxx</a>"
            ]
          },
          "metadata": {}
        },
        {
          "output_type": "stream",
          "name": "stderr",
          "text": [
            "[epoch:\t10] loss: 0.07858246698975563: 100%|██████████| 10/10 [02:00<00:00, 12.08s/it]\n"
          ]
        },
        {
          "output_type": "display_data",
          "data": {
            "text/plain": [
              "VBox(children=(Label(value='0.001 MB of 0.001 MB uploaded\\r'), FloatProgress(value=1.0, max=1.0)))"
            ],
            "application/vnd.jupyter.widget-view+json": {
              "version_major": 2,
              "version_minor": 0,
              "model_id": "dccd901db33e483099a379269180b137"
            }
          },
          "metadata": {}
        },
        {
          "output_type": "display_data",
          "data": {
            "text/plain": [
              "<IPython.core.display.HTML object>"
            ],
            "text/html": [
              "<style>\n",
              "    table.wandb td:nth-child(1) { padding: 0 10px; text-align: left ; width: auto;} td:nth-child(2) {text-align: left ; width: 100%}\n",
              "    .wandb-row { display: flex; flex-direction: row; flex-wrap: wrap; justify-content: flex-start; width: 100% }\n",
              "    .wandb-col { display: flex; flex-direction: column; flex-basis: 100%; flex: 1; padding: 10px; }\n",
              "    </style>\n",
              "<div class=\"wandb-row\"><div class=\"wandb-col\"><h3>Run history:</h3><br/><table class=\"wandb\"><tr><td>Loss</td><td>█▇▇▆▅▄▃▂▁▁</td></tr><tr><td>val_acc</td><td>▁▂▃▅▅▆█▇██</td></tr></table><br/></div><div class=\"wandb-col\"><h3>Run summary:</h3><br/><table class=\"wandb\"><tr><td>Loss</td><td>0.07858</td></tr><tr><td>val_acc</td><td>19.21569</td></tr></table><br/></div></div>"
            ]
          },
          "metadata": {}
        },
        {
          "output_type": "display_data",
          "data": {
            "text/plain": [
              "<IPython.core.display.HTML object>"
            ],
            "text/html": [
              " View run <strong style=\"color:#cdcd00\">training_run_1.0</strong> at: <a href='https://wandb.ai/333139/Assignment3-percent/runs/f05l2zxx' target=\"_blank\">https://wandb.ai/333139/Assignment3-percent/runs/f05l2zxx</a><br/> View project at: <a href='https://wandb.ai/333139/Assignment3-percent' target=\"_blank\">https://wandb.ai/333139/Assignment3-percent</a><br/>Synced 5 W&B file(s), 0 media file(s), 0 artifact file(s) and 0 other file(s)"
            ]
          },
          "metadata": {}
        },
        {
          "output_type": "display_data",
          "data": {
            "text/plain": [
              "<IPython.core.display.HTML object>"
            ],
            "text/html": [
              "Find logs at: <code>./wandb/run-20240429_183016-f05l2zxx/logs</code>"
            ]
          },
          "metadata": {}
        },
        {
          "output_type": "stream",
          "name": "stdout",
          "text": [
            "Accuracy on test set (100.0% of training data): 14.96%\n"
          ]
        }
      ],
      "source": [
        "percentages = [0.1, 0.25, 0.5, 0.75, 1.0]\n",
        "\n",
        "for pct in percentages:\n",
        "    model = CNN(hidden_dim=512, out_dim=102, device=device)\n",
        "    criterion = nn.CrossEntropyLoss()\n",
        "    optimizer = optim.Adam(model.parameters(), lr=0.0001)\n",
        "\n",
        "    trainset_size = int(len(trainset) * pct)\n",
        "    train_subset, _ = torch.utils.data.random_split(trainset, [trainset_size, len(trainset) - trainset_size])\n",
        "\n",
        "    trainloader = torch.utils.data.DataLoader(train_subset, batch_size=32, shuffle=True, num_workers=2)\n",
        "    validationloader = torch.utils.data.DataLoader(validation_set, batch_size=32, shuffle=True, num_workers=2)\n",
        "    testloader = torch.utils.data.DataLoader(testset, batch_size=32, shuffle=False, num_workers=2)\n",
        "\n",
        "    conf = {\n",
        "        \"percentage_training_data\": pct,\n",
        "        \"learning_rate\": 0.0001\n",
        "    }\n",
        "\n",
        "    train_model(model, criterion, optimizer, trainloader, validationloader, num_epochs=10, proj=\"percent\", name=f\"{pct}\", conf=conf, device=device, _wandb=True)\n",
        "\n",
        "    accuracy = evaluate_model(model, testloader, device=device)\n",
        "    print(f\"Accuracy on test set ({pct * 100}% of training data): {accuracy:.2f}%\")\n"
      ]
    },
    {
      "cell_type": "markdown",
      "metadata": {
        "jp-MarkdownHeadingCollapsed": true,
        "id": "IceZbVlWDQUB"
      },
      "source": [
        "## Problem 1.2"
      ]
    },
    {
      "cell_type": "code",
      "execution_count": 14,
      "metadata": {
        "id": "xIoi-sD5DQUB"
      },
      "outputs": [],
      "source": [
        "transform_normalize = transforms.Compose([\n",
        "    transforms.Resize((256,256)),\n",
        "    transforms.ToTensor(),\n",
        "    transforms.Normalize((0.5, 0.5, 0.5), (0.5, 0.5, 0.5))\n",
        "])\n",
        "\n",
        "\n",
        "class SubtractMean(object):\n",
        "    def __call__(self, tensor):\n",
        "        mean = tensor.mean()\n",
        "        return tensor - mean\n",
        "\n",
        "transform_mean_sub = transforms.Compose([\n",
        "    transforms.Resize((256,256)),\n",
        "    transforms.ToTensor(),\n",
        "    SubtractMean()\n",
        "])"
      ]
    },
    {
      "cell_type": "code",
      "execution_count": 15,
      "metadata": {
        "id": "5JIzy4etDQUC"
      },
      "outputs": [],
      "source": [
        "trainset_normalize = torchvision.datasets.Flowers102(root='./data', split='train', download=True, transform=transform_normalize)\n",
        "trainset_mean_sub = torchvision.datasets.Flowers102(root='./data', split='train', download=True, transform=transform_mean_sub)\n",
        "\n",
        "validationset_normalize = torchvision.datasets.Flowers102(root='./data', split='val', download=True, transform=transform_normalize)\n",
        "validationset_mean = torchvision.datasets.Flowers102(root='./data', split='val', download=True, transform=transform_mean_sub)\n",
        "\n",
        "testset_normalize = torchvision.datasets.Flowers102(root='./data', split='test', download=True, transform=transform_normalize)\n",
        "testset_mean_sub = torchvision.datasets.Flowers102(root='./data', split='test', download=True, transform=transform_mean_sub)"
      ]
    },
    {
      "cell_type": "code",
      "execution_count": 16,
      "metadata": {
        "id": "dqgL0UWzDQUD"
      },
      "outputs": [],
      "source": [
        "trainloader_full_norm = torch.utils.data.DataLoader(trainset_normalize, batch_size=32, shuffle=True, num_workers=2)\n",
        "trainloader_full_mean = torch.utils.data.DataLoader(trainset_mean_sub, batch_size=32, shuffle=True, num_workers=2)\n",
        "\n",
        "validationloader_full_norm = torch.utils.data.DataLoader(validationset_normalize, batch_size=32, shuffle=True, num_workers=2)\n",
        "validationloader_full_mean = torch.utils.data.DataLoader(validationset_mean, batch_size=32, shuffle=True, num_workers=2)\n",
        "\n",
        "testloader_norm = torch.utils.data.DataLoader(testset_normalize, batch_size=32, shuffle=False, num_workers=2)\n",
        "testloader_mean = torch.utils.data.DataLoader(testset_mean_sub, batch_size=32, shuffle=False, num_workers=2)"
      ]
    },
    {
      "cell_type": "code",
      "execution_count": 18,
      "metadata": {
        "scrolled": true,
        "colab": {
          "base_uri": "https://localhost:8080/"
        },
        "id": "1p3UceKMDQUE",
        "outputId": "b22f9d9d-f716-441c-813e-947d07b212d1"
      },
      "outputs": [
        {
          "output_type": "stream",
          "name": "stderr",
          "text": [
            "[epoch:\t10] loss: 1.4802547359466554: 100%|██████████| 10/10 [02:10<00:00, 13.08s/it]\n"
          ]
        },
        {
          "output_type": "stream",
          "name": "stdout",
          "text": [
            "Accuracy on test set: 1.53%\n"
          ]
        }
      ],
      "source": [
        "model = CNN(512, 102).to(device)\n",
        "criterion = nn.CrossEntropyLoss().to(device)\n",
        "optimizer = optim.Adam(model.parameters())\n",
        "num_epochs = 10\n",
        "\n",
        "train_model(model, criterion, optimizer, trainloader_full_norm, validationloader_full_norm, num_epochs=num_epochs, proj=\"normalization\", name='std', device=device)\n",
        "acc = evaluate_model(model, testloader_norm, device=device)\n",
        "print(f\"Accuracy on test set: {acc:.2f}%\")"
      ]
    },
    {
      "cell_type": "code",
      "execution_count": 19,
      "metadata": {
        "scrolled": true,
        "colab": {
          "base_uri": "https://localhost:8080/"
        },
        "id": "G2hJ2RBvDQUF",
        "outputId": "89f5045c-97c9-459f-d329-404454a76f0b"
      },
      "outputs": [
        {
          "output_type": "stream",
          "name": "stderr",
          "text": [
            "[epoch:\t10] loss: 0.019908505498897285: 100%|██████████| 10/10 [02:09<00:00, 12.92s/it]\n"
          ]
        },
        {
          "output_type": "stream",
          "name": "stdout",
          "text": [
            "Accuracy on test set: 12.57%\n"
          ]
        }
      ],
      "source": [
        "model = CNN(512, 102)\n",
        "criterion = nn.CrossEntropyLoss()\n",
        "optimizer = optim.Adam(model.parameters())\n",
        "num_epochs = 10\n",
        "\n",
        "train_model(model, criterion, optimizer, trainloader_full_mean, validationloader_full_mean, num_epochs=num_epochs, proj='normalization', name='mean', device=device)\n",
        "acc = evaluate_model(model, testloader_mean)\n",
        "print(f\"Accuracy on test set: {acc:.2f}%\")"
      ]
    },
    {
      "cell_type": "markdown",
      "metadata": {
        "jp-MarkdownHeadingCollapsed": true,
        "id": "fC8xuYuuDQUG"
      },
      "source": [
        "## Problem 1.3"
      ]
    },
    {
      "cell_type": "code",
      "execution_count": null,
      "metadata": {
        "id": "TOf4BQbzDQUH"
      },
      "outputs": [],
      "source": [
        "import itertools\n",
        "\n",
        "from tqdm import tqdm\n",
        "\n",
        "learning_rates = [0.0005, 0.0001]\n",
        "hidd_sizes = [512, 1024, 2048]\n",
        "batch_sizes = [64, 128]\n",
        "num_epochs_list = [30, 50]\n",
        "optimizers = ['Adam']\n",
        "\n",
        "train_l = {bs: torch.utils.data.DataLoader(trainset, batch_size=bs, shuffle=True, num_workers=2) for bs in batch_sizes}\n",
        "val_l = {bs: torch.utils.data.DataLoader(validation_set, batch_size=bs, shuffle=True, num_workers=2) for bs in batch_sizes}\n",
        "test_l = {bs: torch.utils.data.DataLoader(testset, batch_size=bs, shuffle=False, num_workers=2) for bs in batch_sizes}"
      ]
    },
    {
      "cell_type": "code",
      "execution_count": null,
      "metadata": {
        "scrolled": true,
        "id": "IpkWJj4mDQUI"
      },
      "outputs": [],
      "source": [
        "import json\n",
        "\n",
        "prod = itertools.product(learning_rates, hidd_sizes, batch_sizes, num_epochs_list, optimizers)\n",
        "result = {}\n",
        "\n",
        "for i, (lr, hidd_size, batch_size, num_epochs, optimizer_name) in enumerate(prod):\n",
        "    trainloader_full = train_l[batch_size]\n",
        "    validationloader = val_l[batch_size]\n",
        "    testloader_full = test_l[batch_size]\n",
        "\n",
        "    model = CNN(hidd_size, 102)\n",
        "    criterion = nn.CrossEntropyLoss()\n",
        "    optimizer = optim.Adam(model.parameters(), lr) if optimizer_name == 'Adam' else optim.SGD(model.parameters(), lr, momentum=0.9)\n",
        "\n",
        "    conf = {\n",
        "        \"lr\": lr,\n",
        "        \"hidd_size\": hidd_size,\n",
        "        \"batch_size\": batch_size,\n",
        "        \"num_epochs\": num_epochs,\n",
        "        \"optimizer_name\": optimizer_name\n",
        "    }\n",
        "    conf_str = json.dumps(conf)\n",
        "\n",
        "    train_model(model, criterion, optimizer, trainloader_full, validationloader, num_epochs=num_epochs, proj=\"grid\", conf=conf)\n",
        "    result[conf_str] = evaluate_model(model, testloader_full)"
      ]
    },
    {
      "cell_type": "code",
      "execution_count": null,
      "metadata": {
        "id": "7IG7Owy7DQUJ"
      },
      "outputs": [],
      "source": [
        "sorted_results = sorted(result.items(), key=lambda x: x[1], reverse=True)\n",
        "\n",
        "for params, accuracy in sorted_results:\n",
        "    print(f\"Parameters: {params}, Accuracy: {accuracy}\")"
      ]
    },
    {
      "cell_type": "markdown",
      "metadata": {
        "jp-MarkdownHeadingCollapsed": true,
        "id": "yY6A2CEHDQUJ"
      },
      "source": [
        "## Problem 1.4"
      ]
    },
    {
      "cell_type": "code",
      "execution_count": 20,
      "metadata": {
        "id": "JXqjtPjNDQUK"
      },
      "outputs": [],
      "source": [
        "import torch\n",
        "import torch.nn as nn\n",
        "import torch.optim as optim\n",
        "import torchvision\n",
        "import torchvision.transforms as transforms\n",
        "\n",
        "\n",
        "class CNN(nn.Module):\n",
        "    def __init__(self, hidden_dim, out_dim):\n",
        "        super(CNN, self).__init__()\n",
        "        self.conv1 = nn.Conv2d(3, 32, kernel_size=3, padding=1)\n",
        "        self.conv2 = nn.Conv2d(32, 64, kernel_size=3, padding=1)\n",
        "\n",
        "        self.pool = nn.MaxPool2d(2, 2)\n",
        "        self.fc1 = nn.Linear(64 * 64 * 64, hidden_dim)\n",
        "        self.fc2 = nn.Linear(hidden_dim, out_dim)\n",
        "        self.relu = nn.ReLU()\n",
        "        self.softmax = nn.Softmax()\n",
        "\n",
        "        self.dropout = nn.Dropout(0.5)\n",
        "        self.bn1 = nn.BatchNorm2d(32)\n",
        "        self.bn2 = nn.BatchNorm2d(64)\n",
        "        self.bn3 = nn.BatchNorm1d(hidden_dim)\n",
        "\n",
        "    def forward(self, x):\n",
        "        drop = lambda x: self.dropout(self.relu(x))\n",
        "\n",
        "        x = self.pool(self.bn1(drop(self.conv1(x))))\n",
        "        x = self.pool(self.bn2(drop(self.conv2(x))))\n",
        "\n",
        "        x = x.view(-1, 64 * 64 * 64)\n",
        "        x = drop(self.bn3(self.fc1(x)))\n",
        "        x = self.fc2(x)\n",
        "        return x\n",
        ""
      ]
    },
    {
      "cell_type": "code",
      "execution_count": 22,
      "metadata": {
        "colab": {
          "base_uri": "https://localhost:8080/",
          "height": 296,
          "referenced_widgets": [
            "79b8e838457843158e606ec014907550",
            "a002cf403b3548dda879f93dbc14976b",
            "2c8aa7da2db54e949dc34d9820179f20",
            "45fbad985f494959bbfc915f17b41b71",
            "149b9dfaf29c4415b8c9fc0825cb4db9",
            "ed53278a013a44ab80585c1320e51842",
            "2869aefe5f0547ba80dad80fa6da4a5b",
            "96b380363e3348de973e8d11f2505c1d"
          ]
        },
        "id": "ryiqE05wDQUL",
        "outputId": "f7b150dc-9647-4668-f923-f8f44d561725"
      },
      "outputs": [
        {
          "output_type": "display_data",
          "data": {
            "text/plain": [
              "<IPython.core.display.HTML object>"
            ],
            "text/html": [
              "Tracking run with wandb version 0.16.6"
            ]
          },
          "metadata": {}
        },
        {
          "output_type": "display_data",
          "data": {
            "text/plain": [
              "<IPython.core.display.HTML object>"
            ],
            "text/html": [
              "Run data is saved locally in <code>/content/wandb/run-20240429_184514-6d9h1vts</code>"
            ]
          },
          "metadata": {}
        },
        {
          "output_type": "display_data",
          "data": {
            "text/plain": [
              "<IPython.core.display.HTML object>"
            ],
            "text/html": [
              "Syncing run <strong><a href='https://wandb.ai/333139/Assignment3-drop%26batchnorm/runs/6d9h1vts' target=\"_blank\">training_run_drop_n_batch</a></strong> to <a href='https://wandb.ai/333139/Assignment3-drop%26batchnorm' target=\"_blank\">Weights & Biases</a> (<a href='https://wandb.me/run' target=\"_blank\">docs</a>)<br/>"
            ]
          },
          "metadata": {}
        },
        {
          "output_type": "display_data",
          "data": {
            "text/plain": [
              "<IPython.core.display.HTML object>"
            ],
            "text/html": [
              " View project at <a href='https://wandb.ai/333139/Assignment3-drop%26batchnorm' target=\"_blank\">https://wandb.ai/333139/Assignment3-drop%26batchnorm</a>"
            ]
          },
          "metadata": {}
        },
        {
          "output_type": "display_data",
          "data": {
            "text/plain": [
              "<IPython.core.display.HTML object>"
            ],
            "text/html": [
              " View run at <a href='https://wandb.ai/333139/Assignment3-drop%26batchnorm/runs/6d9h1vts' target=\"_blank\">https://wandb.ai/333139/Assignment3-drop%26batchnorm/runs/6d9h1vts</a>"
            ]
          },
          "metadata": {}
        },
        {
          "output_type": "stream",
          "name": "stderr",
          "text": [
            "[epoch:\t10] loss: 0.05846554152667523: 100%|██████████| 10/10 [02:11<00:00, 13.12s/it]\n"
          ]
        },
        {
          "output_type": "display_data",
          "data": {
            "text/plain": [
              "VBox(children=(Label(value='0.001 MB of 0.001 MB uploaded\\r'), FloatProgress(value=1.0, max=1.0)))"
            ],
            "application/vnd.jupyter.widget-view+json": {
              "version_major": 2,
              "version_minor": 0,
              "model_id": "79b8e838457843158e606ec014907550"
            }
          },
          "metadata": {}
        },
        {
          "output_type": "display_data",
          "data": {
            "text/plain": [
              "<IPython.core.display.HTML object>"
            ],
            "text/html": [
              "<style>\n",
              "    table.wandb td:nth-child(1) { padding: 0 10px; text-align: left ; width: auto;} td:nth-child(2) {text-align: left ; width: 100%}\n",
              "    .wandb-row { display: flex; flex-direction: row; flex-wrap: wrap; justify-content: flex-start; width: 100% }\n",
              "    .wandb-col { display: flex; flex-direction: column; flex-basis: 100%; flex: 1; padding: 10px; }\n",
              "    </style>\n",
              "<div class=\"wandb-row\"><div class=\"wandb-col\"><h3>Run history:</h3><br/><table class=\"wandb\"><tr><td>Loss</td><td>██▇▇▅▄▃▂▁▁</td></tr><tr><td>val_acc</td><td>▁▃▄▅▇▇▇███</td></tr></table><br/></div><div class=\"wandb-col\"><h3>Run summary:</h3><br/><table class=\"wandb\"><tr><td>Loss</td><td>0.05847</td></tr><tr><td>val_acc</td><td>18.52941</td></tr></table><br/></div></div>"
            ]
          },
          "metadata": {}
        },
        {
          "output_type": "display_data",
          "data": {
            "text/plain": [
              "<IPython.core.display.HTML object>"
            ],
            "text/html": [
              " View run <strong style=\"color:#cdcd00\">training_run_drop_n_batch</strong> at: <a href='https://wandb.ai/333139/Assignment3-drop%26batchnorm/runs/6d9h1vts' target=\"_blank\">https://wandb.ai/333139/Assignment3-drop%26batchnorm/runs/6d9h1vts</a><br/> View project at: <a href='https://wandb.ai/333139/Assignment3-drop%26batchnorm' target=\"_blank\">https://wandb.ai/333139/Assignment3-drop%26batchnorm</a><br/>Synced 5 W&B file(s), 0 media file(s), 0 artifact file(s) and 0 other file(s)"
            ]
          },
          "metadata": {}
        },
        {
          "output_type": "display_data",
          "data": {
            "text/plain": [
              "<IPython.core.display.HTML object>"
            ],
            "text/html": [
              "Find logs at: <code>./wandb/run-20240429_184514-6d9h1vts/logs</code>"
            ]
          },
          "metadata": {}
        }
      ],
      "source": [
        "model = CNN(hidden_dim=512, out_dim=102).to(device)\n",
        "\n",
        "criterion = nn.CrossEntropyLoss().to(device)\n",
        "optimizer = optim.Adam(model.parameters(), lr=0.0001)\n",
        "\n",
        "num_epochs = 10\n",
        "\n",
        "train_model(model, criterion, optimizer, trainloader_full, validationloader, num_epochs=num_epochs, proj='drop&batchnorm', name=\"drop_n_batch\", _wandb=True)"
      ]
    },
    {
      "cell_type": "code",
      "execution_count": 23,
      "metadata": {
        "colab": {
          "base_uri": "https://localhost:8080/"
        },
        "id": "SN4GraarDQUM",
        "outputId": "044c2c17-7938-4b92-b8df-c1e9aaf71565"
      },
      "outputs": [
        {
          "output_type": "execute_result",
          "data": {
            "text/plain": [
              "16.40917222312571"
            ]
          },
          "metadata": {},
          "execution_count": 23
        }
      ],
      "source": [
        "evaluate_model(model, testloader)"
      ]
    },
    {
      "cell_type": "markdown",
      "metadata": {
        "jp-MarkdownHeadingCollapsed": true,
        "id": "4zVoDghaDQUM"
      },
      "source": [
        "## Problem 1.5"
      ]
    },
    {
      "cell_type": "code",
      "execution_count": 24,
      "metadata": {
        "id": "d9LgrNlSDQUN"
      },
      "outputs": [],
      "source": [
        "transform = transforms.Compose([\n",
        "    transforms.Resize((256,256)),\n",
        "    transforms.ToTensor()\n",
        "])\n",
        "\n",
        "aug_trans = transforms.Compose([\n",
        "    transforms.ToPILImage(),\n",
        "    transforms.RandomHorizontalFlip(),\n",
        "    transforms.RandomVerticalFlip(),\n",
        "    transforms.RandomRotation(30),\n",
        "    transforms.ColorJitter(brightness=0.2, contrast=0.2, saturation=0.2, hue=0.1),\n",
        "    transforms.RandomAffine(degrees=0, translate=(0.1, 0.1)),\n",
        "    transforms.RandomPerspective(distortion_scale=0.2, p=0.5, interpolation=3),\n",
        "    transforms.ToTensor()\n",
        "])"
      ]
    },
    {
      "cell_type": "code",
      "execution_count": 28,
      "metadata": {
        "id": "TiWHX6WkDQUO"
      },
      "outputs": [],
      "source": [
        "def train_model_aug(model, criterion, optimizer, train_loader, validation_loader, num_epochs=5, proj=\"\", name=\"\", conf=None, _wandb=True, verbose=True, device=\"cuda\"):\n",
        "    model.to(device)\n",
        "    if _wandb:\n",
        "        run = wandb.init(entity=\"333139\", project=f\"Assignment3-{proj}\", name=f\"training_run_{name}\", config=conf)\n",
        "\n",
        "    try:\n",
        "        if verbose:\n",
        "            pbar = tqdm(range(num_epochs))\n",
        "        else:\n",
        "            pbar = range(num_epochs)\n",
        "        for epoch in pbar:\n",
        "            running_loss = 0.0\n",
        "            for i, data in enumerate(train_loader):\n",
        "                inputs, labels = data\n",
        "                augmented_inputs = torch.stack([aug_trans(x) for x in inputs])\n",
        "\n",
        "                inputs, labels = augmented_inputs.to(device), labels.to(device)\n",
        "                optimizer.zero_grad()\n",
        "\n",
        "\n",
        "                outputs = model(inputs)\n",
        "                loss = criterion(outputs, labels)\n",
        "                loss.backward()\n",
        "                optimizer.step()\n",
        "\n",
        "                running_loss += loss.item()\n",
        "            model.eval()\n",
        "            with torch.no_grad():\n",
        "                val_accuracy = evaluate_model(model, validation_loader, device=device)\n",
        "\n",
        "\n",
        "            if _wandb:\n",
        "                run.log({\n",
        "                    \"Loss\": running_loss / 100,\n",
        "                    \"val_acc\": val_accuracy\n",
        "                }, step=epoch)\n",
        "\n",
        "            if verbose:\n",
        "                pbar.set_description(f'[epoch:\\t{epoch + 1}] loss: {running_loss / 100}')\n",
        "                running_loss = 0.0\n",
        "    except Exception as e:\n",
        "        print(e)\n",
        "    finally:\n",
        "        if _wandb:\n",
        "            run.finish()\n"
      ]
    },
    {
      "cell_type": "code",
      "execution_count": 31,
      "metadata": {
        "colab": {
          "base_uri": "https://localhost:8080/",
          "height": 403,
          "referenced_widgets": [
            "858d5f36a23c48918eb845036bb81b59",
            "5821bc79db9d4ba394c37ec9d1aa8d10",
            "d968684d003d42be817792f7603cd047",
            "24043ca7b308498caf79112093ac849d",
            "7b5a7ff0e5f9405d9d9186436dd12dcf",
            "c6d92514e01a48c2b27d436e418e8d54",
            "2eae59ecba78495bb702f5818b0a6fd6",
            "56caf7359ab34a02864fb6e3e0866bf4"
          ]
        },
        "id": "lRmwjMF8DQUP",
        "outputId": "67dc4892-60de-477a-b259-10955724de9d"
      },
      "outputs": [
        {
          "output_type": "display_data",
          "data": {
            "text/plain": [
              "VBox(children=(Label(value='Waiting for wandb.init()...\\r'), FloatProgress(value=0.011112496777776768, max=1.0…"
            ],
            "application/vnd.jupyter.widget-view+json": {
              "version_major": 2,
              "version_minor": 0,
              "model_id": "858d5f36a23c48918eb845036bb81b59"
            }
          },
          "metadata": {}
        },
        {
          "output_type": "stream",
          "name": "stdout",
          "text": [
            "Problem at: <ipython-input-28-c90fc9326106> 4 train_model_aug\n"
          ]
        },
        {
          "output_type": "error",
          "ename": "KeyboardInterrupt",
          "evalue": "",
          "traceback": [
            "\u001b[0;31m---------------------------------------------------------------------------\u001b[0m",
            "\u001b[0;31mKeyboardInterrupt\u001b[0m                         Traceback (most recent call last)",
            "\u001b[0;32m<ipython-input-31-993fb7fef3bc>\u001b[0m in \u001b[0;36m<cell line: 7>\u001b[0;34m()\u001b[0m\n\u001b[1;32m      5\u001b[0m \u001b[0;34m\u001b[0m\u001b[0m\n\u001b[1;32m      6\u001b[0m \u001b[0mnum_epochs\u001b[0m \u001b[0;34m=\u001b[0m \u001b[0;36m10\u001b[0m\u001b[0;34m\u001b[0m\u001b[0;34m\u001b[0m\u001b[0m\n\u001b[0;32m----> 7\u001b[0;31m \u001b[0mtrain_model_aug\u001b[0m\u001b[0;34m(\u001b[0m\u001b[0mmodel\u001b[0m\u001b[0;34m,\u001b[0m \u001b[0mcriterion\u001b[0m\u001b[0;34m,\u001b[0m \u001b[0moptimizer\u001b[0m\u001b[0;34m,\u001b[0m \u001b[0mtrainloader_full\u001b[0m\u001b[0;34m,\u001b[0m \u001b[0mvalidationloader\u001b[0m\u001b[0;34m,\u001b[0m \u001b[0mnum_epochs\u001b[0m\u001b[0;34m=\u001b[0m\u001b[0mnum_epochs\u001b[0m\u001b[0;34m,\u001b[0m \u001b[0mdevice\u001b[0m\u001b[0;34m=\u001b[0m\u001b[0mdevice\u001b[0m\u001b[0;34m,\u001b[0m \u001b[0mproj\u001b[0m\u001b[0;34m=\u001b[0m\u001b[0;34m'augmented'\u001b[0m\u001b[0;34m,\u001b[0m \u001b[0mname\u001b[0m\u001b[0;34m=\u001b[0m\u001b[0;34m'aug'\u001b[0m\u001b[0;34m)\u001b[0m\u001b[0;34m\u001b[0m\u001b[0;34m\u001b[0m\u001b[0m\n\u001b[0m",
            "\u001b[0;32m<ipython-input-28-c90fc9326106>\u001b[0m in \u001b[0;36mtrain_model_aug\u001b[0;34m(model, criterion, optimizer, train_loader, validation_loader, num_epochs, proj, name, conf, _wandb, verbose, device)\u001b[0m\n\u001b[1;32m      2\u001b[0m     \u001b[0mmodel\u001b[0m\u001b[0;34m.\u001b[0m\u001b[0mto\u001b[0m\u001b[0;34m(\u001b[0m\u001b[0mdevice\u001b[0m\u001b[0;34m)\u001b[0m\u001b[0;34m\u001b[0m\u001b[0;34m\u001b[0m\u001b[0m\n\u001b[1;32m      3\u001b[0m     \u001b[0;32mif\u001b[0m \u001b[0m_wandb\u001b[0m\u001b[0;34m:\u001b[0m\u001b[0;34m\u001b[0m\u001b[0;34m\u001b[0m\u001b[0m\n\u001b[0;32m----> 4\u001b[0;31m         \u001b[0mrun\u001b[0m \u001b[0;34m=\u001b[0m \u001b[0mwandb\u001b[0m\u001b[0;34m.\u001b[0m\u001b[0minit\u001b[0m\u001b[0;34m(\u001b[0m\u001b[0mentity\u001b[0m\u001b[0;34m=\u001b[0m\u001b[0;34m\"333139\"\u001b[0m\u001b[0;34m,\u001b[0m \u001b[0mproject\u001b[0m\u001b[0;34m=\u001b[0m\u001b[0;34mf\"Assignment3-{proj}\"\u001b[0m\u001b[0;34m,\u001b[0m \u001b[0mname\u001b[0m\u001b[0;34m=\u001b[0m\u001b[0;34mf\"training_run_{name}\"\u001b[0m\u001b[0;34m,\u001b[0m \u001b[0mconfig\u001b[0m\u001b[0;34m=\u001b[0m\u001b[0mconf\u001b[0m\u001b[0;34m)\u001b[0m\u001b[0;34m\u001b[0m\u001b[0;34m\u001b[0m\u001b[0m\n\u001b[0m\u001b[1;32m      5\u001b[0m \u001b[0;34m\u001b[0m\u001b[0m\n\u001b[1;32m      6\u001b[0m     \u001b[0;32mtry\u001b[0m\u001b[0;34m:\u001b[0m\u001b[0;34m\u001b[0m\u001b[0;34m\u001b[0m\u001b[0m\n",
            "\u001b[0;32m/usr/local/lib/python3.10/dist-packages/wandb/sdk/wandb_init.py\u001b[0m in \u001b[0;36minit\u001b[0;34m(job_type, dir, config, project, entity, reinit, tags, group, name, notes, magic, config_exclude_keys, config_include_keys, anonymous, mode, allow_val_change, resume, force, tensorboard, sync_tensorboard, monitor_gym, save_code, id, fork_from, settings)\u001b[0m\n\u001b[1;32m   1202\u001b[0m         \u001b[0;32massert\u001b[0m \u001b[0mlogger\u001b[0m\u001b[0;34m\u001b[0m\u001b[0;34m\u001b[0m\u001b[0m\n\u001b[1;32m   1203\u001b[0m         \u001b[0mlogger\u001b[0m\u001b[0;34m.\u001b[0m\u001b[0mwarning\u001b[0m\u001b[0;34m(\u001b[0m\u001b[0;34m\"interrupted\"\u001b[0m\u001b[0;34m,\u001b[0m \u001b[0mexc_info\u001b[0m\u001b[0;34m=\u001b[0m\u001b[0me\u001b[0m\u001b[0;34m)\u001b[0m\u001b[0;34m\u001b[0m\u001b[0;34m\u001b[0m\u001b[0m\n\u001b[0;32m-> 1204\u001b[0;31m         \u001b[0;32mraise\u001b[0m \u001b[0me\u001b[0m\u001b[0;34m\u001b[0m\u001b[0;34m\u001b[0m\u001b[0m\n\u001b[0m\u001b[1;32m   1205\u001b[0m     \u001b[0;32mexcept\u001b[0m \u001b[0mException\u001b[0m \u001b[0;32mas\u001b[0m \u001b[0me\u001b[0m\u001b[0;34m:\u001b[0m\u001b[0;34m\u001b[0m\u001b[0;34m\u001b[0m\u001b[0m\n\u001b[1;32m   1206\u001b[0m         \u001b[0merror_seen\u001b[0m \u001b[0;34m=\u001b[0m \u001b[0me\u001b[0m\u001b[0;34m\u001b[0m\u001b[0;34m\u001b[0m\u001b[0m\n",
            "\u001b[0;32m/usr/local/lib/python3.10/dist-packages/wandb/sdk/wandb_init.py\u001b[0m in \u001b[0;36minit\u001b[0;34m(job_type, dir, config, project, entity, reinit, tags, group, name, notes, magic, config_exclude_keys, config_include_keys, anonymous, mode, allow_val_change, resume, force, tensorboard, sync_tensorboard, monitor_gym, save_code, id, fork_from, settings)\u001b[0m\n\u001b[1;32m   1179\u001b[0m         \u001b[0mexcept_exit\u001b[0m \u001b[0;34m=\u001b[0m \u001b[0mwi\u001b[0m\u001b[0;34m.\u001b[0m\u001b[0msettings\u001b[0m\u001b[0;34m.\u001b[0m\u001b[0m_except_exit\u001b[0m\u001b[0;34m\u001b[0m\u001b[0;34m\u001b[0m\u001b[0m\n\u001b[1;32m   1180\u001b[0m         \u001b[0;32mtry\u001b[0m\u001b[0;34m:\u001b[0m\u001b[0;34m\u001b[0m\u001b[0;34m\u001b[0m\u001b[0m\n\u001b[0;32m-> 1181\u001b[0;31m             \u001b[0mrun\u001b[0m \u001b[0;34m=\u001b[0m \u001b[0mwi\u001b[0m\u001b[0;34m.\u001b[0m\u001b[0minit\u001b[0m\u001b[0;34m(\u001b[0m\u001b[0;34m)\u001b[0m\u001b[0;34m\u001b[0m\u001b[0;34m\u001b[0m\u001b[0m\n\u001b[0m\u001b[1;32m   1182\u001b[0m             \u001b[0mexcept_exit\u001b[0m \u001b[0;34m=\u001b[0m \u001b[0mwi\u001b[0m\u001b[0;34m.\u001b[0m\u001b[0msettings\u001b[0m\u001b[0;34m.\u001b[0m\u001b[0m_except_exit\u001b[0m\u001b[0;34m\u001b[0m\u001b[0;34m\u001b[0m\u001b[0m\n\u001b[1;32m   1183\u001b[0m         \u001b[0;32mexcept\u001b[0m \u001b[0;34m(\u001b[0m\u001b[0mKeyboardInterrupt\u001b[0m\u001b[0;34m,\u001b[0m \u001b[0mException\u001b[0m\u001b[0;34m)\u001b[0m \u001b[0;32mas\u001b[0m \u001b[0me\u001b[0m\u001b[0;34m:\u001b[0m\u001b[0;34m\u001b[0m\u001b[0;34m\u001b[0m\u001b[0m\n",
            "\u001b[0;32m/usr/local/lib/python3.10/dist-packages/wandb/sdk/wandb_init.py\u001b[0m in \u001b[0;36minit\u001b[0;34m(self)\u001b[0m\n\u001b[1;32m    749\u001b[0m \u001b[0;34m\u001b[0m\u001b[0m\n\u001b[1;32m    750\u001b[0m         \u001b[0mrun_init_handle\u001b[0m \u001b[0;34m=\u001b[0m \u001b[0mbackend\u001b[0m\u001b[0;34m.\u001b[0m\u001b[0minterface\u001b[0m\u001b[0;34m.\u001b[0m\u001b[0mdeliver_run\u001b[0m\u001b[0;34m(\u001b[0m\u001b[0mrun\u001b[0m\u001b[0;34m)\u001b[0m\u001b[0;34m\u001b[0m\u001b[0;34m\u001b[0m\u001b[0m\n\u001b[0;32m--> 751\u001b[0;31m         result = run_init_handle.wait(\n\u001b[0m\u001b[1;32m    752\u001b[0m             \u001b[0mtimeout\u001b[0m\u001b[0;34m=\u001b[0m\u001b[0mtimeout\u001b[0m\u001b[0;34m,\u001b[0m\u001b[0;34m\u001b[0m\u001b[0;34m\u001b[0m\u001b[0m\n\u001b[1;32m    753\u001b[0m             \u001b[0mon_progress\u001b[0m\u001b[0;34m=\u001b[0m\u001b[0mself\u001b[0m\u001b[0;34m.\u001b[0m\u001b[0m_on_progress_init\u001b[0m\u001b[0;34m,\u001b[0m\u001b[0;34m\u001b[0m\u001b[0;34m\u001b[0m\u001b[0m\n",
            "\u001b[0;32m/usr/local/lib/python3.10/dist-packages/wandb/sdk/lib/mailbox.py\u001b[0m in \u001b[0;36mwait\u001b[0;34m(self, timeout, on_probe, on_progress, release, cancel)\u001b[0m\n\u001b[1;32m    281\u001b[0m                     \u001b[0;32mraise\u001b[0m \u001b[0mMailboxError\u001b[0m\u001b[0;34m(\u001b[0m\u001b[0;34m\"transport failed\"\u001b[0m\u001b[0;34m)\u001b[0m\u001b[0;34m\u001b[0m\u001b[0;34m\u001b[0m\u001b[0m\n\u001b[1;32m    282\u001b[0m \u001b[0;34m\u001b[0m\u001b[0m\n\u001b[0;32m--> 283\u001b[0;31m             \u001b[0mfound\u001b[0m\u001b[0;34m,\u001b[0m \u001b[0mabandoned\u001b[0m \u001b[0;34m=\u001b[0m \u001b[0mself\u001b[0m\u001b[0;34m.\u001b[0m\u001b[0m_slot\u001b[0m\u001b[0;34m.\u001b[0m\u001b[0m_get_and_clear\u001b[0m\u001b[0;34m(\u001b[0m\u001b[0mtimeout\u001b[0m\u001b[0;34m=\u001b[0m\u001b[0mwait_timeout\u001b[0m\u001b[0;34m)\u001b[0m\u001b[0;34m\u001b[0m\u001b[0;34m\u001b[0m\u001b[0m\n\u001b[0m\u001b[1;32m    284\u001b[0m             \u001b[0;32mif\u001b[0m \u001b[0mfound\u001b[0m\u001b[0;34m:\u001b[0m\u001b[0;34m\u001b[0m\u001b[0;34m\u001b[0m\u001b[0m\n\u001b[1;32m    285\u001b[0m                 \u001b[0;31m# Always update progress to 100% when done\u001b[0m\u001b[0;34m\u001b[0m\u001b[0;34m\u001b[0m\u001b[0m\n",
            "\u001b[0;32m/usr/local/lib/python3.10/dist-packages/wandb/sdk/lib/mailbox.py\u001b[0m in \u001b[0;36m_get_and_clear\u001b[0;34m(self, timeout)\u001b[0m\n\u001b[1;32m    128\u001b[0m     \u001b[0;32mdef\u001b[0m \u001b[0m_get_and_clear\u001b[0m\u001b[0;34m(\u001b[0m\u001b[0mself\u001b[0m\u001b[0;34m,\u001b[0m \u001b[0mtimeout\u001b[0m\u001b[0;34m:\u001b[0m \u001b[0mfloat\u001b[0m\u001b[0;34m)\u001b[0m \u001b[0;34m->\u001b[0m \u001b[0mTuple\u001b[0m\u001b[0;34m[\u001b[0m\u001b[0mOptional\u001b[0m\u001b[0;34m[\u001b[0m\u001b[0mpb\u001b[0m\u001b[0;34m.\u001b[0m\u001b[0mResult\u001b[0m\u001b[0;34m]\u001b[0m\u001b[0;34m,\u001b[0m \u001b[0mbool\u001b[0m\u001b[0;34m]\u001b[0m\u001b[0;34m:\u001b[0m\u001b[0;34m\u001b[0m\u001b[0;34m\u001b[0m\u001b[0m\n\u001b[1;32m    129\u001b[0m         \u001b[0mfound\u001b[0m \u001b[0;34m=\u001b[0m \u001b[0;32mNone\u001b[0m\u001b[0;34m\u001b[0m\u001b[0;34m\u001b[0m\u001b[0m\n\u001b[0;32m--> 130\u001b[0;31m         \u001b[0;32mif\u001b[0m \u001b[0mself\u001b[0m\u001b[0;34m.\u001b[0m\u001b[0m_wait\u001b[0m\u001b[0;34m(\u001b[0m\u001b[0mtimeout\u001b[0m\u001b[0;34m=\u001b[0m\u001b[0mtimeout\u001b[0m\u001b[0;34m)\u001b[0m\u001b[0;34m:\u001b[0m\u001b[0;34m\u001b[0m\u001b[0;34m\u001b[0m\u001b[0m\n\u001b[0m\u001b[1;32m    131\u001b[0m             \u001b[0;32mwith\u001b[0m \u001b[0mself\u001b[0m\u001b[0;34m.\u001b[0m\u001b[0m_lock\u001b[0m\u001b[0;34m:\u001b[0m\u001b[0;34m\u001b[0m\u001b[0;34m\u001b[0m\u001b[0m\n\u001b[1;32m    132\u001b[0m                 \u001b[0mfound\u001b[0m \u001b[0;34m=\u001b[0m \u001b[0mself\u001b[0m\u001b[0;34m.\u001b[0m\u001b[0m_result\u001b[0m\u001b[0;34m\u001b[0m\u001b[0;34m\u001b[0m\u001b[0m\n",
            "\u001b[0;32m/usr/local/lib/python3.10/dist-packages/wandb/sdk/lib/mailbox.py\u001b[0m in \u001b[0;36m_wait\u001b[0;34m(self, timeout)\u001b[0m\n\u001b[1;32m    124\u001b[0m \u001b[0;34m\u001b[0m\u001b[0m\n\u001b[1;32m    125\u001b[0m     \u001b[0;32mdef\u001b[0m \u001b[0m_wait\u001b[0m\u001b[0;34m(\u001b[0m\u001b[0mself\u001b[0m\u001b[0;34m,\u001b[0m \u001b[0mtimeout\u001b[0m\u001b[0;34m:\u001b[0m \u001b[0mfloat\u001b[0m\u001b[0;34m)\u001b[0m \u001b[0;34m->\u001b[0m \u001b[0mbool\u001b[0m\u001b[0;34m:\u001b[0m\u001b[0;34m\u001b[0m\u001b[0;34m\u001b[0m\u001b[0m\n\u001b[0;32m--> 126\u001b[0;31m         \u001b[0;32mreturn\u001b[0m \u001b[0mself\u001b[0m\u001b[0;34m.\u001b[0m\u001b[0m_event\u001b[0m\u001b[0;34m.\u001b[0m\u001b[0mwait\u001b[0m\u001b[0;34m(\u001b[0m\u001b[0mtimeout\u001b[0m\u001b[0;34m=\u001b[0m\u001b[0mtimeout\u001b[0m\u001b[0;34m)\u001b[0m\u001b[0;34m\u001b[0m\u001b[0;34m\u001b[0m\u001b[0m\n\u001b[0m\u001b[1;32m    127\u001b[0m \u001b[0;34m\u001b[0m\u001b[0m\n\u001b[1;32m    128\u001b[0m     \u001b[0;32mdef\u001b[0m \u001b[0m_get_and_clear\u001b[0m\u001b[0;34m(\u001b[0m\u001b[0mself\u001b[0m\u001b[0;34m,\u001b[0m \u001b[0mtimeout\u001b[0m\u001b[0;34m:\u001b[0m \u001b[0mfloat\u001b[0m\u001b[0;34m)\u001b[0m \u001b[0;34m->\u001b[0m \u001b[0mTuple\u001b[0m\u001b[0;34m[\u001b[0m\u001b[0mOptional\u001b[0m\u001b[0;34m[\u001b[0m\u001b[0mpb\u001b[0m\u001b[0;34m.\u001b[0m\u001b[0mResult\u001b[0m\u001b[0;34m]\u001b[0m\u001b[0;34m,\u001b[0m \u001b[0mbool\u001b[0m\u001b[0;34m]\u001b[0m\u001b[0;34m:\u001b[0m\u001b[0;34m\u001b[0m\u001b[0;34m\u001b[0m\u001b[0m\n",
            "\u001b[0;32m/usr/lib/python3.10/threading.py\u001b[0m in \u001b[0;36mwait\u001b[0;34m(self, timeout)\u001b[0m\n\u001b[1;32m    605\u001b[0m             \u001b[0msignaled\u001b[0m \u001b[0;34m=\u001b[0m \u001b[0mself\u001b[0m\u001b[0;34m.\u001b[0m\u001b[0m_flag\u001b[0m\u001b[0;34m\u001b[0m\u001b[0;34m\u001b[0m\u001b[0m\n\u001b[1;32m    606\u001b[0m             \u001b[0;32mif\u001b[0m \u001b[0;32mnot\u001b[0m \u001b[0msignaled\u001b[0m\u001b[0;34m:\u001b[0m\u001b[0;34m\u001b[0m\u001b[0;34m\u001b[0m\u001b[0m\n\u001b[0;32m--> 607\u001b[0;31m                 \u001b[0msignaled\u001b[0m \u001b[0;34m=\u001b[0m \u001b[0mself\u001b[0m\u001b[0;34m.\u001b[0m\u001b[0m_cond\u001b[0m\u001b[0;34m.\u001b[0m\u001b[0mwait\u001b[0m\u001b[0;34m(\u001b[0m\u001b[0mtimeout\u001b[0m\u001b[0;34m)\u001b[0m\u001b[0;34m\u001b[0m\u001b[0;34m\u001b[0m\u001b[0m\n\u001b[0m\u001b[1;32m    608\u001b[0m             \u001b[0;32mreturn\u001b[0m \u001b[0msignaled\u001b[0m\u001b[0;34m\u001b[0m\u001b[0;34m\u001b[0m\u001b[0m\n\u001b[1;32m    609\u001b[0m \u001b[0;34m\u001b[0m\u001b[0m\n",
            "\u001b[0;32m/usr/lib/python3.10/threading.py\u001b[0m in \u001b[0;36mwait\u001b[0;34m(self, timeout)\u001b[0m\n\u001b[1;32m    322\u001b[0m             \u001b[0;32melse\u001b[0m\u001b[0;34m:\u001b[0m\u001b[0;34m\u001b[0m\u001b[0;34m\u001b[0m\u001b[0m\n\u001b[1;32m    323\u001b[0m                 \u001b[0;32mif\u001b[0m \u001b[0mtimeout\u001b[0m \u001b[0;34m>\u001b[0m \u001b[0;36m0\u001b[0m\u001b[0;34m:\u001b[0m\u001b[0;34m\u001b[0m\u001b[0;34m\u001b[0m\u001b[0m\n\u001b[0;32m--> 324\u001b[0;31m                     \u001b[0mgotit\u001b[0m \u001b[0;34m=\u001b[0m \u001b[0mwaiter\u001b[0m\u001b[0;34m.\u001b[0m\u001b[0macquire\u001b[0m\u001b[0;34m(\u001b[0m\u001b[0;32mTrue\u001b[0m\u001b[0;34m,\u001b[0m \u001b[0mtimeout\u001b[0m\u001b[0;34m)\u001b[0m\u001b[0;34m\u001b[0m\u001b[0;34m\u001b[0m\u001b[0m\n\u001b[0m\u001b[1;32m    325\u001b[0m                 \u001b[0;32melse\u001b[0m\u001b[0;34m:\u001b[0m\u001b[0;34m\u001b[0m\u001b[0;34m\u001b[0m\u001b[0m\n\u001b[1;32m    326\u001b[0m                     \u001b[0mgotit\u001b[0m \u001b[0;34m=\u001b[0m \u001b[0mwaiter\u001b[0m\u001b[0;34m.\u001b[0m\u001b[0macquire\u001b[0m\u001b[0;34m(\u001b[0m\u001b[0;32mFalse\u001b[0m\u001b[0;34m)\u001b[0m\u001b[0;34m\u001b[0m\u001b[0;34m\u001b[0m\u001b[0m\n",
            "\u001b[0;31mKeyboardInterrupt\u001b[0m: "
          ]
        }
      ],
      "source": [
        "model = CNN(hidden_dim=512, out_dim=102).to(device)\n",
        "\n",
        "criterion = nn.CrossEntropyLoss().to(device)\n",
        "optimizer = optim.Adam(model.parameters(), lr=0.0001)\n",
        "\n",
        "num_epochs = 10\n",
        "train_model_aug(model, criterion, optimizer, trainloader_full, validationloader, num_epochs=num_epochs, device=device, proj='augmented', name='aug')"
      ]
    },
    {
      "cell_type": "code",
      "execution_count": null,
      "metadata": {
        "id": "vsdJHUqqDQUQ"
      },
      "outputs": [],
      "source": [
        "\n",
        "accuracy = evaluate_model(model, testloader, device=device)\n",
        "print(\"Accuracy on test set: {:.2f}%\".format(accuracy))"
      ]
    },
    {
      "cell_type": "markdown",
      "source": [
        "![image.png](data:image/png;base64,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)"
      ],
      "metadata": {
        "id": "1vuNd_vePVyb"
      }
    },
    {
      "cell_type": "code",
      "execution_count": 32,
      "metadata": {
        "colab": {
          "base_uri": "https://localhost:8080/"
        },
        "id": "x-FSPl3rDQUQ",
        "outputId": "77ceae91-f2fd-4191-8f71-f9020aad30a6"
      },
      "outputs": [
        {
          "output_type": "stream",
          "name": "stderr",
          "text": [
            "[epoch:\t10] loss: 0.053541104309260845: 100%|██████████| 10/10 [02:05<00:00, 12.51s/it]\n"
          ]
        }
      ],
      "source": [
        "model = CNN(hidden_dim=512, out_dim=102).to(device)\n",
        "\n",
        "criterion = nn.CrossEntropyLoss().to(device)\n",
        "optimizer = optim.Adam(model.parameters(), lr=0.0001)\n",
        "\n",
        "num_epochs = 10\n",
        "train_model(model, criterion, optimizer, trainloader_full, validationloader, num_epochs=num_epochs, device=device, proj='augmented', name='classic')"
      ]
    },
    {
      "cell_type": "code",
      "execution_count": 33,
      "metadata": {
        "colab": {
          "base_uri": "https://localhost:8080/"
        },
        "id": "WMYMr4XTDQUR",
        "outputId": "5bcda2fc-6264-4e9e-875d-727a562e302d"
      },
      "outputs": [
        {
          "output_type": "stream",
          "name": "stdout",
          "text": [
            "Accuracy on test set: 17.04%\n"
          ]
        }
      ],
      "source": [
        "accuracy = evaluate_model(model, testloader, device=device)\n",
        "print(\"Accuracy on test set: {:.2f}%\".format(accuracy))"
      ]
    },
    {
      "cell_type": "markdown",
      "metadata": {
        "jp-MarkdownHeadingCollapsed": true,
        "id": "HSs7RQRdDQUR"
      },
      "source": [
        "## Problem 1.6 - residual"
      ]
    },
    {
      "cell_type": "code",
      "execution_count": 39,
      "metadata": {
        "id": "_DWClaz5DQUS"
      },
      "outputs": [],
      "source": [
        "import torch.nn as nn\n",
        "\n",
        "class ResidualBlock(nn.Module):\n",
        "    def __init__(self, features, k_size=3, padding=1, device=\"cuda\"):\n",
        "        super(ResidualBlock, self).__init__()\n",
        "        self.conv1 = nn.Conv2d(features, features, kernel_size=k_size, padding=padding)\n",
        "        self.conv2 = nn.Conv2d(features, features, kernel_size=k_size, padding=padding)\n",
        "        self.relu = nn.ReLU()\n",
        "        self.device = device\n",
        "\n",
        "    def forward(self, x):\n",
        "        x_tmp = self.relu(self.conv1(x.to(self.device)))\n",
        "        x_tmp = self.relu(self.conv2(x_tmp))\n",
        "        return x_tmp + x"
      ]
    },
    {
      "cell_type": "code",
      "execution_count": 40,
      "metadata": {
        "id": "cN_7cu9DDQUT"
      },
      "outputs": [],
      "source": [
        "class CNN(nn.Module):\n",
        "    def __init__(self, hidden_dim, out_dim, device='cuda'):\n",
        "        super(CNN, self).__init__()\n",
        "        self.device = device\n",
        "        self.conv1 = nn.Conv2d(3, 128, kernel_size=3, padding=1)\n",
        "        self.conv2 = nn.Conv2d(128, 128, kernel_size=3, padding=1)\n",
        "        self.conv3 = nn.Conv2d(128, 256, kernel_size=3, padding=1)\n",
        "        self.pool = nn.MaxPool2d(2, 2)\n",
        "        self.fc1 = nn.Linear(256 * 32 * 32, hidden_dim)\n",
        "        self.fc2 = nn.Linear(hidden_dim, hidden_dim//2)\n",
        "        self.fc3 = nn.Linear(hidden_dim//2, out_dim)\n",
        "        self.relu = nn.ReLU()\n",
        "        self.softmax = nn.Softmax(dim=1)\n",
        "\n",
        "        self.rc1 = ResidualBlock(128, device=self.device)\n",
        "        self.rc2 = ResidualBlock(128, device=self.device)\n",
        "        self.rc3 = ResidualBlock(256, device=self.device)\n",
        "\n",
        "    def forward(self, x):\n",
        "        x = self.pool(self.relu(self.conv1(x.to(self.device))))\n",
        "        x = self.rc1(x)\n",
        "\n",
        "        x = self.pool(self.relu(self.conv2(x)))\n",
        "        x = self.rc2(x)\n",
        "\n",
        "        x = self.pool(self.relu(self.conv3(x)))\n",
        "        x = self.rc3(x)\n",
        "\n",
        "        x = x.view(-1, 256 * 32 * 32)\n",
        "        x = self.relu(self.fc1(x))\n",
        "        x = self.relu(self.fc2(x))\n",
        "        x = self.fc3(x)\n",
        "        return x"
      ]
    },
    {
      "cell_type": "code",
      "source": [
        "import gc\n",
        "gc.collect()"
      ],
      "metadata": {
        "colab": {
          "base_uri": "https://localhost:8080/"
        },
        "id": "m2QEWiAWRo8g",
        "outputId": "d7e2990e-fe48-4980-f4cc-831a6d429b27"
      },
      "execution_count": 54,
      "outputs": [
        {
          "output_type": "execute_result",
          "data": {
            "text/plain": [
              "12877"
            ]
          },
          "metadata": {},
          "execution_count": 54
        }
      ]
    },
    {
      "cell_type": "code",
      "execution_count": 46,
      "metadata": {
        "colab": {
          "base_uri": "https://localhost:8080/"
        },
        "id": "WWEjRa-DDQUT",
        "outputId": "666e6a77-0863-4043-ce14-eddc48fea844"
      },
      "outputs": [
        {
          "output_type": "stream",
          "name": "stderr",
          "text": [
            "\r  0%|          | 0/10 [00:00<?, ?it/s]/usr/lib/python3.10/multiprocessing/popen_fork.py:66: RuntimeWarning: os.fork() was called. os.fork() is incompatible with multithreaded code, and JAX is multithreaded, so this will likely lead to a deadlock.\n",
            "  self.pid = os.fork()\n",
            "/usr/lib/python3.10/multiprocessing/popen_fork.py:66: RuntimeWarning: os.fork() was called. os.fork() is incompatible with multithreaded code, and JAX is multithreaded, so this will likely lead to a deadlock.\n",
            "  self.pid = os.fork()\n",
            "[epoch:\t10] loss: 0.04381182783283293: 100%|██████████| 10/10 [04:13<00:00, 25.36s/it]\n"
          ]
        }
      ],
      "source": [
        "model = CNN(hidden_dim=512, out_dim=102).to(device)\n",
        "\n",
        "criterion = nn.CrossEntropyLoss()\n",
        "optimizer = optim.Adam(model.parameters(), lr=0.0001)\n",
        "\n",
        "num_epochs = 10\n",
        "train_model(model, criterion, optimizer, trainloader_full, validationloader, num_epochs=num_epochs, device=device, proj='bonus', name='residual')"
      ]
    },
    {
      "cell_type": "code",
      "execution_count": 47,
      "metadata": {
        "colab": {
          "base_uri": "https://localhost:8080/"
        },
        "id": "gKy2_xpuDQUU",
        "outputId": "d25d3a2e-54b9-4149-b8e8-0eb58984500b"
      },
      "outputs": [
        {
          "output_type": "stream",
          "name": "stdout",
          "text": [
            "Accuracy on test set: 14.43%\n"
          ]
        }
      ],
      "source": [
        "accuracy = evaluate_model(model, testloader, device=device)\n",
        "print(\"Accuracy on test set: {:.2f}%\".format(accuracy))"
      ]
    },
    {
      "cell_type": "markdown",
      "metadata": {
        "jp-MarkdownHeadingCollapsed": true,
        "id": "8mE4B7LVDQUV"
      },
      "source": [
        "## Problem 1.6 - inception"
      ]
    },
    {
      "cell_type": "code",
      "execution_count": 48,
      "metadata": {
        "id": "9nXEn4VEDQUV"
      },
      "outputs": [],
      "source": [
        "transform = transforms.Compose([\n",
        "    transforms.Resize((64,64)),\n",
        "    transforms.ToTensor()\n",
        "])\n",
        "\n",
        "\n",
        "trainset = torchvision.datasets.Flowers102(root='./data', split='train', download=True, transform=transform)\n",
        "trainloader_full = torch.utils.data.DataLoader(trainset, batch_size=32, shuffle=True, num_workers=2)\n",
        "\n",
        "validation_set = torchvision.datasets.Flowers102(root='./data', split='val', download=True, transform=transform)\n",
        "validationloader = torch.utils.data.DataLoader(validation_set, batch_size=32, shuffle=True, num_workers=2)\n",
        "\n",
        "testset = torchvision.datasets.Flowers102(root='./data', split='test', download=True, transform=transform)\n",
        "testloader = torch.utils.data.DataLoader(testset, batch_size=32, shuffle=False, num_workers=2)\n",
        "\n",
        "device = torch.device(\"cuda\" if torch.cuda.is_available() else \"cpu\")"
      ]
    },
    {
      "cell_type": "code",
      "execution_count": 49,
      "metadata": {
        "id": "9MeCMbvODQUW"
      },
      "outputs": [],
      "source": [
        "class Inception(nn.Module):\n",
        "    def __init__(self, _in, _out, device=\"cuda\"):\n",
        "        super(Inception, self).__init__()\n",
        "        self.conv1 = nn.Conv2d(_in, _out, kernel_size=1)\n",
        "        self.conv2 = nn.Conv2d(_in, _out, kernel_size=3, padding=1)\n",
        "        self.conv3 = nn.Conv2d(_in, _out, kernel_size=5, padding=2)\n",
        "        self.conv4 = nn.Conv2d(_in, _out, kernel_size=1, padding=1)\n",
        "        self.pool = nn.MaxPool2d(kernel_size=(3, 3), stride=(1, 1))\n",
        "        self.device = device\n",
        "\n",
        "    def forward(self, x):\n",
        "        x1 = self.conv1(x)\n",
        "        x2 = self.conv2(x)\n",
        "        x3 = self.conv3(x)\n",
        "        x4 = self.pool(x)\n",
        "        x4 = self.conv4(x4)\n",
        "\n",
        "        out = x1\n",
        "        out += x2\n",
        "        out += x3\n",
        "        out += x4\n",
        "\n",
        "        return out"
      ]
    },
    {
      "cell_type": "code",
      "execution_count": 50,
      "metadata": {
        "id": "QT7vo3ZODQUW"
      },
      "outputs": [],
      "source": [
        "class CNN(nn.Module):\n",
        "    def __init__(self, hidden_dim, out_dim, device='cuda'):\n",
        "        super(CNN, self).__init__()\n",
        "        self.device = device\n",
        "        self.inc1 = Inception(3, 32)\n",
        "        self.inc2 = Inception(32, 64)\n",
        "        self.inc3 = Inception(64, 256)\n",
        "\n",
        "        self.fc1 = nn.Linear(256 * 64 * 64, hidden_dim)\n",
        "        self.fc2 = nn.Linear(hidden_dim, hidden_dim//2)\n",
        "        self.fc3 = nn.Linear(hidden_dim//2, out_dim)\n",
        "        self.relu = nn.ReLU()\n",
        "\n",
        "    def forward(self, x):\n",
        "        x = self.relu(self.inc1(x.to(self.device)))\n",
        "        x = self.relu(self.inc2(x))\n",
        "        x = self.relu(self.inc3(x))\n",
        "\n",
        "        x = x.view(-1, 256 * 64 * 64)\n",
        "        x = self.relu(self.fc1(x))\n",
        "        x = self.relu(self.fc2(x))\n",
        "        x = self.fc3(x)\n",
        "        return x"
      ]
    },
    {
      "cell_type": "code",
      "execution_count": 51,
      "metadata": {
        "id": "kIMv-NUfDQUX"
      },
      "outputs": [],
      "source": [
        "model = CNN(hidden_dim=512, out_dim=102).to(device)"
      ]
    },
    {
      "cell_type": "code",
      "source": [
        "gc.collect()"
      ],
      "metadata": {
        "colab": {
          "base_uri": "https://localhost:8080/"
        },
        "id": "31s7jsg_S8VP",
        "outputId": "917d97a9-4508-4822-9ae1-b05d8b650340"
      },
      "execution_count": 55,
      "outputs": [
        {
          "output_type": "execute_result",
          "data": {
            "text/plain": [
              "0"
            ]
          },
          "metadata": {},
          "execution_count": 55
        }
      ]
    },
    {
      "cell_type": "code",
      "execution_count": 57,
      "metadata": {
        "colab": {
          "base_uri": "https://localhost:8080/"
        },
        "id": "WC6B4FPjDQUY",
        "outputId": "b9ee8dad-aa7e-4b36-e7c0-799a1e2282de"
      },
      "outputs": [
        {
          "output_type": "stream",
          "name": "stderr",
          "text": [
            "[epoch:\t10] loss: 0.0015506744547747076: 100%|██████████| 10/10 [02:13<00:00, 13.30s/it]\n"
          ]
        }
      ],
      "source": [
        "criterion = nn.CrossEntropyLoss()\n",
        "optimizer = optim.Adam(model.parameters(), lr=0.0001)\n",
        "\n",
        "num_epochs = 10\n",
        "train_model(model, criterion, optimizer, trainloader_full, validationloader, num_epochs=num_epochs, device=device, proj='bonus', name='inception')"
      ]
    },
    {
      "cell_type": "code",
      "execution_count": 58,
      "metadata": {
        "colab": {
          "base_uri": "https://localhost:8080/"
        },
        "id": "xA47SB9CDQUZ",
        "outputId": "6189b4b9-e3e0-4330-9e7e-a36831b8b935"
      },
      "outputs": [
        {
          "output_type": "stream",
          "name": "stdout",
          "text": [
            "Accuracy on test set: 18.88%\n"
          ]
        }
      ],
      "source": [
        "accuracy = evaluate_model(model, testloader, device=device)\n",
        "print(\"Accuracy on test set: {:.2f}%\".format(accuracy))"
      ]
    },
    {
      "cell_type": "markdown",
      "metadata": {
        "id": "M19CXKMsi2Of"
      },
      "source": [
        "# Problem 2: Reusing a VGG Network [2p]\n",
        "\n",
        "Training large-scale models takes much time and resources. It also requires caution when picking hyperparameters. It is a common practice to share learned parameters of large models, and reuse them in different tasks. Weight matrices can be shared, even between entirely different frameworks. Further reading: [How transferable are features in deep neural networks?](https://arxiv.org/abs/1411.1792) by Yosinski et al.\n",
        "\n",
        "Neural networks trained for image classification might be seen as composed of two elements: a feature extractor, and a classifier. The former is typically made of a stack of convolutional layers, while the latter is the last linear layer of the model.\n",
        "\n",
        "We will focus on the deepest models - VGG16 and/or VGG19. To complete the task, load pre-trained VGG model. Then:\n",
        "1. **[1p]** Train the classifier part of the network on the\n",
        "  [Caltech101](http://www.vision.caltech.edu/Image_Datasets/Caltech101/) dataset of images:\n",
        "  * replace the classifier with a new randomly initialized one, whose output dimensionality matches\n",
        "    the number of classes of the Caltech101 dataset. You can replace all layers in the classifier\n",
        "    part of the VGG with just one affine projection into 102 classes.\n",
        "  * to significantly reduce training time and avoid destroying network weights early in the training,\n",
        "    train only the weights of the classifier. You can achieve this by applying the optimization only\n",
        "    to the classifier's parameters.\n",
        "    \n",
        "2. **[1p]** Assess the usefulness of using dropout and data augmentation during classifier training.\n",
        "  \n",
        "This procedure should quickly give you less than 10% training errors on the Caltech101 dataset!"
      ]
    }
  ],
  "metadata": {
    "accelerator": "GPU",
    "colab": {
      "provenance": [],
      "toc_visible": true
    },
    "hide_input": false,
    "kernelspec": {
      "display_name": "Python 3 (ipykernel)",
      "language": "python",
      "name": "python3"
    },
    "language_info": {
      "codemirror_mode": {
        "name": "ipython",
        "version": 3
      },
      "file_extension": ".py",
      "mimetype": "text/x-python",
      "name": "python",
      "nbconvert_exporter": "python",
      "pygments_lexer": "ipython3",
      "version": "3.10.12"
    },
    "toc": {
      "base_numbering": 1,
      "nav_menu": {},
      "number_sections": true,
      "sideBar": true,
      "skip_h1_title": false,
      "title_cell": "Table of Contents",
      "title_sidebar": "Contents",
      "toc_cell": false,
      "toc_position": {},
      "toc_section_display": true,
      "toc_window_display": false
    },
    "varInspector": {
      "cols": {
        "lenName": 16,
        "lenType": 16,
        "lenVar": 40
      },
      "kernels_config": {
        "python": {
          "delete_cmd_postfix": "",
          "delete_cmd_prefix": "del ",
          "library": "var_list.py",
          "varRefreshCmd": "print(var_dic_list())"
        },
        "r": {
          "delete_cmd_postfix": ") ",
          "delete_cmd_prefix": "rm(",
          "library": "var_list.r",
          "varRefreshCmd": "cat(var_dic_list()) "
        }
      },
      "types_to_exclude": [
        "module",
        "function",
        "builtin_function_or_method",
        "instance",
        "_Feature"
      ],
      "window_display": false
    },
    "widgets": {
      "application/vnd.jupyter.widget-state+json": {
        "29d49e9016b04b80bf8333520f98729f": {
          "model_module": "@jupyter-widgets/controls",
          "model_name": "VBoxModel",
          "model_module_version": "1.5.0",
          "state": {
            "_dom_classes": [],
            "_model_module": "@jupyter-widgets/controls",
            "_model_module_version": "1.5.0",
            "_model_name": "VBoxModel",
            "_view_count": null,
            "_view_module": "@jupyter-widgets/controls",
            "_view_module_version": "1.5.0",
            "_view_name": "VBoxView",
            "box_style": "",
            "children": [
              "IPY_MODEL_f2b9069167f2483fb7dfe1416c9b52fc",
              "IPY_MODEL_7c3d8d3211cf4308b92409d6da4c553e"
            ],
            "layout": "IPY_MODEL_bdc47ada889949698d5ec20d2c328575"
          }
        },
        "f2b9069167f2483fb7dfe1416c9b52fc": {
          "model_module": "@jupyter-widgets/controls",
          "model_name": "LabelModel",
          "model_module_version": "1.5.0",
          "state": {
            "_dom_classes": [],
            "_model_module": "@jupyter-widgets/controls",
            "_model_module_version": "1.5.0",
            "_model_name": "LabelModel",
            "_view_count": null,
            "_view_module": "@jupyter-widgets/controls",
            "_view_module_version": "1.5.0",
            "_view_name": "LabelView",
            "description": "",
            "description_tooltip": null,
            "layout": "IPY_MODEL_0ae3efd4f56a42bb8999feefc2edf28a",
            "placeholder": "​",
            "style": "IPY_MODEL_5f20e5f727d54a868b44a56f3b00b12c",
            "value": "0.011 MB of 0.011 MB uploaded\r"
          }
        },
        "7c3d8d3211cf4308b92409d6da4c553e": {
          "model_module": "@jupyter-widgets/controls",
          "model_name": "FloatProgressModel",
          "model_module_version": "1.5.0",
          "state": {
            "_dom_classes": [],
            "_model_module": "@jupyter-widgets/controls",
            "_model_module_version": "1.5.0",
            "_model_name": "FloatProgressModel",
            "_view_count": null,
            "_view_module": "@jupyter-widgets/controls",
            "_view_module_version": "1.5.0",
            "_view_name": "ProgressView",
            "bar_style": "",
            "description": "",
            "description_tooltip": null,
            "layout": "IPY_MODEL_f8d4c34653214d6b864c1945336c51a1",
            "max": 1,
            "min": 0,
            "orientation": "horizontal",
            "style": "IPY_MODEL_aa6e51afc0ab4845b832d023541ac3fb",
            "value": 1
          }
        },
        "bdc47ada889949698d5ec20d2c328575": {
          "model_module": "@jupyter-widgets/base",
          "model_name": "LayoutModel",
          "model_module_version": "1.2.0",
          "state": {
            "_model_module": "@jupyter-widgets/base",
            "_model_module_version": "1.2.0",
            "_model_name": "LayoutModel",
            "_view_count": null,
            "_view_module": "@jupyter-widgets/base",
            "_view_module_version": "1.2.0",
            "_view_name": "LayoutView",
            "align_content": null,
            "align_items": null,
            "align_self": null,
            "border": null,
            "bottom": null,
            "display": null,
            "flex": null,
            "flex_flow": null,
            "grid_area": null,
            "grid_auto_columns": null,
            "grid_auto_flow": null,
            "grid_auto_rows": null,
            "grid_column": null,
            "grid_gap": null,
            "grid_row": null,
            "grid_template_areas": null,
            "grid_template_columns": null,
            "grid_template_rows": null,
            "height": null,
            "justify_content": null,
            "justify_items": null,
            "left": null,
            "margin": null,
            "max_height": null,
            "max_width": null,
            "min_height": null,
            "min_width": null,
            "object_fit": null,
            "object_position": null,
            "order": null,
            "overflow": null,
            "overflow_x": null,
            "overflow_y": null,
            "padding": null,
            "right": null,
            "top": null,
            "visibility": null,
            "width": null
          }
        },
        "0ae3efd4f56a42bb8999feefc2edf28a": {
          "model_module": "@jupyter-widgets/base",
          "model_name": "LayoutModel",
          "model_module_version": "1.2.0",
          "state": {
            "_model_module": "@jupyter-widgets/base",
            "_model_module_version": "1.2.0",
            "_model_name": "LayoutModel",
            "_view_count": null,
            "_view_module": "@jupyter-widgets/base",
            "_view_module_version": "1.2.0",
            "_view_name": "LayoutView",
            "align_content": null,
            "align_items": null,
            "align_self": null,
            "border": null,
            "bottom": null,
            "display": null,
            "flex": null,
            "flex_flow": null,
            "grid_area": null,
            "grid_auto_columns": null,
            "grid_auto_flow": null,
            "grid_auto_rows": null,
            "grid_column": null,
            "grid_gap": null,
            "grid_row": null,
            "grid_template_areas": null,
            "grid_template_columns": null,
            "grid_template_rows": null,
            "height": null,
            "justify_content": null,
            "justify_items": null,
            "left": null,
            "margin": null,
            "max_height": null,
            "max_width": null,
            "min_height": null,
            "min_width": null,
            "object_fit": null,
            "object_position": null,
            "order": null,
            "overflow": null,
            "overflow_x": null,
            "overflow_y": null,
            "padding": null,
            "right": null,
            "top": null,
            "visibility": null,
            "width": null
          }
        },
        "5f20e5f727d54a868b44a56f3b00b12c": {
          "model_module": "@jupyter-widgets/controls",
          "model_name": "DescriptionStyleModel",
          "model_module_version": "1.5.0",
          "state": {
            "_model_module": "@jupyter-widgets/controls",
            "_model_module_version": "1.5.0",
            "_model_name": "DescriptionStyleModel",
            "_view_count": null,
            "_view_module": "@jupyter-widgets/base",
            "_view_module_version": "1.2.0",
            "_view_name": "StyleView",
            "description_width": ""
          }
        },
        "f8d4c34653214d6b864c1945336c51a1": {
          "model_module": "@jupyter-widgets/base",
          "model_name": "LayoutModel",
          "model_module_version": "1.2.0",
          "state": {
            "_model_module": "@jupyter-widgets/base",
            "_model_module_version": "1.2.0",
            "_model_name": "LayoutModel",
            "_view_count": null,
            "_view_module": "@jupyter-widgets/base",
            "_view_module_version": "1.2.0",
            "_view_name": "LayoutView",
            "align_content": null,
            "align_items": null,
            "align_self": null,
            "border": null,
            "bottom": null,
            "display": null,
            "flex": null,
            "flex_flow": null,
            "grid_area": null,
            "grid_auto_columns": null,
            "grid_auto_flow": null,
            "grid_auto_rows": null,
            "grid_column": null,
            "grid_gap": null,
            "grid_row": null,
            "grid_template_areas": null,
            "grid_template_columns": null,
            "grid_template_rows": null,
            "height": null,
            "justify_content": null,
            "justify_items": null,
            "left": null,
            "margin": null,
            "max_height": null,
            "max_width": null,
            "min_height": null,
            "min_width": null,
            "object_fit": null,
            "object_position": null,
            "order": null,
            "overflow": null,
            "overflow_x": null,
            "overflow_y": null,
            "padding": null,
            "right": null,
            "top": null,
            "visibility": null,
            "width": null
          }
        },
        "aa6e51afc0ab4845b832d023541ac3fb": {
          "model_module": "@jupyter-widgets/controls",
          "model_name": "ProgressStyleModel",
          "model_module_version": "1.5.0",
          "state": {
            "_model_module": "@jupyter-widgets/controls",
            "_model_module_version": "1.5.0",
            "_model_name": "ProgressStyleModel",
            "_view_count": null,
            "_view_module": "@jupyter-widgets/base",
            "_view_module_version": "1.2.0",
            "_view_name": "StyleView",
            "bar_color": null,
            "description_width": ""
          }
        },
        "73ff1af547644068842f0dbe4f39cc4b": {
          "model_module": "@jupyter-widgets/controls",
          "model_name": "VBoxModel",
          "model_module_version": "1.5.0",
          "state": {
            "_dom_classes": [],
            "_model_module": "@jupyter-widgets/controls",
            "_model_module_version": "1.5.0",
            "_model_name": "VBoxModel",
            "_view_count": null,
            "_view_module": "@jupyter-widgets/controls",
            "_view_module_version": "1.5.0",
            "_view_name": "VBoxView",
            "box_style": "",
            "children": [
              "IPY_MODEL_66dd144059d346f6b0c10eee85c3f29b",
              "IPY_MODEL_e9db27ad9dbe470b9219de129448d956"
            ],
            "layout": "IPY_MODEL_81eaca41a9ea4d4ba1e7d1a7aa8ca817"
          }
        },
        "66dd144059d346f6b0c10eee85c3f29b": {
          "model_module": "@jupyter-widgets/controls",
          "model_name": "LabelModel",
          "model_module_version": "1.5.0",
          "state": {
            "_dom_classes": [],
            "_model_module": "@jupyter-widgets/controls",
            "_model_module_version": "1.5.0",
            "_model_name": "LabelModel",
            "_view_count": null,
            "_view_module": "@jupyter-widgets/controls",
            "_view_module_version": "1.5.0",
            "_view_name": "LabelView",
            "description": "",
            "description_tooltip": null,
            "layout": "IPY_MODEL_19c31e91436e4191aff17f13542cfccf",
            "placeholder": "​",
            "style": "IPY_MODEL_433c4889d544453ebd2543ea4c60510b",
            "value": "0.011 MB of 0.011 MB uploaded\r"
          }
        },
        "e9db27ad9dbe470b9219de129448d956": {
          "model_module": "@jupyter-widgets/controls",
          "model_name": "FloatProgressModel",
          "model_module_version": "1.5.0",
          "state": {
            "_dom_classes": [],
            "_model_module": "@jupyter-widgets/controls",
            "_model_module_version": "1.5.0",
            "_model_name": "FloatProgressModel",
            "_view_count": null,
            "_view_module": "@jupyter-widgets/controls",
            "_view_module_version": "1.5.0",
            "_view_name": "ProgressView",
            "bar_style": "",
            "description": "",
            "description_tooltip": null,
            "layout": "IPY_MODEL_7c09d4fb61254d988fd953087d02b20a",
            "max": 1,
            "min": 0,
            "orientation": "horizontal",
            "style": "IPY_MODEL_f5d7ab738500472c80ca68db5d4079bc",
            "value": 1
          }
        },
        "81eaca41a9ea4d4ba1e7d1a7aa8ca817": {
          "model_module": "@jupyter-widgets/base",
          "model_name": "LayoutModel",
          "model_module_version": "1.2.0",
          "state": {
            "_model_module": "@jupyter-widgets/base",
            "_model_module_version": "1.2.0",
            "_model_name": "LayoutModel",
            "_view_count": null,
            "_view_module": "@jupyter-widgets/base",
            "_view_module_version": "1.2.0",
            "_view_name": "LayoutView",
            "align_content": null,
            "align_items": null,
            "align_self": null,
            "border": null,
            "bottom": null,
            "display": null,
            "flex": null,
            "flex_flow": null,
            "grid_area": null,
            "grid_auto_columns": null,
            "grid_auto_flow": null,
            "grid_auto_rows": null,
            "grid_column": null,
            "grid_gap": null,
            "grid_row": null,
            "grid_template_areas": null,
            "grid_template_columns": null,
            "grid_template_rows": null,
            "height": null,
            "justify_content": null,
            "justify_items": null,
            "left": null,
            "margin": null,
            "max_height": null,
            "max_width": null,
            "min_height": null,
            "min_width": null,
            "object_fit": null,
            "object_position": null,
            "order": null,
            "overflow": null,
            "overflow_x": null,
            "overflow_y": null,
            "padding": null,
            "right": null,
            "top": null,
            "visibility": null,
            "width": null
          }
        },
        "19c31e91436e4191aff17f13542cfccf": {
          "model_module": "@jupyter-widgets/base",
          "model_name": "LayoutModel",
          "model_module_version": "1.2.0",
          "state": {
            "_model_module": "@jupyter-widgets/base",
            "_model_module_version": "1.2.0",
            "_model_name": "LayoutModel",
            "_view_count": null,
            "_view_module": "@jupyter-widgets/base",
            "_view_module_version": "1.2.0",
            "_view_name": "LayoutView",
            "align_content": null,
            "align_items": null,
            "align_self": null,
            "border": null,
            "bottom": null,
            "display": null,
            "flex": null,
            "flex_flow": null,
            "grid_area": null,
            "grid_auto_columns": null,
            "grid_auto_flow": null,
            "grid_auto_rows": null,
            "grid_column": null,
            "grid_gap": null,
            "grid_row": null,
            "grid_template_areas": null,
            "grid_template_columns": null,
            "grid_template_rows": null,
            "height": null,
            "justify_content": null,
            "justify_items": null,
            "left": null,
            "margin": null,
            "max_height": null,
            "max_width": null,
            "min_height": null,
            "min_width": null,
            "object_fit": null,
            "object_position": null,
            "order": null,
            "overflow": null,
            "overflow_x": null,
            "overflow_y": null,
            "padding": null,
            "right": null,
            "top": null,
            "visibility": null,
            "width": null
          }
        },
        "433c4889d544453ebd2543ea4c60510b": {
          "model_module": "@jupyter-widgets/controls",
          "model_name": "DescriptionStyleModel",
          "model_module_version": "1.5.0",
          "state": {
            "_model_module": "@jupyter-widgets/controls",
            "_model_module_version": "1.5.0",
            "_model_name": "DescriptionStyleModel",
            "_view_count": null,
            "_view_module": "@jupyter-widgets/base",
            "_view_module_version": "1.2.0",
            "_view_name": "StyleView",
            "description_width": ""
          }
        },
        "7c09d4fb61254d988fd953087d02b20a": {
          "model_module": "@jupyter-widgets/base",
          "model_name": "LayoutModel",
          "model_module_version": "1.2.0",
          "state": {
            "_model_module": "@jupyter-widgets/base",
            "_model_module_version": "1.2.0",
            "_model_name": "LayoutModel",
            "_view_count": null,
            "_view_module": "@jupyter-widgets/base",
            "_view_module_version": "1.2.0",
            "_view_name": "LayoutView",
            "align_content": null,
            "align_items": null,
            "align_self": null,
            "border": null,
            "bottom": null,
            "display": null,
            "flex": null,
            "flex_flow": null,
            "grid_area": null,
            "grid_auto_columns": null,
            "grid_auto_flow": null,
            "grid_auto_rows": null,
            "grid_column": null,
            "grid_gap": null,
            "grid_row": null,
            "grid_template_areas": null,
            "grid_template_columns": null,
            "grid_template_rows": null,
            "height": null,
            "justify_content": null,
            "justify_items": null,
            "left": null,
            "margin": null,
            "max_height": null,
            "max_width": null,
            "min_height": null,
            "min_width": null,
            "object_fit": null,
            "object_position": null,
            "order": null,
            "overflow": null,
            "overflow_x": null,
            "overflow_y": null,
            "padding": null,
            "right": null,
            "top": null,
            "visibility": null,
            "width": null
          }
        },
        "f5d7ab738500472c80ca68db5d4079bc": {
          "model_module": "@jupyter-widgets/controls",
          "model_name": "ProgressStyleModel",
          "model_module_version": "1.5.0",
          "state": {
            "_model_module": "@jupyter-widgets/controls",
            "_model_module_version": "1.5.0",
            "_model_name": "ProgressStyleModel",
            "_view_count": null,
            "_view_module": "@jupyter-widgets/base",
            "_view_module_version": "1.2.0",
            "_view_name": "StyleView",
            "bar_color": null,
            "description_width": ""
          }
        },
        "0bb4535f2077444680a8ad6a1d0c92ef": {
          "model_module": "@jupyter-widgets/controls",
          "model_name": "VBoxModel",
          "model_module_version": "1.5.0",
          "state": {
            "_dom_classes": [],
            "_model_module": "@jupyter-widgets/controls",
            "_model_module_version": "1.5.0",
            "_model_name": "VBoxModel",
            "_view_count": null,
            "_view_module": "@jupyter-widgets/controls",
            "_view_module_version": "1.5.0",
            "_view_name": "VBoxView",
            "box_style": "",
            "children": [
              "IPY_MODEL_2767f426f2da4379aafba15a50f46c4e",
              "IPY_MODEL_efe1cd794fa6455ea631dd513f43d94b"
            ],
            "layout": "IPY_MODEL_4f6e6d38814a4221a648e1777ecfd69e"
          }
        },
        "2767f426f2da4379aafba15a50f46c4e": {
          "model_module": "@jupyter-widgets/controls",
          "model_name": "LabelModel",
          "model_module_version": "1.5.0",
          "state": {
            "_dom_classes": [],
            "_model_module": "@jupyter-widgets/controls",
            "_model_module_version": "1.5.0",
            "_model_name": "LabelModel",
            "_view_count": null,
            "_view_module": "@jupyter-widgets/controls",
            "_view_module_version": "1.5.0",
            "_view_name": "LabelView",
            "description": "",
            "description_tooltip": null,
            "layout": "IPY_MODEL_c3b92d69db5840e8a1b6ccde7fd7e604",
            "placeholder": "​",
            "style": "IPY_MODEL_4fe6ef2102fb45dc9c13c1c59959edb9",
            "value": "0.011 MB of 0.011 MB uploaded\r"
          }
        },
        "efe1cd794fa6455ea631dd513f43d94b": {
          "model_module": "@jupyter-widgets/controls",
          "model_name": "FloatProgressModel",
          "model_module_version": "1.5.0",
          "state": {
            "_dom_classes": [],
            "_model_module": "@jupyter-widgets/controls",
            "_model_module_version": "1.5.0",
            "_model_name": "FloatProgressModel",
            "_view_count": null,
            "_view_module": "@jupyter-widgets/controls",
            "_view_module_version": "1.5.0",
            "_view_name": "ProgressView",
            "bar_style": "",
            "description": "",
            "description_tooltip": null,
            "layout": "IPY_MODEL_61ed0f072db54da78f87b967c40e9910",
            "max": 1,
            "min": 0,
            "orientation": "horizontal",
            "style": "IPY_MODEL_45937332c07846e586fdcfd8dbd76ff5",
            "value": 1
          }
        },
        "4f6e6d38814a4221a648e1777ecfd69e": {
          "model_module": "@jupyter-widgets/base",
          "model_name": "LayoutModel",
          "model_module_version": "1.2.0",
          "state": {
            "_model_module": "@jupyter-widgets/base",
            "_model_module_version": "1.2.0",
            "_model_name": "LayoutModel",
            "_view_count": null,
            "_view_module": "@jupyter-widgets/base",
            "_view_module_version": "1.2.0",
            "_view_name": "LayoutView",
            "align_content": null,
            "align_items": null,
            "align_self": null,
            "border": null,
            "bottom": null,
            "display": null,
            "flex": null,
            "flex_flow": null,
            "grid_area": null,
            "grid_auto_columns": null,
            "grid_auto_flow": null,
            "grid_auto_rows": null,
            "grid_column": null,
            "grid_gap": null,
            "grid_row": null,
            "grid_template_areas": null,
            "grid_template_columns": null,
            "grid_template_rows": null,
            "height": null,
            "justify_content": null,
            "justify_items": null,
            "left": null,
            "margin": null,
            "max_height": null,
            "max_width": null,
            "min_height": null,
            "min_width": null,
            "object_fit": null,
            "object_position": null,
            "order": null,
            "overflow": null,
            "overflow_x": null,
            "overflow_y": null,
            "padding": null,
            "right": null,
            "top": null,
            "visibility": null,
            "width": null
          }
        },
        "c3b92d69db5840e8a1b6ccde7fd7e604": {
          "model_module": "@jupyter-widgets/base",
          "model_name": "LayoutModel",
          "model_module_version": "1.2.0",
          "state": {
            "_model_module": "@jupyter-widgets/base",
            "_model_module_version": "1.2.0",
            "_model_name": "LayoutModel",
            "_view_count": null,
            "_view_module": "@jupyter-widgets/base",
            "_view_module_version": "1.2.0",
            "_view_name": "LayoutView",
            "align_content": null,
            "align_items": null,
            "align_self": null,
            "border": null,
            "bottom": null,
            "display": null,
            "flex": null,
            "flex_flow": null,
            "grid_area": null,
            "grid_auto_columns": null,
            "grid_auto_flow": null,
            "grid_auto_rows": null,
            "grid_column": null,
            "grid_gap": null,
            "grid_row": null,
            "grid_template_areas": null,
            "grid_template_columns": null,
            "grid_template_rows": null,
            "height": null,
            "justify_content": null,
            "justify_items": null,
            "left": null,
            "margin": null,
            "max_height": null,
            "max_width": null,
            "min_height": null,
            "min_width": null,
            "object_fit": null,
            "object_position": null,
            "order": null,
            "overflow": null,
            "overflow_x": null,
            "overflow_y": null,
            "padding": null,
            "right": null,
            "top": null,
            "visibility": null,
            "width": null
          }
        },
        "4fe6ef2102fb45dc9c13c1c59959edb9": {
          "model_module": "@jupyter-widgets/controls",
          "model_name": "DescriptionStyleModel",
          "model_module_version": "1.5.0",
          "state": {
            "_model_module": "@jupyter-widgets/controls",
            "_model_module_version": "1.5.0",
            "_model_name": "DescriptionStyleModel",
            "_view_count": null,
            "_view_module": "@jupyter-widgets/base",
            "_view_module_version": "1.2.0",
            "_view_name": "StyleView",
            "description_width": ""
          }
        },
        "61ed0f072db54da78f87b967c40e9910": {
          "model_module": "@jupyter-widgets/base",
          "model_name": "LayoutModel",
          "model_module_version": "1.2.0",
          "state": {
            "_model_module": "@jupyter-widgets/base",
            "_model_module_version": "1.2.0",
            "_model_name": "LayoutModel",
            "_view_count": null,
            "_view_module": "@jupyter-widgets/base",
            "_view_module_version": "1.2.0",
            "_view_name": "LayoutView",
            "align_content": null,
            "align_items": null,
            "align_self": null,
            "border": null,
            "bottom": null,
            "display": null,
            "flex": null,
            "flex_flow": null,
            "grid_area": null,
            "grid_auto_columns": null,
            "grid_auto_flow": null,
            "grid_auto_rows": null,
            "grid_column": null,
            "grid_gap": null,
            "grid_row": null,
            "grid_template_areas": null,
            "grid_template_columns": null,
            "grid_template_rows": null,
            "height": null,
            "justify_content": null,
            "justify_items": null,
            "left": null,
            "margin": null,
            "max_height": null,
            "max_width": null,
            "min_height": null,
            "min_width": null,
            "object_fit": null,
            "object_position": null,
            "order": null,
            "overflow": null,
            "overflow_x": null,
            "overflow_y": null,
            "padding": null,
            "right": null,
            "top": null,
            "visibility": null,
            "width": null
          }
        },
        "45937332c07846e586fdcfd8dbd76ff5": {
          "model_module": "@jupyter-widgets/controls",
          "model_name": "ProgressStyleModel",
          "model_module_version": "1.5.0",
          "state": {
            "_model_module": "@jupyter-widgets/controls",
            "_model_module_version": "1.5.0",
            "_model_name": "ProgressStyleModel",
            "_view_count": null,
            "_view_module": "@jupyter-widgets/base",
            "_view_module_version": "1.2.0",
            "_view_name": "StyleView",
            "bar_color": null,
            "description_width": ""
          }
        },
        "8fca18160b7341bfb4c418861d668d03": {
          "model_module": "@jupyter-widgets/controls",
          "model_name": "VBoxModel",
          "model_module_version": "1.5.0",
          "state": {
            "_dom_classes": [],
            "_model_module": "@jupyter-widgets/controls",
            "_model_module_version": "1.5.0",
            "_model_name": "VBoxModel",
            "_view_count": null,
            "_view_module": "@jupyter-widgets/controls",
            "_view_module_version": "1.5.0",
            "_view_name": "VBoxView",
            "box_style": "",
            "children": [
              "IPY_MODEL_da3f8ca59f454184a9407d4c242cc183",
              "IPY_MODEL_7d8cffd1071f4637960c4720df8a3c94"
            ],
            "layout": "IPY_MODEL_cce9e49f544146349bb64df52b27cf5a"
          }
        },
        "da3f8ca59f454184a9407d4c242cc183": {
          "model_module": "@jupyter-widgets/controls",
          "model_name": "LabelModel",
          "model_module_version": "1.5.0",
          "state": {
            "_dom_classes": [],
            "_model_module": "@jupyter-widgets/controls",
            "_model_module_version": "1.5.0",
            "_model_name": "LabelModel",
            "_view_count": null,
            "_view_module": "@jupyter-widgets/controls",
            "_view_module_version": "1.5.0",
            "_view_name": "LabelView",
            "description": "",
            "description_tooltip": null,
            "layout": "IPY_MODEL_e5f41e54b9d347de9bc621cf0c54bd5b",
            "placeholder": "​",
            "style": "IPY_MODEL_6720e416316f4c449f994ec81a89b9b0",
            "value": "0.011 MB of 0.011 MB uploaded\r"
          }
        },
        "7d8cffd1071f4637960c4720df8a3c94": {
          "model_module": "@jupyter-widgets/controls",
          "model_name": "FloatProgressModel",
          "model_module_version": "1.5.0",
          "state": {
            "_dom_classes": [],
            "_model_module": "@jupyter-widgets/controls",
            "_model_module_version": "1.5.0",
            "_model_name": "FloatProgressModel",
            "_view_count": null,
            "_view_module": "@jupyter-widgets/controls",
            "_view_module_version": "1.5.0",
            "_view_name": "ProgressView",
            "bar_style": "",
            "description": "",
            "description_tooltip": null,
            "layout": "IPY_MODEL_72e8b0f7bac8468fa91979ffd890280e",
            "max": 1,
            "min": 0,
            "orientation": "horizontal",
            "style": "IPY_MODEL_cca5c4dab4fb48d2a381693f399d6af3",
            "value": 1
          }
        },
        "cce9e49f544146349bb64df52b27cf5a": {
          "model_module": "@jupyter-widgets/base",
          "model_name": "LayoutModel",
          "model_module_version": "1.2.0",
          "state": {
            "_model_module": "@jupyter-widgets/base",
            "_model_module_version": "1.2.0",
            "_model_name": "LayoutModel",
            "_view_count": null,
            "_view_module": "@jupyter-widgets/base",
            "_view_module_version": "1.2.0",
            "_view_name": "LayoutView",
            "align_content": null,
            "align_items": null,
            "align_self": null,
            "border": null,
            "bottom": null,
            "display": null,
            "flex": null,
            "flex_flow": null,
            "grid_area": null,
            "grid_auto_columns": null,
            "grid_auto_flow": null,
            "grid_auto_rows": null,
            "grid_column": null,
            "grid_gap": null,
            "grid_row": null,
            "grid_template_areas": null,
            "grid_template_columns": null,
            "grid_template_rows": null,
            "height": null,
            "justify_content": null,
            "justify_items": null,
            "left": null,
            "margin": null,
            "max_height": null,
            "max_width": null,
            "min_height": null,
            "min_width": null,
            "object_fit": null,
            "object_position": null,
            "order": null,
            "overflow": null,
            "overflow_x": null,
            "overflow_y": null,
            "padding": null,
            "right": null,
            "top": null,
            "visibility": null,
            "width": null
          }
        },
        "e5f41e54b9d347de9bc621cf0c54bd5b": {
          "model_module": "@jupyter-widgets/base",
          "model_name": "LayoutModel",
          "model_module_version": "1.2.0",
          "state": {
            "_model_module": "@jupyter-widgets/base",
            "_model_module_version": "1.2.0",
            "_model_name": "LayoutModel",
            "_view_count": null,
            "_view_module": "@jupyter-widgets/base",
            "_view_module_version": "1.2.0",
            "_view_name": "LayoutView",
            "align_content": null,
            "align_items": null,
            "align_self": null,
            "border": null,
            "bottom": null,
            "display": null,
            "flex": null,
            "flex_flow": null,
            "grid_area": null,
            "grid_auto_columns": null,
            "grid_auto_flow": null,
            "grid_auto_rows": null,
            "grid_column": null,
            "grid_gap": null,
            "grid_row": null,
            "grid_template_areas": null,
            "grid_template_columns": null,
            "grid_template_rows": null,
            "height": null,
            "justify_content": null,
            "justify_items": null,
            "left": null,
            "margin": null,
            "max_height": null,
            "max_width": null,
            "min_height": null,
            "min_width": null,
            "object_fit": null,
            "object_position": null,
            "order": null,
            "overflow": null,
            "overflow_x": null,
            "overflow_y": null,
            "padding": null,
            "right": null,
            "top": null,
            "visibility": null,
            "width": null
          }
        },
        "6720e416316f4c449f994ec81a89b9b0": {
          "model_module": "@jupyter-widgets/controls",
          "model_name": "DescriptionStyleModel",
          "model_module_version": "1.5.0",
          "state": {
            "_model_module": "@jupyter-widgets/controls",
            "_model_module_version": "1.5.0",
            "_model_name": "DescriptionStyleModel",
            "_view_count": null,
            "_view_module": "@jupyter-widgets/base",
            "_view_module_version": "1.2.0",
            "_view_name": "StyleView",
            "description_width": ""
          }
        },
        "72e8b0f7bac8468fa91979ffd890280e": {
          "model_module": "@jupyter-widgets/base",
          "model_name": "LayoutModel",
          "model_module_version": "1.2.0",
          "state": {
            "_model_module": "@jupyter-widgets/base",
            "_model_module_version": "1.2.0",
            "_model_name": "LayoutModel",
            "_view_count": null,
            "_view_module": "@jupyter-widgets/base",
            "_view_module_version": "1.2.0",
            "_view_name": "LayoutView",
            "align_content": null,
            "align_items": null,
            "align_self": null,
            "border": null,
            "bottom": null,
            "display": null,
            "flex": null,
            "flex_flow": null,
            "grid_area": null,
            "grid_auto_columns": null,
            "grid_auto_flow": null,
            "grid_auto_rows": null,
            "grid_column": null,
            "grid_gap": null,
            "grid_row": null,
            "grid_template_areas": null,
            "grid_template_columns": null,
            "grid_template_rows": null,
            "height": null,
            "justify_content": null,
            "justify_items": null,
            "left": null,
            "margin": null,
            "max_height": null,
            "max_width": null,
            "min_height": null,
            "min_width": null,
            "object_fit": null,
            "object_position": null,
            "order": null,
            "overflow": null,
            "overflow_x": null,
            "overflow_y": null,
            "padding": null,
            "right": null,
            "top": null,
            "visibility": null,
            "width": null
          }
        },
        "cca5c4dab4fb48d2a381693f399d6af3": {
          "model_module": "@jupyter-widgets/controls",
          "model_name": "ProgressStyleModel",
          "model_module_version": "1.5.0",
          "state": {
            "_model_module": "@jupyter-widgets/controls",
            "_model_module_version": "1.5.0",
            "_model_name": "ProgressStyleModel",
            "_view_count": null,
            "_view_module": "@jupyter-widgets/base",
            "_view_module_version": "1.2.0",
            "_view_name": "StyleView",
            "bar_color": null,
            "description_width": ""
          }
        },
        "dccd901db33e483099a379269180b137": {
          "model_module": "@jupyter-widgets/controls",
          "model_name": "VBoxModel",
          "model_module_version": "1.5.0",
          "state": {
            "_dom_classes": [],
            "_model_module": "@jupyter-widgets/controls",
            "_model_module_version": "1.5.0",
            "_model_name": "VBoxModel",
            "_view_count": null,
            "_view_module": "@jupyter-widgets/controls",
            "_view_module_version": "1.5.0",
            "_view_name": "VBoxView",
            "box_style": "",
            "children": [
              "IPY_MODEL_1788a8caff134d229b483c78cb354a90",
              "IPY_MODEL_65406a92a1e547d0947ae04885a18b0d"
            ],
            "layout": "IPY_MODEL_3ae6ee9de4eb497db41a51d1068f11c1"
          }
        },
        "1788a8caff134d229b483c78cb354a90": {
          "model_module": "@jupyter-widgets/controls",
          "model_name": "LabelModel",
          "model_module_version": "1.5.0",
          "state": {
            "_dom_classes": [],
            "_model_module": "@jupyter-widgets/controls",
            "_model_module_version": "1.5.0",
            "_model_name": "LabelModel",
            "_view_count": null,
            "_view_module": "@jupyter-widgets/controls",
            "_view_module_version": "1.5.0",
            "_view_name": "LabelView",
            "description": "",
            "description_tooltip": null,
            "layout": "IPY_MODEL_1e604613206d407881f3815c2249f832",
            "placeholder": "​",
            "style": "IPY_MODEL_d91f1108b75d47738713be829e28b0c6",
            "value": "0.011 MB of 0.011 MB uploaded\r"
          }
        },
        "65406a92a1e547d0947ae04885a18b0d": {
          "model_module": "@jupyter-widgets/controls",
          "model_name": "FloatProgressModel",
          "model_module_version": "1.5.0",
          "state": {
            "_dom_classes": [],
            "_model_module": "@jupyter-widgets/controls",
            "_model_module_version": "1.5.0",
            "_model_name": "FloatProgressModel",
            "_view_count": null,
            "_view_module": "@jupyter-widgets/controls",
            "_view_module_version": "1.5.0",
            "_view_name": "ProgressView",
            "bar_style": "",
            "description": "",
            "description_tooltip": null,
            "layout": "IPY_MODEL_0d0ab7ec7b4d4bf3a783437001cde95c",
            "max": 1,
            "min": 0,
            "orientation": "horizontal",
            "style": "IPY_MODEL_94ff8c81d7e5480fa9eb87fa630d66ea",
            "value": 1
          }
        },
        "3ae6ee9de4eb497db41a51d1068f11c1": {
          "model_module": "@jupyter-widgets/base",
          "model_name": "LayoutModel",
          "model_module_version": "1.2.0",
          "state": {
            "_model_module": "@jupyter-widgets/base",
            "_model_module_version": "1.2.0",
            "_model_name": "LayoutModel",
            "_view_count": null,
            "_view_module": "@jupyter-widgets/base",
            "_view_module_version": "1.2.0",
            "_view_name": "LayoutView",
            "align_content": null,
            "align_items": null,
            "align_self": null,
            "border": null,
            "bottom": null,
            "display": null,
            "flex": null,
            "flex_flow": null,
            "grid_area": null,
            "grid_auto_columns": null,
            "grid_auto_flow": null,
            "grid_auto_rows": null,
            "grid_column": null,
            "grid_gap": null,
            "grid_row": null,
            "grid_template_areas": null,
            "grid_template_columns": null,
            "grid_template_rows": null,
            "height": null,
            "justify_content": null,
            "justify_items": null,
            "left": null,
            "margin": null,
            "max_height": null,
            "max_width": null,
            "min_height": null,
            "min_width": null,
            "object_fit": null,
            "object_position": null,
            "order": null,
            "overflow": null,
            "overflow_x": null,
            "overflow_y": null,
            "padding": null,
            "right": null,
            "top": null,
            "visibility": null,
            "width": null
          }
        },
        "1e604613206d407881f3815c2249f832": {
          "model_module": "@jupyter-widgets/base",
          "model_name": "LayoutModel",
          "model_module_version": "1.2.0",
          "state": {
            "_model_module": "@jupyter-widgets/base",
            "_model_module_version": "1.2.0",
            "_model_name": "LayoutModel",
            "_view_count": null,
            "_view_module": "@jupyter-widgets/base",
            "_view_module_version": "1.2.0",
            "_view_name": "LayoutView",
            "align_content": null,
            "align_items": null,
            "align_self": null,
            "border": null,
            "bottom": null,
            "display": null,
            "flex": null,
            "flex_flow": null,
            "grid_area": null,
            "grid_auto_columns": null,
            "grid_auto_flow": null,
            "grid_auto_rows": null,
            "grid_column": null,
            "grid_gap": null,
            "grid_row": null,
            "grid_template_areas": null,
            "grid_template_columns": null,
            "grid_template_rows": null,
            "height": null,
            "justify_content": null,
            "justify_items": null,
            "left": null,
            "margin": null,
            "max_height": null,
            "max_width": null,
            "min_height": null,
            "min_width": null,
            "object_fit": null,
            "object_position": null,
            "order": null,
            "overflow": null,
            "overflow_x": null,
            "overflow_y": null,
            "padding": null,
            "right": null,
            "top": null,
            "visibility": null,
            "width": null
          }
        },
        "d91f1108b75d47738713be829e28b0c6": {
          "model_module": "@jupyter-widgets/controls",
          "model_name": "DescriptionStyleModel",
          "model_module_version": "1.5.0",
          "state": {
            "_model_module": "@jupyter-widgets/controls",
            "_model_module_version": "1.5.0",
            "_model_name": "DescriptionStyleModel",
            "_view_count": null,
            "_view_module": "@jupyter-widgets/base",
            "_view_module_version": "1.2.0",
            "_view_name": "StyleView",
            "description_width": ""
          }
        },
        "0d0ab7ec7b4d4bf3a783437001cde95c": {
          "model_module": "@jupyter-widgets/base",
          "model_name": "LayoutModel",
          "model_module_version": "1.2.0",
          "state": {
            "_model_module": "@jupyter-widgets/base",
            "_model_module_version": "1.2.0",
            "_model_name": "LayoutModel",
            "_view_count": null,
            "_view_module": "@jupyter-widgets/base",
            "_view_module_version": "1.2.0",
            "_view_name": "LayoutView",
            "align_content": null,
            "align_items": null,
            "align_self": null,
            "border": null,
            "bottom": null,
            "display": null,
            "flex": null,
            "flex_flow": null,
            "grid_area": null,
            "grid_auto_columns": null,
            "grid_auto_flow": null,
            "grid_auto_rows": null,
            "grid_column": null,
            "grid_gap": null,
            "grid_row": null,
            "grid_template_areas": null,
            "grid_template_columns": null,
            "grid_template_rows": null,
            "height": null,
            "justify_content": null,
            "justify_items": null,
            "left": null,
            "margin": null,
            "max_height": null,
            "max_width": null,
            "min_height": null,
            "min_width": null,
            "object_fit": null,
            "object_position": null,
            "order": null,
            "overflow": null,
            "overflow_x": null,
            "overflow_y": null,
            "padding": null,
            "right": null,
            "top": null,
            "visibility": null,
            "width": null
          }
        },
        "94ff8c81d7e5480fa9eb87fa630d66ea": {
          "model_module": "@jupyter-widgets/controls",
          "model_name": "ProgressStyleModel",
          "model_module_version": "1.5.0",
          "state": {
            "_model_module": "@jupyter-widgets/controls",
            "_model_module_version": "1.5.0",
            "_model_name": "ProgressStyleModel",
            "_view_count": null,
            "_view_module": "@jupyter-widgets/base",
            "_view_module_version": "1.2.0",
            "_view_name": "StyleView",
            "bar_color": null,
            "description_width": ""
          }
        },
        "79b8e838457843158e606ec014907550": {
          "model_module": "@jupyter-widgets/controls",
          "model_name": "VBoxModel",
          "model_module_version": "1.5.0",
          "state": {
            "_dom_classes": [],
            "_model_module": "@jupyter-widgets/controls",
            "_model_module_version": "1.5.0",
            "_model_name": "VBoxModel",
            "_view_count": null,
            "_view_module": "@jupyter-widgets/controls",
            "_view_module_version": "1.5.0",
            "_view_name": "VBoxView",
            "box_style": "",
            "children": [
              "IPY_MODEL_a002cf403b3548dda879f93dbc14976b",
              "IPY_MODEL_2c8aa7da2db54e949dc34d9820179f20"
            ],
            "layout": "IPY_MODEL_45fbad985f494959bbfc915f17b41b71"
          }
        },
        "a002cf403b3548dda879f93dbc14976b": {
          "model_module": "@jupyter-widgets/controls",
          "model_name": "LabelModel",
          "model_module_version": "1.5.0",
          "state": {
            "_dom_classes": [],
            "_model_module": "@jupyter-widgets/controls",
            "_model_module_version": "1.5.0",
            "_model_name": "LabelModel",
            "_view_count": null,
            "_view_module": "@jupyter-widgets/controls",
            "_view_module_version": "1.5.0",
            "_view_name": "LabelView",
            "description": "",
            "description_tooltip": null,
            "layout": "IPY_MODEL_149b9dfaf29c4415b8c9fc0825cb4db9",
            "placeholder": "​",
            "style": "IPY_MODEL_ed53278a013a44ab80585c1320e51842",
            "value": "0.011 MB of 0.011 MB uploaded\r"
          }
        },
        "2c8aa7da2db54e949dc34d9820179f20": {
          "model_module": "@jupyter-widgets/controls",
          "model_name": "FloatProgressModel",
          "model_module_version": "1.5.0",
          "state": {
            "_dom_classes": [],
            "_model_module": "@jupyter-widgets/controls",
            "_model_module_version": "1.5.0",
            "_model_name": "FloatProgressModel",
            "_view_count": null,
            "_view_module": "@jupyter-widgets/controls",
            "_view_module_version": "1.5.0",
            "_view_name": "ProgressView",
            "bar_style": "",
            "description": "",
            "description_tooltip": null,
            "layout": "IPY_MODEL_2869aefe5f0547ba80dad80fa6da4a5b",
            "max": 1,
            "min": 0,
            "orientation": "horizontal",
            "style": "IPY_MODEL_96b380363e3348de973e8d11f2505c1d",
            "value": 1
          }
        },
        "45fbad985f494959bbfc915f17b41b71": {
          "model_module": "@jupyter-widgets/base",
          "model_name": "LayoutModel",
          "model_module_version": "1.2.0",
          "state": {
            "_model_module": "@jupyter-widgets/base",
            "_model_module_version": "1.2.0",
            "_model_name": "LayoutModel",
            "_view_count": null,
            "_view_module": "@jupyter-widgets/base",
            "_view_module_version": "1.2.0",
            "_view_name": "LayoutView",
            "align_content": null,
            "align_items": null,
            "align_self": null,
            "border": null,
            "bottom": null,
            "display": null,
            "flex": null,
            "flex_flow": null,
            "grid_area": null,
            "grid_auto_columns": null,
            "grid_auto_flow": null,
            "grid_auto_rows": null,
            "grid_column": null,
            "grid_gap": null,
            "grid_row": null,
            "grid_template_areas": null,
            "grid_template_columns": null,
            "grid_template_rows": null,
            "height": null,
            "justify_content": null,
            "justify_items": null,
            "left": null,
            "margin": null,
            "max_height": null,
            "max_width": null,
            "min_height": null,
            "min_width": null,
            "object_fit": null,
            "object_position": null,
            "order": null,
            "overflow": null,
            "overflow_x": null,
            "overflow_y": null,
            "padding": null,
            "right": null,
            "top": null,
            "visibility": null,
            "width": null
          }
        },
        "149b9dfaf29c4415b8c9fc0825cb4db9": {
          "model_module": "@jupyter-widgets/base",
          "model_name": "LayoutModel",
          "model_module_version": "1.2.0",
          "state": {
            "_model_module": "@jupyter-widgets/base",
            "_model_module_version": "1.2.0",
            "_model_name": "LayoutModel",
            "_view_count": null,
            "_view_module": "@jupyter-widgets/base",
            "_view_module_version": "1.2.0",
            "_view_name": "LayoutView",
            "align_content": null,
            "align_items": null,
            "align_self": null,
            "border": null,
            "bottom": null,
            "display": null,
            "flex": null,
            "flex_flow": null,
            "grid_area": null,
            "grid_auto_columns": null,
            "grid_auto_flow": null,
            "grid_auto_rows": null,
            "grid_column": null,
            "grid_gap": null,
            "grid_row": null,
            "grid_template_areas": null,
            "grid_template_columns": null,
            "grid_template_rows": null,
            "height": null,
            "justify_content": null,
            "justify_items": null,
            "left": null,
            "margin": null,
            "max_height": null,
            "max_width": null,
            "min_height": null,
            "min_width": null,
            "object_fit": null,
            "object_position": null,
            "order": null,
            "overflow": null,
            "overflow_x": null,
            "overflow_y": null,
            "padding": null,
            "right": null,
            "top": null,
            "visibility": null,
            "width": null
          }
        },
        "ed53278a013a44ab80585c1320e51842": {
          "model_module": "@jupyter-widgets/controls",
          "model_name": "DescriptionStyleModel",
          "model_module_version": "1.5.0",
          "state": {
            "_model_module": "@jupyter-widgets/controls",
            "_model_module_version": "1.5.0",
            "_model_name": "DescriptionStyleModel",
            "_view_count": null,
            "_view_module": "@jupyter-widgets/base",
            "_view_module_version": "1.2.0",
            "_view_name": "StyleView",
            "description_width": ""
          }
        },
        "2869aefe5f0547ba80dad80fa6da4a5b": {
          "model_module": "@jupyter-widgets/base",
          "model_name": "LayoutModel",
          "model_module_version": "1.2.0",
          "state": {
            "_model_module": "@jupyter-widgets/base",
            "_model_module_version": "1.2.0",
            "_model_name": "LayoutModel",
            "_view_count": null,
            "_view_module": "@jupyter-widgets/base",
            "_view_module_version": "1.2.0",
            "_view_name": "LayoutView",
            "align_content": null,
            "align_items": null,
            "align_self": null,
            "border": null,
            "bottom": null,
            "display": null,
            "flex": null,
            "flex_flow": null,
            "grid_area": null,
            "grid_auto_columns": null,
            "grid_auto_flow": null,
            "grid_auto_rows": null,
            "grid_column": null,
            "grid_gap": null,
            "grid_row": null,
            "grid_template_areas": null,
            "grid_template_columns": null,
            "grid_template_rows": null,
            "height": null,
            "justify_content": null,
            "justify_items": null,
            "left": null,
            "margin": null,
            "max_height": null,
            "max_width": null,
            "min_height": null,
            "min_width": null,
            "object_fit": null,
            "object_position": null,
            "order": null,
            "overflow": null,
            "overflow_x": null,
            "overflow_y": null,
            "padding": null,
            "right": null,
            "top": null,
            "visibility": null,
            "width": null
          }
        },
        "96b380363e3348de973e8d11f2505c1d": {
          "model_module": "@jupyter-widgets/controls",
          "model_name": "ProgressStyleModel",
          "model_module_version": "1.5.0",
          "state": {
            "_model_module": "@jupyter-widgets/controls",
            "_model_module_version": "1.5.0",
            "_model_name": "ProgressStyleModel",
            "_view_count": null,
            "_view_module": "@jupyter-widgets/base",
            "_view_module_version": "1.2.0",
            "_view_name": "StyleView",
            "bar_color": null,
            "description_width": ""
          }
        },
        "858d5f36a23c48918eb845036bb81b59": {
          "model_module": "@jupyter-widgets/controls",
          "model_name": "VBoxModel",
          "model_module_version": "1.5.0",
          "state": {
            "_dom_classes": [],
            "_model_module": "@jupyter-widgets/controls",
            "_model_module_version": "1.5.0",
            "_model_name": "VBoxModel",
            "_view_count": null,
            "_view_module": "@jupyter-widgets/controls",
            "_view_module_version": "1.5.0",
            "_view_name": "VBoxView",
            "box_style": "",
            "children": [
              "IPY_MODEL_5821bc79db9d4ba394c37ec9d1aa8d10",
              "IPY_MODEL_d968684d003d42be817792f7603cd047"
            ],
            "layout": "IPY_MODEL_24043ca7b308498caf79112093ac849d"
          }
        },
        "5821bc79db9d4ba394c37ec9d1aa8d10": {
          "model_module": "@jupyter-widgets/controls",
          "model_name": "LabelModel",
          "model_module_version": "1.5.0",
          "state": {
            "_dom_classes": [],
            "_model_module": "@jupyter-widgets/controls",
            "_model_module_version": "1.5.0",
            "_model_name": "LabelModel",
            "_view_count": null,
            "_view_module": "@jupyter-widgets/controls",
            "_view_module_version": "1.5.0",
            "_view_name": "LabelView",
            "description": "",
            "description_tooltip": null,
            "layout": "IPY_MODEL_7b5a7ff0e5f9405d9d9186436dd12dcf",
            "placeholder": "​",
            "style": "IPY_MODEL_c6d92514e01a48c2b27d436e418e8d54",
            "value": "Waiting for wandb.init()...\r"
          }
        },
        "d968684d003d42be817792f7603cd047": {
          "model_module": "@jupyter-widgets/controls",
          "model_name": "FloatProgressModel",
          "model_module_version": "1.5.0",
          "state": {
            "_dom_classes": [],
            "_model_module": "@jupyter-widgets/controls",
            "_model_module_version": "1.5.0",
            "_model_name": "FloatProgressModel",
            "_view_count": null,
            "_view_module": "@jupyter-widgets/controls",
            "_view_module_version": "1.5.0",
            "_view_name": "ProgressView",
            "bar_style": "",
            "description": "",
            "description_tooltip": null,
            "layout": "IPY_MODEL_2eae59ecba78495bb702f5818b0a6fd6",
            "max": 1,
            "min": 0,
            "orientation": "horizontal",
            "style": "IPY_MODEL_56caf7359ab34a02864fb6e3e0866bf4",
            "value": 0.3780812344555569
          }
        },
        "24043ca7b308498caf79112093ac849d": {
          "model_module": "@jupyter-widgets/base",
          "model_name": "LayoutModel",
          "model_module_version": "1.2.0",
          "state": {
            "_model_module": "@jupyter-widgets/base",
            "_model_module_version": "1.2.0",
            "_model_name": "LayoutModel",
            "_view_count": null,
            "_view_module": "@jupyter-widgets/base",
            "_view_module_version": "1.2.0",
            "_view_name": "LayoutView",
            "align_content": null,
            "align_items": null,
            "align_self": null,
            "border": null,
            "bottom": null,
            "display": null,
            "flex": null,
            "flex_flow": null,
            "grid_area": null,
            "grid_auto_columns": null,
            "grid_auto_flow": null,
            "grid_auto_rows": null,
            "grid_column": null,
            "grid_gap": null,
            "grid_row": null,
            "grid_template_areas": null,
            "grid_template_columns": null,
            "grid_template_rows": null,
            "height": null,
            "justify_content": null,
            "justify_items": null,
            "left": null,
            "margin": null,
            "max_height": null,
            "max_width": null,
            "min_height": null,
            "min_width": null,
            "object_fit": null,
            "object_position": null,
            "order": null,
            "overflow": null,
            "overflow_x": null,
            "overflow_y": null,
            "padding": null,
            "right": null,
            "top": null,
            "visibility": null,
            "width": null
          }
        },
        "7b5a7ff0e5f9405d9d9186436dd12dcf": {
          "model_module": "@jupyter-widgets/base",
          "model_name": "LayoutModel",
          "model_module_version": "1.2.0",
          "state": {
            "_model_module": "@jupyter-widgets/base",
            "_model_module_version": "1.2.0",
            "_model_name": "LayoutModel",
            "_view_count": null,
            "_view_module": "@jupyter-widgets/base",
            "_view_module_version": "1.2.0",
            "_view_name": "LayoutView",
            "align_content": null,
            "align_items": null,
            "align_self": null,
            "border": null,
            "bottom": null,
            "display": null,
            "flex": null,
            "flex_flow": null,
            "grid_area": null,
            "grid_auto_columns": null,
            "grid_auto_flow": null,
            "grid_auto_rows": null,
            "grid_column": null,
            "grid_gap": null,
            "grid_row": null,
            "grid_template_areas": null,
            "grid_template_columns": null,
            "grid_template_rows": null,
            "height": null,
            "justify_content": null,
            "justify_items": null,
            "left": null,
            "margin": null,
            "max_height": null,
            "max_width": null,
            "min_height": null,
            "min_width": null,
            "object_fit": null,
            "object_position": null,
            "order": null,
            "overflow": null,
            "overflow_x": null,
            "overflow_y": null,
            "padding": null,
            "right": null,
            "top": null,
            "visibility": null,
            "width": null
          }
        },
        "c6d92514e01a48c2b27d436e418e8d54": {
          "model_module": "@jupyter-widgets/controls",
          "model_name": "DescriptionStyleModel",
          "model_module_version": "1.5.0",
          "state": {
            "_model_module": "@jupyter-widgets/controls",
            "_model_module_version": "1.5.0",
            "_model_name": "DescriptionStyleModel",
            "_view_count": null,
            "_view_module": "@jupyter-widgets/base",
            "_view_module_version": "1.2.0",
            "_view_name": "StyleView",
            "description_width": ""
          }
        },
        "2eae59ecba78495bb702f5818b0a6fd6": {
          "model_module": "@jupyter-widgets/base",
          "model_name": "LayoutModel",
          "model_module_version": "1.2.0",
          "state": {
            "_model_module": "@jupyter-widgets/base",
            "_model_module_version": "1.2.0",
            "_model_name": "LayoutModel",
            "_view_count": null,
            "_view_module": "@jupyter-widgets/base",
            "_view_module_version": "1.2.0",
            "_view_name": "LayoutView",
            "align_content": null,
            "align_items": null,
            "align_self": null,
            "border": null,
            "bottom": null,
            "display": null,
            "flex": null,
            "flex_flow": null,
            "grid_area": null,
            "grid_auto_columns": null,
            "grid_auto_flow": null,
            "grid_auto_rows": null,
            "grid_column": null,
            "grid_gap": null,
            "grid_row": null,
            "grid_template_areas": null,
            "grid_template_columns": null,
            "grid_template_rows": null,
            "height": null,
            "justify_content": null,
            "justify_items": null,
            "left": null,
            "margin": null,
            "max_height": null,
            "max_width": null,
            "min_height": null,
            "min_width": null,
            "object_fit": null,
            "object_position": null,
            "order": null,
            "overflow": null,
            "overflow_x": null,
            "overflow_y": null,
            "padding": null,
            "right": null,
            "top": null,
            "visibility": null,
            "width": null
          }
        },
        "56caf7359ab34a02864fb6e3e0866bf4": {
          "model_module": "@jupyter-widgets/controls",
          "model_name": "ProgressStyleModel",
          "model_module_version": "1.5.0",
          "state": {
            "_model_module": "@jupyter-widgets/controls",
            "_model_module_version": "1.5.0",
            "_model_name": "ProgressStyleModel",
            "_view_count": null,
            "_view_module": "@jupyter-widgets/base",
            "_view_module_version": "1.2.0",
            "_view_name": "StyleView",
            "bar_color": null,
            "description_width": ""
          }
        }
      }
    }
  },
  "nbformat": 4,
  "nbformat_minor": 0
}